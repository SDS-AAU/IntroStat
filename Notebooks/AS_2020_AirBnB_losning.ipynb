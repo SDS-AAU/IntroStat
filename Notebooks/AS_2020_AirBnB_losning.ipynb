{
  "nbformat": 4,
  "nbformat_minor": 0,
  "metadata": {
    "colab": {
      "name": "AS 2020 - AirBnB",
      "provenance": [],
      "collapsed_sections": [],
      "include_colab_link": true
    },
    "kernelspec": {
      "name": "python3",
      "display_name": "Python 3"
    }
  },
  "cells": [
    {
      "cell_type": "markdown",
      "metadata": {
        "id": "view-in-github",
        "colab_type": "text"
      },
      "source": [
        "<a href=\"https://colab.research.google.com/github/SDS-AAU/IntroStat/blob/master/Notebooks/AS_2020_AirBnB_losning.ipynb\" target=\"_parent\"><img src=\"https://colab.research.google.com/assets/colab-badge.svg\" alt=\"Open In Colab\"/></a>"
      ]
    },
    {
      "cell_type": "markdown",
      "metadata": {
        "id": "PsXbXY70Em6y"
      },
      "source": [
        "# Anvendt Statistik Eksamen\n",
        "## HA - E2020\n",
        "\n",
        "\n",
        "I dag skal vi analysere AirBnB udlejning i København. Hvor ligger de dyreste steder? Hvem er de professionelle værter, der driver husleje op i hvoedstaden og hvilke faktorer har potentielt indflydelse på priserne på platformen?\n",
        "\n",
        "![](https://source.unsplash.com/fEJ6x-OnfXo)\n",
        "\n",
        "Notebook'en guider dig igennem opgaven. Priser fortolkes i DKK (selvom der ses $ i data grundet scraping fejl)\n",
        "\n",
        "Dataset er baseret på datasæt fra http://insideairbnb.com/\n",
        "opdateret Juni 2020."
      ]
    },
    {
      "cell_type": "markdown",
      "metadata": {
        "id": "6b3mRFpME1vb"
      },
      "source": [
        "## 1. EDA - Beskrivende statistik\n",
        "I den første del af opgaven skal i indlæse data og give et indledende overblik over indholdet i det givne AirBnB datasæt. "
      ]
    },
    {
      "cell_type": "code",
      "metadata": {
        "id": "mD_qlC6RHZEQ"
      },
      "source": [
        "import pandas as pd\n",
        "import seaborn as sns\n",
        "sns.set()"
      ],
      "execution_count": null,
      "outputs": []
    },
    {
      "cell_type": "markdown",
      "metadata": {
        "id": "upIQtfpqVe5w"
      },
      "source": [
        "Data kan findes på digital eksamen, moodle (csv.gz filer og på GitHub)\n",
        "\n",
        "* data airbnb: `https://sds-aau.github.io/IntroStat/Data/airbnb.csv.gz`\n",
        "* data cykelstativer: `https://sds-aau.github.io/IntroStat/Data/cykel.csv.gz`\n",
        "\n",
        "**der bruges gzip komprimering**"
      ]
    },
    {
      "cell_type": "code",
      "metadata": {
        "id": "aizJZrj4FIXB"
      },
      "source": [
        "# Indlæs data\n",
        "df = pd.read_csv('https://sds-aau.github.io/IntroStat/Data/airbnb.csv.gz', compression='gzip')"
      ],
      "execution_count": null,
      "outputs": []
    },
    {
      "cell_type": "code",
      "metadata": {
        "id": "tEA931xwFNrs",
        "colab": {
          "base_uri": "https://localhost:8080/"
        },
        "outputId": "ef1d541b-facd-447e-adaa-c5ed6a185233"
      },
      "source": [
        "# Giv et overblik over variable og videre information i datasættet\n",
        "df.info()"
      ],
      "execution_count": null,
      "outputs": [
        {
          "output_type": "stream",
          "text": [
            "<class 'pandas.core.frame.DataFrame'>\n",
            "RangeIndex: 28523 entries, 0 to 28522\n",
            "Data columns (total 32 columns):\n",
            " #   Column                          Non-Null Count  Dtype  \n",
            "---  ------                          --------------  -----  \n",
            " 0   id                              28523 non-null  int64  \n",
            " 1   name                            28466 non-null  object \n",
            " 2   host_id                         28523 non-null  int64  \n",
            " 3   host_name                       28511 non-null  object \n",
            " 4   host_since                      28512 non-null  object \n",
            " 5   host_location                   28430 non-null  object \n",
            " 6   host_acceptance_rate            16076 non-null  object \n",
            " 7   host_is_superhost               28512 non-null  object \n",
            " 8   host_listings_count             28512 non-null  float64\n",
            " 9   street                          28523 non-null  object \n",
            " 10  neighbourhood                   28523 non-null  object \n",
            " 11  neighbourhood_cleansed          28523 non-null  object \n",
            " 12  city                            28510 non-null  object \n",
            " 13  property_type                   28523 non-null  object \n",
            " 14  room_type                       28523 non-null  object \n",
            " 15  accommodates                    28523 non-null  int64  \n",
            " 16  bathrooms                       28511 non-null  float64\n",
            " 17  bedrooms                        28494 non-null  float64\n",
            " 18  beds                            28420 non-null  float64\n",
            " 19  bed_type                        28523 non-null  object \n",
            " 20  amenities                       28523 non-null  object \n",
            " 21  square_feet                     393 non-null    float64\n",
            " 22  price                           28523 non-null  object \n",
            " 23  security_deposit                14678 non-null  object \n",
            " 24  cleaning_fee                    19555 non-null  object \n",
            " 25  minimum_nights                  28523 non-null  int64  \n",
            " 26  maximum_nights                  28523 non-null  int64  \n",
            " 27  number_of_reviews               28523 non-null  int64  \n",
            " 28  review_scores_rating            23076 non-null  float64\n",
            " 29  cancellation_policy             28523 non-null  object \n",
            " 30  calculated_host_listings_count  28523 non-null  int64  \n",
            " 31  reviews_per_month               23555 non-null  float64\n",
            "dtypes: float64(7), int64(7), object(18)\n",
            "memory usage: 7.0+ MB\n"
          ],
          "name": "stdout"
        }
      ]
    },
    {
      "cell_type": "code",
      "metadata": {
        "id": "tQquH9UhFb4L",
        "colab": {
          "base_uri": "https://localhost:8080/"
        },
        "outputId": "6ef083b0-767c-4ed2-c31c-259ceb51c0b3"
      },
      "source": [
        "# Vis hvilke variable der har manglende værdier\n",
        "df.isnull().sum()"
      ],
      "execution_count": null,
      "outputs": [
        {
          "output_type": "execute_result",
          "data": {
            "text/plain": [
              "id                                    0\n",
              "name                                 57\n",
              "host_id                               0\n",
              "host_name                            12\n",
              "host_since                           11\n",
              "host_location                        93\n",
              "host_acceptance_rate              12447\n",
              "host_is_superhost                    11\n",
              "host_listings_count                  11\n",
              "street                                0\n",
              "neighbourhood                         0\n",
              "neighbourhood_cleansed                0\n",
              "city                                 13\n",
              "property_type                         0\n",
              "room_type                             0\n",
              "accommodates                          0\n",
              "bathrooms                            12\n",
              "bedrooms                             29\n",
              "beds                                103\n",
              "bed_type                              0\n",
              "amenities                             0\n",
              "square_feet                       28130\n",
              "price                                 0\n",
              "security_deposit                  13845\n",
              "cleaning_fee                       8968\n",
              "minimum_nights                        0\n",
              "maximum_nights                        0\n",
              "number_of_reviews                     0\n",
              "review_scores_rating               5447\n",
              "cancellation_policy                   0\n",
              "calculated_host_listings_count        0\n",
              "reviews_per_month                  4968\n",
              "dtype: int64"
            ]
          },
          "metadata": {
            "tags": []
          },
          "execution_count": 4
        }
      ]
    },
    {
      "cell_type": "code",
      "metadata": {
        "id": "8RSWjOEHeyvy",
        "colab": {
          "base_uri": "https://localhost:8080/"
        },
        "outputId": "99ddcf0e-70bf-4f1a-df96-f740ffc760f5"
      },
      "source": [
        "df.columns"
      ],
      "execution_count": null,
      "outputs": [
        {
          "output_type": "execute_result",
          "data": {
            "text/plain": [
              "Index(['id', 'name', 'host_id', 'host_name', 'host_since', 'host_location',\n",
              "       'host_acceptance_rate', 'host_is_superhost', 'host_listings_count',\n",
              "       'street', 'neighbourhood', 'neighbourhood_cleansed', 'city',\n",
              "       'property_type', 'room_type', 'accommodates', 'bathrooms', 'bedrooms',\n",
              "       'beds', 'bed_type', 'amenities', 'square_feet', 'price',\n",
              "       'security_deposit', 'cleaning_fee', 'minimum_nights', 'maximum_nights',\n",
              "       'number_of_reviews', 'review_scores_rating', 'cancellation_policy',\n",
              "       'calculated_host_listings_count', 'reviews_per_month'],\n",
              "      dtype='object')"
            ]
          },
          "metadata": {
            "tags": []
          },
          "execution_count": 5
        }
      ]
    },
    {
      "cell_type": "code",
      "metadata": {
        "id": "V0ivDIt_MUTD"
      },
      "source": [
        "#Drop variable alle host_ variable på nær host_id (den skal bruges til analyse)\n",
        "#Drop også \"neighbourhood\", \"city\", 'square_feet'\n",
        "\n",
        "# du kan bruge df.columns komando for nemmere copy-paste af variablenavne \n",
        "\n",
        "\n",
        "df.drop(['host_name', 'host_since', 'host_location',\n",
        "       'host_acceptance_rate', 'host_is_superhost', 'host_listings_count', 'neighbourhood', 'city','square_feet'], axis = 'columns', inplace=True)"
      ],
      "execution_count": null,
      "outputs": []
    },
    {
      "cell_type": "code",
      "metadata": {
        "id": "FazPu4hUFRzp",
        "colab": {
          "base_uri": "https://localhost:8080/",
          "height": 482
        },
        "outputId": "599dc676-0008-44ee-e4f6-46aa0694f623"
      },
      "source": [
        "# Vis datasættets 5 første rækker\n",
        "df.head()"
      ],
      "execution_count": null,
      "outputs": [
        {
          "output_type": "execute_result",
          "data": {
            "text/html": [
              "<div>\n",
              "<style scoped>\n",
              "    .dataframe tbody tr th:only-of-type {\n",
              "        vertical-align: middle;\n",
              "    }\n",
              "\n",
              "    .dataframe tbody tr th {\n",
              "        vertical-align: top;\n",
              "    }\n",
              "\n",
              "    .dataframe thead th {\n",
              "        text-align: right;\n",
              "    }\n",
              "</style>\n",
              "<table border=\"1\" class=\"dataframe\">\n",
              "  <thead>\n",
              "    <tr style=\"text-align: right;\">\n",
              "      <th></th>\n",
              "      <th>id</th>\n",
              "      <th>name</th>\n",
              "      <th>host_id</th>\n",
              "      <th>street</th>\n",
              "      <th>neighbourhood_cleansed</th>\n",
              "      <th>property_type</th>\n",
              "      <th>room_type</th>\n",
              "      <th>accommodates</th>\n",
              "      <th>bathrooms</th>\n",
              "      <th>bedrooms</th>\n",
              "      <th>beds</th>\n",
              "      <th>bed_type</th>\n",
              "      <th>amenities</th>\n",
              "      <th>price</th>\n",
              "      <th>security_deposit</th>\n",
              "      <th>cleaning_fee</th>\n",
              "      <th>minimum_nights</th>\n",
              "      <th>maximum_nights</th>\n",
              "      <th>number_of_reviews</th>\n",
              "      <th>review_scores_rating</th>\n",
              "      <th>cancellation_policy</th>\n",
              "      <th>calculated_host_listings_count</th>\n",
              "      <th>reviews_per_month</th>\n",
              "    </tr>\n",
              "  </thead>\n",
              "  <tbody>\n",
              "    <tr>\n",
              "      <th>0</th>\n",
              "      <td>6983</td>\n",
              "      <td>Copenhagen 'N Livin'</td>\n",
              "      <td>16774</td>\n",
              "      <td>Copenhagen, Hovedstaden, Denmark</td>\n",
              "      <td>Nrrebro</td>\n",
              "      <td>Apartment</td>\n",
              "      <td>Private room</td>\n",
              "      <td>2</td>\n",
              "      <td>1.0</td>\n",
              "      <td>1.0</td>\n",
              "      <td>1.0</td>\n",
              "      <td>Real Bed</td>\n",
              "      <td>{TV,\"Cable TV\",Wifi,Kitchen,\"Paid parking off ...</td>\n",
              "      <td>$365.00</td>\n",
              "      <td>$0.00</td>\n",
              "      <td>$33.00</td>\n",
              "      <td>2</td>\n",
              "      <td>15</td>\n",
              "      <td>168</td>\n",
              "      <td>96.0</td>\n",
              "      <td>moderate</td>\n",
              "      <td>1</td>\n",
              "      <td>1.28</td>\n",
              "    </tr>\n",
              "    <tr>\n",
              "      <th>1</th>\n",
              "      <td>26057</td>\n",
              "      <td>Lovely house - most attractive area</td>\n",
              "      <td>109777</td>\n",
              "      <td>Copenhagen, Hovedstaden, Denmark</td>\n",
              "      <td>Indre By</td>\n",
              "      <td>House</td>\n",
              "      <td>Entire home/apt</td>\n",
              "      <td>6</td>\n",
              "      <td>1.5</td>\n",
              "      <td>4.0</td>\n",
              "      <td>4.0</td>\n",
              "      <td>Real Bed</td>\n",
              "      <td>{TV,Wifi,Kitchen,\"Indoor fireplace\",Heating,\"F...</td>\n",
              "      <td>$2,398.00</td>\n",
              "      <td>$5,000.00</td>\n",
              "      <td>$1,100.00</td>\n",
              "      <td>3</td>\n",
              "      <td>30</td>\n",
              "      <td>50</td>\n",
              "      <td>98.0</td>\n",
              "      <td>moderate</td>\n",
              "      <td>1</td>\n",
              "      <td>0.62</td>\n",
              "    </tr>\n",
              "    <tr>\n",
              "      <th>2</th>\n",
              "      <td>26473</td>\n",
              "      <td>City Centre Townhouse Sleeps 1-12 persons</td>\n",
              "      <td>112210</td>\n",
              "      <td>Copenhagen, Hovedstaden, Denmark</td>\n",
              "      <td>Indre By</td>\n",
              "      <td>House</td>\n",
              "      <td>Entire home/apt</td>\n",
              "      <td>12</td>\n",
              "      <td>2.5</td>\n",
              "      <td>6.0</td>\n",
              "      <td>7.0</td>\n",
              "      <td>Real Bed</td>\n",
              "      <td>{TV,Internet,Wifi,Kitchen,\"Buzzer/wireless int...</td>\n",
              "      <td>$3,096.00</td>\n",
              "      <td>$3,726.00</td>\n",
              "      <td>$522.00</td>\n",
              "      <td>3</td>\n",
              "      <td>31</td>\n",
              "      <td>293</td>\n",
              "      <td>91.0</td>\n",
              "      <td>moderate</td>\n",
              "      <td>1</td>\n",
              "      <td>2.48</td>\n",
              "    </tr>\n",
              "    <tr>\n",
              "      <th>3</th>\n",
              "      <td>29118</td>\n",
              "      <td>Best Location in Cool Istedgade</td>\n",
              "      <td>125230</td>\n",
              "      <td>Copenhagen, Hovedstaden, Denmark</td>\n",
              "      <td>Vesterbro-Kongens Enghave</td>\n",
              "      <td>Apartment</td>\n",
              "      <td>Entire home/apt</td>\n",
              "      <td>2</td>\n",
              "      <td>1.0</td>\n",
              "      <td>1.0</td>\n",
              "      <td>1.0</td>\n",
              "      <td>Real Bed</td>\n",
              "      <td>{Wifi,Kitchen,\"Paid parking off premises\",Heat...</td>\n",
              "      <td>$797.00</td>\n",
              "      <td>NaN</td>\n",
              "      <td>$300.00</td>\n",
              "      <td>7</td>\n",
              "      <td>14</td>\n",
              "      <td>22</td>\n",
              "      <td>98.0</td>\n",
              "      <td>strict_14_with_grace_period</td>\n",
              "      <td>1</td>\n",
              "      <td>0.18</td>\n",
              "    </tr>\n",
              "    <tr>\n",
              "      <th>4</th>\n",
              "      <td>29618</td>\n",
              "      <td>Artsy and familyfriendly home in lovely Copenh...</td>\n",
              "      <td>127577</td>\n",
              "      <td>Copenhagen, Hovedstaden, Denmark</td>\n",
              "      <td>sterbro</td>\n",
              "      <td>Apartment</td>\n",
              "      <td>Entire home/apt</td>\n",
              "      <td>4</td>\n",
              "      <td>1.0</td>\n",
              "      <td>3.0</td>\n",
              "      <td>3.0</td>\n",
              "      <td>Real Bed</td>\n",
              "      <td>{TV,Internet,Wifi,Kitchen,\"Buzzer/wireless int...</td>\n",
              "      <td>$857.00</td>\n",
              "      <td>NaN</td>\n",
              "      <td>$75.00</td>\n",
              "      <td>7</td>\n",
              "      <td>31</td>\n",
              "      <td>90</td>\n",
              "      <td>94.0</td>\n",
              "      <td>moderate</td>\n",
              "      <td>1</td>\n",
              "      <td>0.75</td>\n",
              "    </tr>\n",
              "  </tbody>\n",
              "</table>\n",
              "</div>"
            ],
            "text/plain": [
              "      id  ... reviews_per_month\n",
              "0   6983  ...              1.28\n",
              "1  26057  ...              0.62\n",
              "2  26473  ...              2.48\n",
              "3  29118  ...              0.18\n",
              "4  29618  ...              0.75\n",
              "\n",
              "[5 rows x 23 columns]"
            ]
          },
          "metadata": {
            "tags": []
          },
          "execution_count": 7
        }
      ]
    },
    {
      "cell_type": "markdown",
      "metadata": {
        "id": "kN9cXHwnJ_rg"
      },
      "source": [
        "## 2. Rengøring og rensning af data"
      ]
    },
    {
      "cell_type": "code",
      "metadata": {
        "id": "62bxSykCJxHI"
      },
      "source": [
        "# Udsmid manglende værdier i variable hvor der mangler op til og med 103 observationer \n",
        "# dvs. variable med flere manglende observationer end 103 skal ikke renses for manglende observationer\n",
        "\n",
        "df.dropna(subset=['name', 'bathrooms', 'bedrooms', 'beds'], inplace=True)"
      ],
      "execution_count": null,
      "outputs": []
    },
    {
      "cell_type": "code",
      "metadata": {
        "id": "3_8QmcGlLmYe"
      },
      "source": [
        "# Her omdannes \"price\" til en float (numerisk variabel) og får fjernet \"$\" og \",\" - det har vi gjort for jer.\n",
        "df.price = df.price.replace('[\\$,]', '', regex=True).astype(float)"
      ],
      "execution_count": null,
      "outputs": []
    },
    {
      "cell_type": "markdown",
      "metadata": {
        "id": "ic3pmmG9jz30"
      },
      "source": [
        "## 3. Frekvensberegninger "
      ]
    },
    {
      "cell_type": "code",
      "metadata": {
        "id": "mKUIHVw-OEE_",
        "colab": {
          "base_uri": "https://localhost:8080/"
        },
        "outputId": "6737056c-00d7-4ad2-be4f-b9e207839188"
      },
      "source": [
        "# Hvor mange AirBnB værelser/lejligheder findes i de forskellige bydele? - \"neighbourhood_cleansed\"\n",
        "# Hvilken bydel har flest udbudte værelser/lejligheder? \n",
        "df.neighbourhood_cleansed.value_counts()"
      ],
      "execution_count": null,
      "outputs": [
        {
          "output_type": "execute_result",
          "data": {
            "text/plain": [
              "Nrrebro                      5135\n",
              "Vesterbro-Kongens Enghave    4428\n",
              "Indre By                     3770\n",
              "Frederiksberg                3329\n",
              "sterbro                      2980\n",
              "Amager Vest                  2556\n",
              "Amager st                    2156\n",
              "Bispebjerg                   1439\n",
              "Valby                        1224\n",
              "Vanlse                        777\n",
              "Brnshj-Husum                  542\n",
              "Name: neighbourhood_cleansed, dtype: int64"
            ]
          },
          "metadata": {
            "tags": []
          },
          "execution_count": 10
        }
      ]
    },
    {
      "cell_type": "markdown",
      "metadata": {
        "id": "a-4Raxmc57of"
      },
      "source": [
        "SVAR: Nørrebro har de fleste..."
      ]
    },
    {
      "cell_type": "code",
      "metadata": {
        "id": "zVOJ_xEmlNCV",
        "colab": {
          "base_uri": "https://localhost:8080/"
        },
        "outputId": "75c9a86d-e5ed-495d-c2d9-9162540447dd"
      },
      "source": [
        "# Beskriv frekvensfordelinger for \"price\" variablen (min, max, mean, std.afv.)\n",
        "df.price.describe()"
      ],
      "execution_count": null,
      "outputs": [
        {
          "output_type": "execute_result",
          "data": {
            "text/plain": [
              "count    28336.000000\n",
              "mean       850.099944\n",
              "std       1067.952048\n",
              "min          0.000000\n",
              "25%        498.000000\n",
              "50%        698.000000\n",
              "75%        996.000000\n",
              "max      69175.000000\n",
              "Name: price, dtype: float64"
            ]
          },
          "metadata": {
            "tags": []
          },
          "execution_count": 11
        }
      ]
    },
    {
      "cell_type": "markdown",
      "metadata": {
        "id": "WIc_Wckehain"
      },
      "source": [
        "Fortolk beskrivende statistikker af variablen. Hvad for en fordeling ses der? Hvordan kan man muligvis forklare maksimalværdien?\n",
        "\n"
      ]
    },
    {
      "cell_type": "code",
      "metadata": {
        "id": "8zsLr24XmV1s"
      },
      "source": [
        "# Med udgangspunkt i \"price\", beskær datasættet til 95. percentil (95 inkl.)\n",
        "df = df[df.price <= df.price.quantile(.95)]"
      ],
      "execution_count": null,
      "outputs": []
    },
    {
      "cell_type": "code",
      "metadata": {
        "id": "QGU3IRp5nIc7",
        "colab": {
          "base_uri": "https://localhost:8080/"
        },
        "outputId": "9acc2fe5-8316-4043-e654-c436057c835d"
      },
      "source": [
        "# Tjek maxprisen for en AirBnB lejlighed efter subsetting. \n",
        "df.price.max()"
      ],
      "execution_count": null,
      "outputs": [
        {
          "output_type": "execute_result",
          "data": {
            "text/plain": [
              "1701.0"
            ]
          },
          "metadata": {
            "tags": []
          },
          "execution_count": 13
        }
      ]
    },
    {
      "cell_type": "code",
      "metadata": {
        "id": "7-pZZUYG7M_Q"
      },
      "source": [
        "sns.set()"
      ],
      "execution_count": null,
      "outputs": []
    },
    {
      "cell_type": "code",
      "metadata": {
        "id": "mapxY20MvGdK",
        "colab": {
          "base_uri": "https://localhost:8080/",
          "height": 357
        },
        "outputId": "6f53833a-7830-4a42-c7c2-5826b075543a"
      },
      "source": [
        "# Lav et histogram over prisfordelingen\n",
        "sns.distplot(df.price)"
      ],
      "execution_count": null,
      "outputs": [
        {
          "output_type": "stream",
          "text": [
            "/usr/local/lib/python3.6/dist-packages/seaborn/distributions.py:2551: FutureWarning: `distplot` is a deprecated function and will be removed in a future version. Please adapt your code to use either `displot` (a figure-level function with similar flexibility) or `histplot` (an axes-level function for histograms).\n",
            "  warnings.warn(msg, FutureWarning)\n"
          ],
          "name": "stderr"
        },
        {
          "output_type": "execute_result",
          "data": {
            "text/plain": [
              "<matplotlib.axes._subplots.AxesSubplot at 0x7fc3e23eb358>"
            ]
          },
          "metadata": {
            "tags": []
          },
          "execution_count": 16
        },
        {
          "output_type": "display_data",
          "data": {
            "image/png": "[encoded data removed]",
            "text/plain": [
              "<Figure size 432x288 with 1 Axes>"
            ]
          },
          "metadata": {
            "tags": []
          }
        }
      ]
    },
    {
      "cell_type": "markdown",
      "metadata": {
        "id": "BrH6-IbYkvmL"
      },
      "source": [
        "Hvordan er fordelingen nu (venstreskæv, højreskæv, normaltfordelt? - kan man sige det bare ved at analysere visuelt?) "
      ]
    },
    {
      "cell_type": "code",
      "metadata": {
        "id": "WPFEWarUrlwq",
        "colab": {
          "base_uri": "https://localhost:8080/"
        },
        "outputId": "32714736-45cc-480b-e031-f3fcf4e51484"
      },
      "source": [
        "# Vis den gennemsnitlige \"price\" grupperet på \"neighbourhood_cleansed\" \n",
        "# Hvilket nabolag er det dyreste?  \n",
        "df.groupby('neighbourhood_cleansed').price.mean().sort_values(ascending=False)"
      ],
      "execution_count": null,
      "outputs": [
        {
          "output_type": "execute_result",
          "data": {
            "text/plain": [
              "neighbourhood_cleansed\n",
              "Indre By                     930.789124\n",
              "Amager Vest                  782.932410\n",
              "Vesterbro-Kongens Enghave    774.199581\n",
              "Frederiksberg                758.407268\n",
              "sterbro                      746.573701\n",
              "Nrrebro                      681.047026\n",
              "Amager st                    679.906280\n",
              "Brnshj-Husum                 657.954459\n",
              "Valby                        636.997492\n",
              "Vanlse                       618.809211\n",
              "Bispebjerg                   545.411806\n",
              "Name: price, dtype: float64"
            ]
          },
          "metadata": {
            "tags": []
          },
          "execution_count": 17
        }
      ]
    },
    {
      "cell_type": "code",
      "metadata": {
        "id": "TCstAqdfsRcl",
        "colab": {
          "base_uri": "https://localhost:8080/",
          "height": 303
        },
        "outputId": "4e60536a-3a65-41f4-cf9e-de3bd9774d33"
      },
      "source": [
        "# lav et boxplot over den gennemsnitlige \"price\" fordelt på nabolag\n",
        "\n",
        "sns.boxplot(data = df, x = \"price\", y = \"neighbourhood_cleansed\")"
      ],
      "execution_count": null,
      "outputs": [
        {
          "output_type": "execute_result",
          "data": {
            "text/plain": [
              "<matplotlib.axes._subplots.AxesSubplot at 0x7fc3e0af0320>"
            ]
          },
          "metadata": {
            "tags": []
          },
          "execution_count": 18
        },
        {
          "output_type": "display_data",
          "data": {
            "image/png": "[encoded data removed]",
            "text/plain": [
              "<Figure size 432x288 with 1 Axes>"
            ]
          },
          "metadata": {
            "tags": []
          }
        }
      ]
    },
    {
      "cell_type": "code",
      "metadata": {
        "id": "WXuJRkkdqRrH",
        "colab": {
          "base_uri": "https://localhost:8080/"
        },
        "outputId": "36e2e5b9-aaf3-435b-80de-4471f7a17ea1"
      },
      "source": [
        "# Lav en optælling af observationer for de forskellige typer af boliger - \"property_type\"\n",
        "df.property_type.value_counts()"
      ],
      "execution_count": null,
      "outputs": [
        {
          "output_type": "execute_result",
          "data": {
            "text/plain": [
              "Apartment                 22859\n",
              "Condominium                1596\n",
              "House                      1221\n",
              "Townhouse                   471\n",
              "Serviced apartment          286\n",
              "Loft                        194\n",
              "Villa                       149\n",
              "Guesthouse                   23\n",
              "Guest suite                  21\n",
              "Bungalow                     20\n",
              "Bed and breakfast            19\n",
              "Boat                         18\n",
              "Hostel                       16\n",
              "Houseboat                    16\n",
              "Other                        13\n",
              "Hotel                        11\n",
              "Tiny house                   11\n",
              "Cabin                        10\n",
              "Cottage                       4\n",
              "Boutique hotel                3\n",
              "Hut                           3\n",
              "Lighthouse                    1\n",
              "Casa particular (Cuba)        1\n",
              "Tent                          1\n",
              "Island                        1\n",
              "Camper/RV                     1\n",
              "Barn                          1\n",
              "Earth house                   1\n",
              "Name: property_type, dtype: int64"
            ]
          },
          "metadata": {
            "tags": []
          },
          "execution_count": 19
        }
      ]
    },
    {
      "cell_type": "code",
      "metadata": {
        "id": "nTOcsJzxn5L6"
      },
      "source": [
        "# filrer data, således der kun beholdes observationer af de 3 hyppigste kategorier\n",
        "# her bruger vi \"isin\" komando for at definere tilladte kategorier\n",
        "\n",
        "df = df[df.property_type.isin(['Apartment', 'Condominium', 'House'])]"
      ],
      "execution_count": null,
      "outputs": []
    },
    {
      "cell_type": "code",
      "metadata": {
        "id": "XACDYNKBtyZL",
        "colab": {
          "base_uri": "https://localhost:8080/"
        },
        "outputId": "f36e60ed-635a-4175-8c8b-bf3663c1c912"
      },
      "source": [
        "# Lav en optælling af observationer for de forskellige typer af værelser - \"room_type\"\n",
        "df.room_type.value_counts()"
      ],
      "execution_count": null,
      "outputs": [
        {
          "output_type": "execute_result",
          "data": {
            "text/plain": [
              "Entire home/apt    21554\n",
              "Private room        4056\n",
              "Name: room_type, dtype: int64"
            ]
          },
          "metadata": {
            "tags": []
          },
          "execution_count": 23
        }
      ]
    },
    {
      "cell_type": "code",
      "metadata": {
        "id": "9P__TsdjowP9"
      },
      "source": [
        "# fortag den samme filtrering for \"room_type\", hvor der kun beholdes de 2 hyppigste kategorier\n",
        "df = df[df.room_type.isin(['Entire home/apt', 'Private room'])]"
      ],
      "execution_count": null,
      "outputs": []
    },
    {
      "cell_type": "code",
      "metadata": {
        "id": "am0O3KH1yI3B",
        "colab": {
          "base_uri": "https://localhost:8080/",
          "height": 417
        },
        "outputId": "354c335b-8b4d-42fd-ede5-b55a49884c3c"
      },
      "source": [
        "# Hvad er den bydel med den højeste andel af huse ('House') på platformen? Brug pd.crosstab og normaliseing \n",
        "# (columns eller index lige efter den rækkefølge som du indlæser dine variable)\n",
        "\n",
        "pd.crosstab(df.neighbourhood_cleansed, df.property_type, normalize='index')"
      ],
      "execution_count": null,
      "outputs": [
        {
          "output_type": "execute_result",
          "data": {
            "text/html": [
              "<div>\n",
              "<style scoped>\n",
              "    .dataframe tbody tr th:only-of-type {\n",
              "        vertical-align: middle;\n",
              "    }\n",
              "\n",
              "    .dataframe tbody tr th {\n",
              "        vertical-align: top;\n",
              "    }\n",
              "\n",
              "    .dataframe thead th {\n",
              "        text-align: right;\n",
              "    }\n",
              "</style>\n",
              "<table border=\"1\" class=\"dataframe\">\n",
              "  <thead>\n",
              "    <tr style=\"text-align: right;\">\n",
              "      <th>property_type</th>\n",
              "      <th>Apartment</th>\n",
              "      <th>Condominium</th>\n",
              "      <th>House</th>\n",
              "    </tr>\n",
              "    <tr>\n",
              "      <th>neighbourhood_cleansed</th>\n",
              "      <th></th>\n",
              "      <th></th>\n",
              "      <th></th>\n",
              "    </tr>\n",
              "  </thead>\n",
              "  <tbody>\n",
              "    <tr>\n",
              "      <th>Amager Vest</th>\n",
              "      <td>0.812726</td>\n",
              "      <td>0.067690</td>\n",
              "      <td>0.119585</td>\n",
              "    </tr>\n",
              "    <tr>\n",
              "      <th>Amager st</th>\n",
              "      <td>0.830160</td>\n",
              "      <td>0.078744</td>\n",
              "      <td>0.091096</td>\n",
              "    </tr>\n",
              "    <tr>\n",
              "      <th>Bispebjerg</th>\n",
              "      <td>0.895040</td>\n",
              "      <td>0.056794</td>\n",
              "      <td>0.048167</td>\n",
              "    </tr>\n",
              "    <tr>\n",
              "      <th>Brnshj-Husum</th>\n",
              "      <td>0.490066</td>\n",
              "      <td>0.052980</td>\n",
              "      <td>0.456954</td>\n",
              "    </tr>\n",
              "    <tr>\n",
              "      <th>Frederiksberg</th>\n",
              "      <td>0.909002</td>\n",
              "      <td>0.073773</td>\n",
              "      <td>0.017225</td>\n",
              "    </tr>\n",
              "    <tr>\n",
              "      <th>Indre By</th>\n",
              "      <td>0.926142</td>\n",
              "      <td>0.062865</td>\n",
              "      <td>0.010993</td>\n",
              "    </tr>\n",
              "    <tr>\n",
              "      <th>Nrrebro</th>\n",
              "      <td>0.948537</td>\n",
              "      <td>0.050252</td>\n",
              "      <td>0.001211</td>\n",
              "    </tr>\n",
              "    <tr>\n",
              "      <th>Valby</th>\n",
              "      <td>0.773551</td>\n",
              "      <td>0.054348</td>\n",
              "      <td>0.172101</td>\n",
              "    </tr>\n",
              "    <tr>\n",
              "      <th>Vanlse</th>\n",
              "      <td>0.714286</td>\n",
              "      <td>0.064935</td>\n",
              "      <td>0.220779</td>\n",
              "    </tr>\n",
              "    <tr>\n",
              "      <th>Vesterbro-Kongens Enghave</th>\n",
              "      <td>0.925517</td>\n",
              "      <td>0.063912</td>\n",
              "      <td>0.010572</td>\n",
              "    </tr>\n",
              "    <tr>\n",
              "      <th>sterbro</th>\n",
              "      <td>0.933087</td>\n",
              "      <td>0.058041</td>\n",
              "      <td>0.008872</td>\n",
              "    </tr>\n",
              "  </tbody>\n",
              "</table>\n",
              "</div>"
            ],
            "text/plain": [
              "property_type              Apartment  Condominium     House\n",
              "neighbourhood_cleansed                                     \n",
              "Amager Vest                 0.812726     0.067690  0.119585\n",
              "Amager st                   0.830160     0.078744  0.091096\n",
              "Bispebjerg                  0.895040     0.056794  0.048167\n",
              "Brnshj-Husum                0.490066     0.052980  0.456954\n",
              "Frederiksberg               0.909002     0.073773  0.017225\n",
              "Indre By                    0.926142     0.062865  0.010993\n",
              "Nrrebro                     0.948537     0.050252  0.001211\n",
              "Valby                       0.773551     0.054348  0.172101\n",
              "Vanlse                      0.714286     0.064935  0.220779\n",
              "Vesterbro-Kongens Enghave   0.925517     0.063912  0.010572\n",
              "sterbro                     0.933087     0.058041  0.008872"
            ]
          },
          "metadata": {
            "tags": []
          },
          "execution_count": 25
        }
      ]
    },
    {
      "cell_type": "code",
      "metadata": {
        "id": "CW9aaCgryNRj",
        "colab": {
          "base_uri": "https://localhost:8080/",
          "height": 417
        },
        "outputId": "662efe3f-24e3-4f4e-bedd-15f30f603e17"
      },
      "source": [
        "# Brug crosstab igen til at finde gennemsnitlige priser (defineres som values og aggfunc - \n",
        "# læs documentation for funktionen) opdelt på bydele og hustyper)\n",
        "\n",
        "pd.crosstab(df.neighbourhood_cleansed, df.property_type, values=df.price, aggfunc='mean')"
      ],
      "execution_count": null,
      "outputs": [
        {
          "output_type": "execute_result",
          "data": {
            "text/html": [
              "<div>\n",
              "<style scoped>\n",
              "    .dataframe tbody tr th:only-of-type {\n",
              "        vertical-align: middle;\n",
              "    }\n",
              "\n",
              "    .dataframe tbody tr th {\n",
              "        vertical-align: top;\n",
              "    }\n",
              "\n",
              "    .dataframe thead th {\n",
              "        text-align: right;\n",
              "    }\n",
              "</style>\n",
              "<table border=\"1\" class=\"dataframe\">\n",
              "  <thead>\n",
              "    <tr style=\"text-align: right;\">\n",
              "      <th>property_type</th>\n",
              "      <th>Apartment</th>\n",
              "      <th>Condominium</th>\n",
              "      <th>House</th>\n",
              "    </tr>\n",
              "    <tr>\n",
              "      <th>neighbourhood_cleansed</th>\n",
              "      <th></th>\n",
              "      <th></th>\n",
              "      <th></th>\n",
              "    </tr>\n",
              "  </thead>\n",
              "  <tbody>\n",
              "    <tr>\n",
              "      <th>Amager Vest</th>\n",
              "      <td>740.478623</td>\n",
              "      <td>805.093333</td>\n",
              "      <td>916.083019</td>\n",
              "    </tr>\n",
              "    <tr>\n",
              "      <th>Amager st</th>\n",
              "      <td>629.964662</td>\n",
              "      <td>674.359477</td>\n",
              "      <td>950.898305</td>\n",
              "    </tr>\n",
              "    <tr>\n",
              "      <th>Bispebjerg</th>\n",
              "      <td>522.790361</td>\n",
              "      <td>563.721519</td>\n",
              "      <td>850.805970</td>\n",
              "    </tr>\n",
              "    <tr>\n",
              "      <th>Brnshj-Husum</th>\n",
              "      <td>495.301802</td>\n",
              "      <td>507.333333</td>\n",
              "      <td>842.512077</td>\n",
              "    </tr>\n",
              "    <tr>\n",
              "      <th>Frederiksberg</th>\n",
              "      <td>741.645334</td>\n",
              "      <td>801.361233</td>\n",
              "      <td>1034.754717</td>\n",
              "    </tr>\n",
              "    <tr>\n",
              "      <th>Indre By</th>\n",
              "      <td>916.114243</td>\n",
              "      <td>984.278689</td>\n",
              "      <td>998.687500</td>\n",
              "    </tr>\n",
              "    <tr>\n",
              "      <th>Nrrebro</th>\n",
              "      <td>679.901277</td>\n",
              "      <td>700.108434</td>\n",
              "      <td>645.500000</td>\n",
              "    </tr>\n",
              "    <tr>\n",
              "      <th>Valby</th>\n",
              "      <td>571.049180</td>\n",
              "      <td>610.650000</td>\n",
              "      <td>849.257895</td>\n",
              "    </tr>\n",
              "    <tr>\n",
              "      <th>Vanlse</th>\n",
              "      <td>536.210101</td>\n",
              "      <td>503.488889</td>\n",
              "      <td>845.686275</td>\n",
              "    </tr>\n",
              "    <tr>\n",
              "      <th>Vesterbro-Kongens Enghave</th>\n",
              "      <td>765.923676</td>\n",
              "      <td>799.545113</td>\n",
              "      <td>801.750000</td>\n",
              "    </tr>\n",
              "    <tr>\n",
              "      <th>sterbro</th>\n",
              "      <td>731.792393</td>\n",
              "      <td>743.687898</td>\n",
              "      <td>1204.250000</td>\n",
              "    </tr>\n",
              "  </tbody>\n",
              "</table>\n",
              "</div>"
            ],
            "text/plain": [
              "property_type               Apartment  Condominium        House\n",
              "neighbourhood_cleansed                                         \n",
              "Amager Vest                740.478623   805.093333   916.083019\n",
              "Amager st                  629.964662   674.359477   950.898305\n",
              "Bispebjerg                 522.790361   563.721519   850.805970\n",
              "Brnshj-Husum               495.301802   507.333333   842.512077\n",
              "Frederiksberg              741.645334   801.361233  1034.754717\n",
              "Indre By                   916.114243   984.278689   998.687500\n",
              "Nrrebro                    679.901277   700.108434   645.500000\n",
              "Valby                      571.049180   610.650000   849.257895\n",
              "Vanlse                     536.210101   503.488889   845.686275\n",
              "Vesterbro-Kongens Enghave  765.923676   799.545113   801.750000\n",
              "sterbro                    731.792393   743.687898  1204.250000"
            ]
          },
          "metadata": {
            "tags": []
          },
          "execution_count": 26
        }
      ]
    },
    {
      "cell_type": "code",
      "metadata": {
        "id": "Ag-I5pswBymO",
        "colab": {
          "base_uri": "https://localhost:8080/",
          "height": 383
        },
        "outputId": "f7d5a2a0-4f5c-468e-e249-649338e77ca7"
      },
      "source": [
        "# Lav en \"kernel density estimation\" (kde) plot\n",
        "# hvor der vises en farve-opdeling på forskellige \"property_type\"\n",
        "# brug her seaborn's displot funktionen https://seaborn.pydata.org/generated/seaborn.displot.html#seaborn.displot\n",
        "\n",
        "sns.displot(data = df, x='price', hue='property_type', kind='kde')"
      ],
      "execution_count": null,
      "outputs": [
        {
          "output_type": "execute_result",
          "data": {
            "text/plain": [
              "<seaborn.axisgrid.FacetGrid at 0x7fc3e5299978>"
            ]
          },
          "metadata": {
            "tags": []
          },
          "execution_count": 27
        },
        {
          "output_type": "display_data",
          "data": {
            "image/png": "[encoded data removed]",
            "text/plain": [
              "<Figure size 476.35x360 with 1 Axes>"
            ]
          },
          "metadata": {
            "tags": []
          }
        }
      ]
    },
    {
      "cell_type": "code",
      "metadata": {
        "id": "zJaedRtkyySe",
        "colab": {
          "base_uri": "https://localhost:8080/"
        },
        "outputId": "fbffa2ce-3aa3-4fe4-a8c4-04077510a365"
      },
      "source": [
        "#Vis den prismæssige standardafvigelse for \"property_type\" \n",
        "# Note: Sæt degrees of freedom til 0 (ddof=0)\n",
        "df.groupby('property_type').price.std(ddof=0) "
      ],
      "execution_count": null,
      "outputs": [
        {
          "output_type": "execute_result",
          "data": {
            "text/plain": [
              "property_type\n",
              "Apartment      305.635193\n",
              "Condominium    314.405448\n",
              "House          354.754946\n",
              "Name: price, dtype: float64"
            ]
          },
          "metadata": {
            "tags": []
          },
          "execution_count": 28
        }
      ]
    },
    {
      "cell_type": "markdown",
      "metadata": {
        "id": "cbFStp3RvbA8"
      },
      "source": [
        "Hvordan kan standardafvigelsen og dens forskell mellem kategorierne fortolkes?\n"
      ]
    },
    {
      "cell_type": "markdown",
      "metadata": {
        "id": "piGcgKI30HMi"
      },
      "source": [
        "## Bivariat Analyse"
      ]
    },
    {
      "cell_type": "markdown",
      "metadata": {
        "id": "ykxzZc1Z4OF6"
      },
      "source": [
        "Hvad korrelerer mere med pricen af et sted - antal af værelser eller hvor mange der kan sove?"
      ]
    },
    {
      "cell_type": "code",
      "metadata": {
        "id": "z0jioxxV4eyU",
        "colab": {
          "base_uri": "https://localhost:8080/"
        },
        "outputId": "58d77af7-65e6-4270-961d-d5847442e744"
      },
      "source": [
        "# price vs bedrooms\n",
        "\n",
        "df.price.corr(df.bedrooms)"
      ],
      "execution_count": null,
      "outputs": [
        {
          "output_type": "execute_result",
          "data": {
            "text/plain": [
              "0.4669422842087915"
            ]
          },
          "metadata": {
            "tags": []
          },
          "execution_count": 29
        }
      ]
    },
    {
      "cell_type": "code",
      "metadata": {
        "id": "UNC8-yQt4F9n",
        "colab": {
          "base_uri": "https://localhost:8080/"
        },
        "outputId": "5ca895ba-24c0-4982-a563-82b7a770db6f"
      },
      "source": [
        "# price vs accomodates\n",
        "\n",
        "df.price.corr(df.accommodates)"
      ],
      "execution_count": null,
      "outputs": [
        {
          "output_type": "execute_result",
          "data": {
            "text/plain": [
              "0.505960433910758"
            ]
          },
          "metadata": {
            "tags": []
          },
          "execution_count": 32
        }
      ]
    },
    {
      "cell_type": "code",
      "metadata": {
        "id": "bEYjz0Jo27w7",
        "colab": {
          "base_uri": "https://localhost:8080/"
        },
        "outputId": "61ebefd6-381e-449a-f854-823eb2efa88b"
      },
      "source": [
        "# Big is beautiful: Hvor er der mest sammenhæng mellem antal af gæster (accomodates) og \n",
        "# prisen - beregn korrelation per bydel (groupby)\n",
        "df.groupby('neighbourhood_cleansed').price.corr(df.accommodates)"
      ],
      "execution_count": null,
      "outputs": [
        {
          "output_type": "execute_result",
          "data": {
            "text/plain": [
              "neighbourhood_cleansed\n",
              "Amager Vest                  0.555552\n",
              "Amager st                    0.573149\n",
              "Bispebjerg                   0.579763\n",
              "Brnshj-Husum                 0.690785\n",
              "Frederiksberg                0.513485\n",
              "Indre By                     0.507869\n",
              "Nrrebro                      0.500829\n",
              "Valby                        0.634409\n",
              "Vanlse                       0.601096\n",
              "Vesterbro-Kongens Enghave    0.508968\n",
              "sterbro                      0.529032\n",
              "Name: price, dtype: float64"
            ]
          },
          "metadata": {
            "tags": []
          },
          "execution_count": 34
        }
      ]
    },
    {
      "cell_type": "code",
      "metadata": {
        "id": "19SJP3YWSGer"
      },
      "source": [
        "# Ligesom med price variablen, skal \"cleaning_fee\" også have fjernet \"$\" og \",\", og gøres til en float (numerisk variabel) \n",
        "df.cleaning_fee = df.cleaning_fee.replace('[\\$,]', '', regex=True).astype(float)"
      ],
      "execution_count": null,
      "outputs": []
    },
    {
      "cell_type": "code",
      "metadata": {
        "id": "38gh2_V4SGeu"
      },
      "source": [
        "# Udfyld manglende observationer i cleaning fee med 0\n",
        "\n",
        "df.cleaning_fee.fillna(0, inplace=True)"
      ],
      "execution_count": null,
      "outputs": []
    },
    {
      "cell_type": "code",
      "metadata": {
        "id": "W6v6Ctn36q3z",
        "colab": {
          "base_uri": "https://localhost:8080/"
        },
        "outputId": "81ebd8ec-65ae-43ec-e75b-018f7880ad54"
      },
      "source": [
        "# beregn korrelationskoefficienten for \"price\" og \"cleaning_fee\" - er der en sammenhæng (hvis ja, er den stærk, moderat, svag)? Kan du fortolke det?\n",
        "df.price.corr(df.cleaning_fee)"
      ],
      "execution_count": null,
      "outputs": [
        {
          "output_type": "execute_result",
          "data": {
            "text/plain": [
              "0.32253886103558993"
            ]
          },
          "metadata": {
            "tags": []
          },
          "execution_count": 37
        }
      ]
    },
    {
      "cell_type": "code",
      "metadata": {
        "id": "HXbgQ6DgzNYE",
        "colab": {
          "base_uri": "https://localhost:8080/",
          "height": 399
        },
        "outputId": "54635e96-f724-4677-91be-0acfc897898b"
      },
      "source": [
        "# lav en plot, der visualiserer sammenhæng mellem \"price\" og \"cleaning_fee\" hvad kan du sige om outliers her?\n",
        "\n",
        "sns.relplot(x=\"price\", y=\"cleaning_fee\", data=df)"
      ],
      "execution_count": null,
      "outputs": [
        {
          "output_type": "execute_result",
          "data": {
            "text/plain": [
              "<seaborn.axisgrid.FacetGrid at 0x7fc3d8aa3748>"
            ]
          },
          "metadata": {
            "tags": []
          },
          "execution_count": 38
        },
        {
          "output_type": "display_data",
          "data": {
            "image/png": "[encoded data removed]",
            "text/plain": [
              "<Figure size 360x360 with 1 Axes>"
            ]
          },
          "metadata": {
            "tags": []
          }
        }
      ]
    },
    {
      "cell_type": "code",
      "metadata": {
        "id": "HBfwNlUFSGew"
      },
      "source": [
        "# Lav en ny variabel \"total_price\" ud fra \"price\" og \"cleaning_fee\" (sammenlæg de to værdier fra )\n",
        "df['total_price'] = df.price + df.cleaning_fee"
      ],
      "execution_count": null,
      "outputs": []
    },
    {
      "cell_type": "code",
      "metadata": {
        "id": "2hyoiU77Z7bs"
      },
      "source": [
        "# definer en dataframe hvor der kun medtages observationer med > 10 reviews \"number_of_reviews\"\n",
        "# samlign korrelationer mellem total_price/price vs accomodates\n",
        "# fortolk de to korrelationskoefficienter\n",
        "\n",
        "\n",
        "high_review_df = df[df.number_of_reviews > 10]"
      ],
      "execution_count": null,
      "outputs": []
    },
    {
      "cell_type": "code",
      "metadata": {
        "id": "0A-vtIOgbHSs",
        "colab": {
          "base_uri": "https://localhost:8080/"
        },
        "outputId": "8822416d-2051-491c-ae34-245d4bb1ab1f"
      },
      "source": [
        "high_review_df.total_price.corr(high_review_df.accommodates)"
      ],
      "execution_count": null,
      "outputs": [
        {
          "output_type": "execute_result",
          "data": {
            "text/plain": [
              "0.5581273204888418"
            ]
          },
          "metadata": {
            "tags": []
          },
          "execution_count": 41
        }
      ]
    },
    {
      "cell_type": "code",
      "metadata": {
        "id": "yi5b37j76Myb",
        "colab": {
          "base_uri": "https://localhost:8080/"
        },
        "outputId": "0cc98da9-c765-485e-df07-8c50c690e4bc"
      },
      "source": [
        "high_review_df.price.corr(high_review_df.accommodates)"
      ],
      "execution_count": null,
      "outputs": [
        {
          "output_type": "execute_result",
          "data": {
            "text/plain": [
              "0.5312423397392466"
            ]
          },
          "metadata": {
            "tags": []
          },
          "execution_count": 42
        }
      ]
    },
    {
      "cell_type": "markdown",
      "metadata": {
        "id": "WJp_qSBeNMZ9"
      },
      "source": [
        "### Datamanipulation\n",
        "\n",
        "Du arbejder for AirBnB som analytiker med webudviklere og og bliver opfordret at lave en ny indikator på platformen, som viser hvor mange cykelstativer der er i bydelen, hvor lejligheden/værelset ligger.\n",
        "\n"
      ]
    },
    {
      "cell_type": "code",
      "metadata": {
        "id": "-H8xUOWqNNlw"
      },
      "source": [
        "# Hent data fra region Hovedstaden som ligger i cykel.csv.gz og giv et kort overblik over datasæt\n",
        "\n",
        "cykel = pd.read_csv('https://sds-aau.github.io/IntroStat/Data/cykel.csv.gz', compression='gzip')"
      ],
      "execution_count": null,
      "outputs": []
    },
    {
      "cell_type": "code",
      "metadata": {
        "id": "Pw1RLFQb_o0K",
        "colab": {
          "base_uri": "https://localhost:8080/",
          "height": 413
        },
        "outputId": "b75936d4-2f0c-4cad-bd5b-5e173b220eb4"
      },
      "source": [
        "cykel.head()"
      ],
      "execution_count": null,
      "outputs": [
        {
          "output_type": "execute_result",
          "data": {
            "text/html": [
              "<div>\n",
              "<style scoped>\n",
              "    .dataframe tbody tr th:only-of-type {\n",
              "        vertical-align: middle;\n",
              "    }\n",
              "\n",
              "    .dataframe tbody tr th {\n",
              "        vertical-align: top;\n",
              "    }\n",
              "\n",
              "    .dataframe thead th {\n",
              "        text-align: right;\n",
              "    }\n",
              "</style>\n",
              "<table border=\"1\" class=\"dataframe\">\n",
              "  <thead>\n",
              "    <tr style=\"text-align: right;\">\n",
              "      <th></th>\n",
              "      <th>Unnamed: 0</th>\n",
              "      <th>id</th>\n",
              "      <th>stativ_type</th>\n",
              "      <th>stativ_placering</th>\n",
              "      <th>stativ_udformning</th>\n",
              "      <th>cykler_retning</th>\n",
              "      <th>antal_pladser</th>\n",
              "      <th>wkb_geometry</th>\n",
              "      <th>neighbourhood_cleansed</th>\n",
              "    </tr>\n",
              "  </thead>\n",
              "  <tbody>\n",
              "    <tr>\n",
              "      <th>0</th>\n",
              "      <td>0</td>\n",
              "      <td>6450</td>\n",
              "      <td>NO</td>\n",
              "      <td>På fortovsudvidelse</td>\n",
              "      <td>Enkeltsidet</td>\n",
              "      <td>Ikke registreret</td>\n",
              "      <td>7.0</td>\n",
              "      <td>POINT (12.55991171558382 55.67131168120972)</td>\n",
              "      <td>Vesterbro-Kongens Enghave</td>\n",
              "    </tr>\n",
              "    <tr>\n",
              "      <th>1</th>\n",
              "      <td>1</td>\n",
              "      <td>6451</td>\n",
              "      <td>NO</td>\n",
              "      <td>På fortovsudvidelse</td>\n",
              "      <td>Enkeltsidet</td>\n",
              "      <td>Ikke registreret</td>\n",
              "      <td>7.0</td>\n",
              "      <td>POINT (12.55976509434896 55.67128132114395)</td>\n",
              "      <td>Vesterbro-Kongens Enghave</td>\n",
              "    </tr>\n",
              "    <tr>\n",
              "      <th>2</th>\n",
              "      <td>2</td>\n",
              "      <td>7176</td>\n",
              "      <td>Ikke registreret</td>\n",
              "      <td>Ikke registreret</td>\n",
              "      <td>Ikke registreret</td>\n",
              "      <td>Ikke registreret</td>\n",
              "      <td>15.0</td>\n",
              "      <td>POINT (12.55391825088484 55.67183979085195)</td>\n",
              "      <td>Vesterbro-Kongens Enghave</td>\n",
              "    </tr>\n",
              "    <tr>\n",
              "      <th>3</th>\n",
              "      <td>3</td>\n",
              "      <td>4569</td>\n",
              "      <td>NO</td>\n",
              "      <td>På gadeareal</td>\n",
              "      <td>Enkeltsidet</td>\n",
              "      <td>Vinkelret</td>\n",
              "      <td>10.0</td>\n",
              "      <td>POINT (12.5552785558673 55.669617247673)</td>\n",
              "      <td>Vesterbro-Kongens Enghave</td>\n",
              "    </tr>\n",
              "    <tr>\n",
              "      <th>4</th>\n",
              "      <td>4</td>\n",
              "      <td>6020</td>\n",
              "      <td>NO</td>\n",
              "      <td>På fortovsudvidelse</td>\n",
              "      <td>Enkeltsidet</td>\n",
              "      <td>Vinkelret</td>\n",
              "      <td>5.0</td>\n",
              "      <td>POINT (12.55513673158002 55.66983957166716)</td>\n",
              "      <td>Vesterbro-Kongens Enghave</td>\n",
              "    </tr>\n",
              "  </tbody>\n",
              "</table>\n",
              "</div>"
            ],
            "text/plain": [
              "   Unnamed: 0  ...     neighbourhood_cleansed\n",
              "0           0  ...  Vesterbro-Kongens Enghave\n",
              "1           1  ...  Vesterbro-Kongens Enghave\n",
              "2           2  ...  Vesterbro-Kongens Enghave\n",
              "3           3  ...  Vesterbro-Kongens Enghave\n",
              "4           4  ...  Vesterbro-Kongens Enghave\n",
              "\n",
              "[5 rows x 9 columns]"
            ]
          },
          "metadata": {
            "tags": []
          },
          "execution_count": 45
        }
      ]
    },
    {
      "cell_type": "code",
      "metadata": {
        "id": "L1zIaOx9cH_n",
        "colab": {
          "base_uri": "https://localhost:8080/"
        },
        "outputId": "abf40a34-2f7a-4694-8871-a922cbbcd85d"
      },
      "source": [
        "cykel.info()"
      ],
      "execution_count": null,
      "outputs": [
        {
          "output_type": "stream",
          "text": [
            "<class 'pandas.core.frame.DataFrame'>\n",
            "RangeIndex: 6021 entries, 0 to 6020\n",
            "Data columns (total 9 columns):\n",
            " #   Column                  Non-Null Count  Dtype  \n",
            "---  ------                  --------------  -----  \n",
            " 0   Unnamed: 0              6021 non-null   int64  \n",
            " 1   id                      6021 non-null   int64  \n",
            " 2   stativ_type             6021 non-null   object \n",
            " 3   stativ_placering        6021 non-null   object \n",
            " 4   stativ_udformning       6021 non-null   object \n",
            " 5   cykler_retning          6021 non-null   object \n",
            " 6   antal_pladser           6016 non-null   float64\n",
            " 7   wkb_geometry            6021 non-null   object \n",
            " 8   neighbourhood_cleansed  6021 non-null   object \n",
            "dtypes: float64(1), int64(2), object(6)\n",
            "memory usage: 423.5+ KB\n"
          ],
          "name": "stdout"
        }
      ]
    },
    {
      "cell_type": "code",
      "metadata": {
        "id": "c39iNvGYcaRc"
      },
      "source": [
        "# lav en beregning af hvor mange cykelstativer der er per bydel (definer et series objekt 'cykel_per_bydel')\n",
        "# her kan der bruges groupby eller en simpel optælling\n",
        "\n",
        "cykel_per_bydel = cykel.neighbourhood_cleansed.value_counts()\n",
        "\n",
        "cykel_per_bydel.name = 'n_cykel_stativer'"
      ],
      "execution_count": null,
      "outputs": []
    },
    {
      "cell_type": "code",
      "metadata": {
        "id": "CT2HYEe_c1H4",
        "colab": {
          "base_uri": "https://localhost:8080/"
        },
        "outputId": "be9c87ef-12e3-450e-be5b-06f11369e246"
      },
      "source": [
        "cykel_per_bydel"
      ],
      "execution_count": null,
      "outputs": [
        {
          "output_type": "execute_result",
          "data": {
            "text/plain": [
              "Indre By                     1655\n",
              "sterbro                      1408\n",
              "Vesterbro-Kongens Enghave     944\n",
              "Nrrebro                       718\n",
              "Amager Vest                   349\n",
              "Amager st                     285\n",
              "Valby                         222\n",
              "Bispebjerg                    199\n",
              "Brnshj-Husum                  107\n",
              "Vanlse                        101\n",
              "Frederiksberg                  33\n",
              "Name: n_cykel_stativer, dtype: int64"
            ]
          },
          "metadata": {
            "tags": []
          },
          "execution_count": 48
        }
      ]
    },
    {
      "cell_type": "code",
      "metadata": {
        "id": "t0_F6k__c6o2"
      },
      "source": [
        "# lav en beregning af hvor mange cykel parkering pladser der er per bydel (definer et series objekt 'cykel_ppladser_bydel')\n",
        "# brug her summen af antal_pladser per neighbourhood_cleansed\n",
        "\n",
        "cykel_ppladser_bydel = cykel.groupby('neighbourhood_cleansed').antal_pladser.sum()\n",
        "cykel_ppladser_bydel.name = 'n_cykel_ppladser'"
      ],
      "execution_count": null,
      "outputs": []
    },
    {
      "cell_type": "code",
      "metadata": {
        "id": "tXgxb9gJeUgF",
        "colab": {
          "base_uri": "https://localhost:8080/"
        },
        "outputId": "de935b68-f9ea-44d6-981f-7d0aba823ad1"
      },
      "source": [
        "cykel_ppladser_bydel"
      ],
      "execution_count": null,
      "outputs": [
        {
          "output_type": "execute_result",
          "data": {
            "text/plain": [
              "neighbourhood_cleansed\n",
              "Amager Vest                   3879.0\n",
              "Amager st                     3392.0\n",
              "Bispebjerg                    2238.0\n",
              "Brnshj-Husum                  1780.0\n",
              "Frederiksberg                  829.0\n",
              "Indre By                     26119.0\n",
              "Nrrebro                       7438.0\n",
              "Valby                         3065.0\n",
              "Vanlse                        1532.0\n",
              "Vesterbro-Kongens Enghave    11532.0\n",
              "sterbro                      13757.0\n",
              "Name: n_cykel_ppladser, dtype: float64"
            ]
          },
          "metadata": {
            "tags": []
          },
          "execution_count": 50
        }
      ]
    },
    {
      "cell_type": "code",
      "metadata": {
        "id": "KewQnvnqdk3X"
      },
      "source": [
        "# lav en merge af vores airbnb data med cykel_per_bydel, hvor der bruges neighbourhood_cleansed \n",
        "# som nøgle. Husk at bruge left_on= parameter for dine Airbnb data og right_index=True (siden det er en merge af en DF og et Series objekt)\n",
        "df = pd.merge(df, cykel_per_bydel, left_on='neighbourhood_cleansed', right_index=True)"
      ],
      "execution_count": null,
      "outputs": []
    },
    {
      "cell_type": "code",
      "metadata": {
        "id": "IcPNaialdmYQ"
      },
      "source": [
        "# Lav det samme for cykel_ppladser_bydel\n",
        "\n",
        "df = pd.merge(df, cykel_ppladser_bydel, left_on='neighbourhood_cleansed', right_index=True)"
      ],
      "execution_count": null,
      "outputs": []
    },
    {
      "cell_type": "code",
      "metadata": {
        "id": "HegQk-LGediz",
        "colab": {
          "base_uri": "https://localhost:8080/"
        },
        "outputId": "0e3ebab0-0860-4214-c11c-f58d450c17b8"
      },
      "source": [
        "# Beregn korrelation mellem \"n_cykel_ppladser\" og \"number_of_reviews\"\n",
        "# Kan man antage at en bedre cykelparkeringssituation i bydelen hjælper med at få flere gæster (og dermed flere reviews)?\n",
        "# Husk...ingen/lav korrelation er også en mulighed :-)\n",
        "\n",
        "df.n_cykel_ppladser.corr(df.number_of_reviews)"
      ],
      "execution_count": null,
      "outputs": [
        {
          "output_type": "execute_result",
          "data": {
            "text/plain": [
              "0.1048255101737312"
            ]
          },
          "metadata": {
            "tags": []
          },
          "execution_count": 53
        }
      ]
    }
  ]
}