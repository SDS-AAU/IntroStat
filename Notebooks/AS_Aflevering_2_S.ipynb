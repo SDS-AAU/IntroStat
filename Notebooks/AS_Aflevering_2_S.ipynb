{
  "nbformat": 4,
  "nbformat_minor": 0,
  "metadata": {
    "colab": {
      "name": "AS - Aflevering 2 - S",
      "provenance": [],
      "collapsed_sections": [],
      "authorship_tag": "ABX9TyO4vuLPqmLcrR5SEfvlM3R+",
      "include_colab_link": true
    },
    "kernelspec": {
      "name": "python3",
      "display_name": "Python 3"
    }
  },
  "cells": [
    {
      "cell_type": "markdown",
      "metadata": {
        "id": "view-in-github",
        "colab_type": "text"
      },
      "source": [
        "<a href=\"https://colab.research.google.com/github/SDS-AAU/IntroStat/blob/master/Notebooks/AS_Aflevering_2_S.ipynb\" target=\"_parent\"><img src=\"https://colab.research.google.com/assets/colab-badge.svg\" alt=\"Open In Colab\"/></a>"
      ]
    },
    {
      "cell_type": "markdown",
      "metadata": {
        "id": "mU3yAYjr36OC"
      },
      "source": [
        "# The Open Policing Project\n",
        "\n",
        "På en typisk dag i USA foretager politibetjente mere end 50 tusind trafikstop. The Stanford Open Policing Project analyserer og deler data fra millioner af trafikstop fra  myndigheder over hele landet. Målet er at hjælpe forskere, journalister og beslutningstagere med at undersøge og forbedre interaktionen mellem politi og offentligheden.\n",
        "\n",
        "* Du kan læse mere om projektet [her](https://openpolicing.stanford.edu/publications/). \n",
        "\n",
        "I denne opgave skal du rekonstruere nogle af de centrale forskningsresultater baseret på de Open Policing Data.\n",
        "Notebook'en guider dig gennem opgaven. \n",
        "\n",
        "* Pierson, E., Simoiu, C., Overgoor, J., Corbett-Davies, S., Jenson, D., Shoemaker, A., Ramachandran, V., Barghouty, P., Phillips, C., Shroff, R. and Goel, S., 2020. A large-scale analysis of racial disparities in police stops across the United States. Nature human behaviour, pp.1-10. [PDF](https://5harad.com/papers/100M-stops.pdf)\n",
        "\n",
        "\n",
        "\n",
        "Opgaven er allerede delvist løst. Du finder flere nye teknikker introduceret i notebook'en (hints) og koder.\n",
        "Disse er ikke nødvendigvis en del af pensum, men alligevel nyttige tilføjelser til din værktøjssæt.\n"
      ]
    },
    {
      "cell_type": "code",
      "metadata": {
        "id": "6DHjlhyM_2mx",
        "outputId": "df50593b-d087-4d07-9112-c73dc145fb35",
        "colab": {
          "base_uri": "https://localhost:8080/",
          "height": 336
        }
      },
      "source": [
        "from IPython.display import HTML\n",
        "HTML('<iframe width=\"560\" height=\"315\" src=\"https://www.youtube-nocookie.com/embed/iwOWcuFjNfw\" frameborder=\"0\" allow=\"accelerometer; autoplay; clipboard-write; encrypted-media; gyroscope; picture-in-picture\" allowfullscreen></iframe>')"
      ],
      "execution_count": null,
      "outputs": [
        {
          "output_type": "execute_result",
          "data": {
            "text/html": [
              "<iframe width=\"560\" height=\"315\" src=\"https://www.youtube-nocookie.com/embed/iwOWcuFjNfw\" frameborder=\"0\" allow=\"accelerometer; autoplay; clipboard-write; encrypted-media; gyroscope; picture-in-picture\" allowfullscreen></iframe>"
            ],
            "text/plain": [
              "<IPython.core.display.HTML object>"
            ]
          },
          "metadata": {
            "tags": []
          },
          "execution_count": 1
        }
      ]
    },
    {
      "cell_type": "code",
      "metadata": {
        "id": "j-9zyoPdCbmY",
        "outputId": "1a6cc87d-78bf-404a-db63-540507b5bb27",
        "colab": {
          "base_uri": "https://localhost:8080/",
          "height": 340
        }
      },
      "source": [
        "HTML('<iframe width=\"800\" height=\"315\" src=\"https://openpolicing.stanford.edu/data/\" ></iframe>')"
      ],
      "execution_count": null,
      "outputs": [
        {
          "output_type": "execute_result",
          "data": {
            "text/html": [
              "<iframe width=\"800\" height=\"315\" src=\"https://openpolicing.stanford.edu/data/\" ></iframe>"
            ],
            "text/plain": [
              "<IPython.core.display.HTML object>"
            ]
          },
          "metadata": {
            "tags": []
          },
          "execution_count": 2
        }
      ]
    },
    {
      "cell_type": "markdown",
      "metadata": {
        "id": "wjilxJcFG0B0"
      },
      "source": [
        "Væsentlige pakker er importeret, men du må tilføje og ændre indstillinger (f.eks. Indstille plotningsparametre)"
      ]
    },
    {
      "cell_type": "code",
      "metadata": {
        "id": "K3V-WrnO3YWU"
      },
      "source": [
        "# import pakker\n",
        "\n",
        "import pandas as pd\n",
        "import seaborn as sns\n",
        "sns.set()"
      ],
      "execution_count": null,
      "outputs": []
    },
    {
      "cell_type": "markdown",
      "metadata": {
        "id": "An_Otz5wHMvx"
      },
      "source": [
        "## Indlæsning og indledende databehandling\n",
        "\n",
        "Data findes her: `https://sds-aau.github.io/IntroStat/Data/RI-clean.csv.gz` det er en komprimeret fil og du skal tilføje `compression='gzip'` som parameter ved indlæsning.\n",
        "Det er trafikstop fra Rhode Island 2005-2015 - i alt omkring 500.000 observationer.\n",
        "\n",
        "Skulle der opleves problemer med direkte indlæsning via URL, kan du downloade filer på *moodle*."
      ]
    },
    {
      "cell_type": "code",
      "metadata": {
        "id": "3W62a_mx4BrN"
      },
      "source": [
        "# indlæsning data\n",
        "\n",
        "data = pd.read_xxx(xxx), compression='gzip')"
      ],
      "execution_count": null,
      "outputs": []
    },
    {
      "cell_type": "code",
      "metadata": {
        "id": "_Px__CG_5Nmg"
      },
      "source": [
        "# Tid og dato kombineres og der defineres en tidsserie-index\n",
        "combined = data.stop_date.str.cat(data.stop_time, sep=' ')\n",
        "data['date_and_time'] = pd.to_datetime(combined)\n",
        "\n",
        "\n",
        "data.set_index('date_and_time', inplace=True)"
      ],
      "execution_count": null,
      "outputs": []
    },
    {
      "cell_type": "code",
      "metadata": {
        "id": "4UWHdJai4788"
      },
      "source": [
        "# variable-type omkodes til boolean\n",
        "\n",
        "data[['is_arrested', 'search_conducted']] = data[['is_arrested', 'search_conducted']].astype(bool)"
      ],
      "execution_count": null,
      "outputs": []
    },
    {
      "cell_type": "code",
      "metadata": {
        "id": "VCyPcu8L4E4h"
      },
      "source": [
        "data.head()"
      ],
      "execution_count": null,
      "outputs": []
    },
    {
      "cell_type": "markdown",
      "metadata": {
        "id": "m9hvW9YjKOPX"
      },
      "source": [
        "### Rens manglende data\n",
        "\n",
        "* identificer de kolonner med det meste manglende data (3 kolonner) og fjern dem\n",
        "* identificer de kolonner, hvor vi ikke kender tidspunktet for stop, dato eller personlige egenskaber for bilisten. Fjern observationer, hvor disse variabler mangler: Brug `subset=['xxx', 'xxx', 'xxx']` som argument.\n"
      ]
    },
    {
      "cell_type": "code",
      "metadata": {
        "id": "YCvNCmeS4FT6"
      },
      "source": [
        "# identificer missing\n",
        "\n",
        "xxx"
      ],
      "execution_count": null,
      "outputs": []
    },
    {
      "cell_type": "code",
      "metadata": {
        "id": "9VVPGCJt4HE0"
      },
      "source": [
        "# fjerner hele kolonner\n",
        "data.drop([xxx], axis='columns', inplace=True)"
      ],
      "execution_count": null,
      "outputs": []
    },
    {
      "cell_type": "code",
      "metadata": {
        "id": "Nw3R6bYx4NRe"
      },
      "source": [
        "# fjerner observationer med manglende data i speciffike variable\n",
        "data.dropna(subset=[xxx], inplace=True)"
      ],
      "execution_count": null,
      "outputs": []
    },
    {
      "cell_type": "markdown",
      "metadata": {
        "id": "yFZ-3UlI5djO"
      },
      "source": [
        "## Overtrædelser\n",
        "\n",
        "\n",
        "\n",
        "*   Hvor ofte bliver folk stoppet i forbindelse med de forskellige overtrædelser (violation) i pct?\n",
        "*   Hvordan fordeler stops'ene på mænd og kvinder / \n",
        "etniciteter i pct.? \n",
        "  * Fortolk dine beregninger. Hvilke antagelser om stikprøve/population skal der tages hensyn til?\n",
        "  * Kan vi have en formodning om, at kvinder kører gennemsnitlig bedre end mænd?\n",
        "  * Kan vi formode, at hvide bilister kører dårligst?\n",
        "\n",
        "*   Hvordan fordeler de forskellige overtrædelser sig på hhv mænd og kvinder og de forskellige etniciteter i procent? Her kan du bruge `pd.crostab` funktionen og `\"columns\"` som normaliseringsparameter. \n",
        "    * Fortolk dine beregninger ved at beskrive de mest \"signifikante\" forskelle mellem bilister af de forskellige etniciteter."
      ]
    },
    {
      "cell_type": "code",
      "metadata": {
        "id": "gYPopveI4TcX"
      },
      "source": [
        "# optælling overtrædelse\n",
        "\n",
        "xxx"
      ],
      "execution_count": null,
      "outputs": []
    },
    {
      "cell_type": "code",
      "metadata": {
        "id": "bRPApLzH4eYU"
      },
      "source": [
        "# optælling køn\n",
        "\n",
        "xxx"
      ],
      "execution_count": null,
      "outputs": []
    },
    {
      "cell_type": "code",
      "metadata": {
        "id": "Li-FIBWf5gUe"
      },
      "source": [
        "# optælling race\n",
        "xxx"
      ],
      "execution_count": null,
      "outputs": []
    },
    {
      "cell_type": "code",
      "metadata": {
        "id": "FvR5-5LM5iAD"
      },
      "source": [
        "# crosstab violation vs gender\n",
        "\n",
        "pd.crosstab(xxx, xxx, normalize='columns')"
      ],
      "execution_count": null,
      "outputs": []
    },
    {
      "cell_type": "code",
      "metadata": {
        "id": "55KgqPhK5nHT"
      },
      "source": [
        "# crosstab violation vs driver_race\n",
        "xxx"
      ],
      "execution_count": null,
      "outputs": []
    },
    {
      "cell_type": "markdown",
      "metadata": {
        "id": "zGDAnq1m57UQ"
      },
      "source": [
        "## Ransagning af biler og fund af stoffer\n",
        "\n",
        "* Beregn sansynligheden (gennemsnit) for ransagning af bil `search_contucted` for hver etnicitet - her er det nemmest at bruge `groupby`. Brug `reset_index()` efter denne beregning for at definere en ny dataframe.\n",
        "* Lav den samme beregning for sansynligheden at der findes stoffer ved ransagning (`contraband_found`)\n",
        "* Beregn en ny variable i din `search_rate` dataframe `success_rate` som ratio af de to beregninger. \n",
        "* Fortolk dine resultater mht search_rate, find_rate og success_rate\n"
      ]
    },
    {
      "cell_type": "code",
      "metadata": {
        "id": "IawQi1nd5pJ1"
      },
      "source": [
        "# beregning search_rate\n",
        "search_rate = data.groupby(xxx).search_conducted.mean()\n",
        "search_rate = search_rate.reset_index()"
      ],
      "execution_count": null,
      "outputs": []
    },
    {
      "cell_type": "code",
      "metadata": {
        "id": "VZHhsa7M58w7"
      },
      "source": [
        "# beregning find_rate\n",
        "find_rate = xxx\n",
        "find_rate = xxx.reset_index()"
      ],
      "execution_count": null,
      "outputs": []
    },
    {
      "cell_type": "code",
      "metadata": {
        "id": "yjwQemlv6DEp"
      },
      "source": [
        "# beregning success_rate\n",
        "search_rate['success_rate'] = xxx / xxx"
      ],
      "execution_count": null,
      "outputs": []
    },
    {
      "cell_type": "code",
      "metadata": {
        "id": "xkA-OHHm6ML8"
      },
      "source": [
        "search_rates"
      ],
      "execution_count": null,
      "outputs": []
    },
    {
      "cell_type": "markdown",
      "metadata": {
        "id": "a5V4sw1563CT"
      },
      "source": [
        "## Visualisering og fordelinger\n",
        "\n",
        "* lav en boxplot (flere i en visualisering), der visualiserer bilisters alder versus overtrædelse\n",
        "* gruppér dataene mht overtrædelse og lav beskrivende statistikker over bilisters alder\n",
        "* Hvordan fortolker du højere værdier for standardafvigelse ved nogle af de overtrædelser?\n",
        "* Hvilke overtrædelser er mere typisk for ældre bilister?\n",
        "* Hvad kan disse \"Other\" overtrædelser være og hvad kan være årsagen?\n",
        "\n"
      ]
    },
    {
      "cell_type": "code",
      "metadata": {
        "id": "FxobFQ1v6eUW"
      },
      "source": [
        "# boxplot\n",
        "\n",
        "sns.boxplot(xxx, xxx, data=xxx)"
      ],
      "execution_count": null,
      "outputs": []
    },
    {
      "cell_type": "code",
      "metadata": {
        "id": "R48RgFO966B7"
      },
      "source": [
        "# beregning beskrivende statistik\n",
        "data.groupby(xxx).driver_age.xxx()"
      ],
      "execution_count": null,
      "outputs": []
    },
    {
      "cell_type": "markdown",
      "metadata": {
        "id": "_3pN94Ls7BKr"
      },
      "source": [
        "### Anholdelser over tid\n",
        "\n",
        "* Lav en beregning af gennemsnitlige anholdeser af bilister af forskellige etniciteter per år.\n",
        "\n",
        "* Lav en lineplot, der visualiserer udviklingen, hue=etnicitet\n",
        "\n",
        "* hvordan kan det fortolkes?"
      ]
    },
    {
      "cell_type": "code",
      "metadata": {
        "id": "BMx-EdZ963nI"
      },
      "source": [
        "# opsamling af data per år\n",
        "\n",
        "yearly_arrests_per_race = data.groupby(xxx).resample('Y').xxx.mean().reset_index()"
      ],
      "execution_count": null,
      "outputs": []
    },
    {
      "cell_type": "code",
      "metadata": {
        "id": "9nRGocRe7Pru"
      },
      "source": [
        "# lineplot\n",
        "\n",
        "sns.lineplot(x = xxx, y = xxx, hue=xxx)"
      ],
      "execution_count": null,
      "outputs": []
    },
    {
      "cell_type": "markdown",
      "metadata": {
        "id": "4PHRZbWz7Z4R"
      },
      "source": [
        "## Vejrets indflydelse?\n",
        "\n",
        "er der flere trafikstop, når det er varmere og færre anholdelser under barske vejrforhold?\n",
        "Her finder du daglige vejrstatistikker fra NOAA (USAs DMI): `https://sds-aau.github.io/IntroStat/Data/RI-weather.csv`\n",
        "\n",
        "*Dette er en ret avanceret del og mest tænkt som **bonus**. Du kan forvente at møde `merge` til eksamen men ikke en så kompleks kombination af det, tidsserie-index og aggregering.*\n",
        "\n",
        "\n",
        "\n",
        "* Indlæs vejrdata og lav en tidsserie-index\n",
        "\n",
        "* Beregn temperatur i celsius og en indikator for ekstreme vejrforhold.\n",
        "\n",
        "* saml data  ved at bruge *dag* i index som nøgle for din merge.\n",
        "\n",
        "* ved at bruge merge, taber du tidsserie index - koper index fra `data` og `weather[['temp_celsius','AWND','extreme']]`\n",
        "\n",
        "Lav en ny dataframe med de kolonner:\n",
        "* daglig temperatur\n",
        "* gennemsnitlig vindstyrke\n",
        "* antal af ekstreme vejrforhold\n",
        "* antal af stops per dag\n",
        "* gennsmsnitlige ransagelser\n",
        "* gennemsnitlige anholdeser per dag\n",
        "\n",
        "\n",
        "* beregn en korrelationsmatrix of fortolk de største værdier."
      ]
    },
    {
      "cell_type": "code",
      "metadata": {
        "id": "rXfswmxm7UQl"
      },
      "source": [
        "# indlæs data\n",
        "weather = xxx"
      ],
      "execution_count": null,
      "outputs": []
    },
    {
      "cell_type": "code",
      "metadata": {
        "id": "ApC-5vXV7Ydt"
      },
      "source": [
        "# lav tidsserie-index\n",
        "weather.xxx(pd.to_datetime(weather.DATE), inplace=True)\n"
      ],
      "execution_count": null,
      "outputs": []
    },
    {
      "cell_type": "code",
      "metadata": {
        "id": "IOm4DaY57b7i"
      },
      "source": [
        "# Her defineres en funktion til omregning af fahrenheit til celsius\n",
        "\n",
        "def fahr_to_celsius(temp_fahr):\n",
        "    \"\"\"Convert Fahrenheit to Celsius\n",
        "    \n",
        "    Return Celsius conversion of input\"\"\"\n",
        "    temp_celsius = (temp_fahr - 32) * 5 / 9\n",
        "    return temp_celsius"
      ],
      "execution_count": null,
      "outputs": []
    },
    {
      "cell_type": "code",
      "metadata": {
        "id": "Kp0dQgPM7gow"
      },
      "source": [
        "# weather['TAVG'] regnes om til celsius\n",
        "weather['temp_celsius'] = fahr_to_celsius(weather['TAVG'])"
      ],
      "execution_count": null,
      "outputs": []
    },
    {
      "cell_type": "code",
      "metadata": {
        "id": "yV5V9__M90ev"
      },
      "source": [
        "# ekstrem vejr som summe af forskellige kategorier af ekstremvejr WT01 - WT22\n",
        "weather['extreme'] = weather.loc[:,'WT01':'WT22'].sum(axis='columns')"
      ],
      "execution_count": null,
      "outputs": []
    },
    {
      "cell_type": "code",
      "metadata": {
        "id": "VSH5s2lZ7lze"
      },
      "source": [
        "# merge af stops of vejrdata\n",
        "data_w = pd.merge(xxx, weather[['temp_celsius','AWND','extreme']], left_on=data.index.date, right_on=weather.index.date)"
      ],
      "execution_count": null,
      "outputs": []
    },
    {
      "cell_type": "code",
      "metadata": {
        "id": "wLYEhtx_7wZT"
      },
      "source": [
        "# hent index tilbage fra data\n",
        "data_w.index = xxx"
      ],
      "execution_count": null,
      "outputs": []
    },
    {
      "cell_type": "code",
      "metadata": {
        "id": "Py710HJeWgYB"
      },
      "source": [
        "# samling af ny dataframe med per-dag værdier\n",
        "\n",
        "s1 = data_w.resample('D').size()\n",
        "s1.name = 'n_stops'\n",
        "s2 = data_w.resample('D').is_arrested.mean()\n",
        "s3 = xxx\n",
        "s4 = xxx\n",
        "s5 = xxx\n",
        "s6 = xxx\n",
        "\n",
        "data_agg = pd.concat([s1,s2,s3,s4,s5,s6], axis=1)"
      ],
      "execution_count": null,
      "outputs": []
    },
    {
      "cell_type": "code",
      "metadata": {
        "id": "2Xw4O-emYYh9"
      },
      "source": [
        "# beregning korrelationsmatrix\n",
        "xxx"
      ],
      "execution_count": null,
      "outputs": []
    }
  ]
}