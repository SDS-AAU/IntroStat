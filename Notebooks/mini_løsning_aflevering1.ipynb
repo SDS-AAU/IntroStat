{
  "nbformat": 4,
  "nbformat_minor": 0,
  "metadata": {
    "colab": {
      "name": "mini_løsning_aflevering1",
      "provenance": [],
      "authorship_tag": "ABX9TyPb2pjaglm92p3e7ZFMpCFj",
      "include_colab_link": true
    },
    "kernelspec": {
      "name": "python3",
      "display_name": "Python 3"
    }
  },
  "cells": [
    {
      "cell_type": "markdown",
      "metadata": {
        "id": "view-in-github",
        "colab_type": "text"
      },
      "source": [
        "<a href=\"https://colab.research.google.com/github/SDS-AAU/IntroStat/blob/master/Notebooks/mini_l%C3%B8sning_aflevering1.ipynb\" target=\"_parent\"><img src=\"https://colab.research.google.com/assets/colab-badge.svg\" alt=\"Open In Colab\"/></a>"
      ]
    },
    {
      "cell_type": "markdown",
      "metadata": {
        "id": "qMjR0Tf8wSYu",
        "colab_type": "text"
      },
      "source": [
        "Minimalløsning AS E2020 - Aflevering 1"
      ]
    },
    {
      "cell_type": "markdown",
      "metadata": {
        "id": "2KJ2W5vRyIeK",
        "colab_type": "text"
      },
      "source": [
        "# 1"
      ]
    },
    {
      "cell_type": "code",
      "metadata": {
        "id": "GUgpb-Ov0CGY",
        "colab_type": "code",
        "colab": {
          "base_uri": "https://localhost:8080/",
          "height": 72
        },
        "outputId": "739688ee-8b0f-416e-af85-46f56b42f755"
      },
      "source": [
        "import pandas as pd\n",
        "import seaborn as sns"
      ],
      "execution_count": 1,
      "outputs": [
        {
          "output_type": "stream",
          "text": [
            "/usr/local/lib/python3.6/dist-packages/statsmodels/tools/_testing.py:19: FutureWarning: pandas.util.testing is deprecated. Use the functions in the public API at pandas.testing instead.\n",
            "  import pandas.util.testing as tm\n"
          ],
          "name": "stderr"
        }
      ]
    },
    {
      "cell_type": "code",
      "metadata": {
        "id": "WcHgsCV10NA3",
        "colab_type": "code",
        "colab": {}
      },
      "source": [
        "data = pd.read_excel('https://sds-aau.github.io/IntroStat/Data/kickstarter.xlsx' )"
      ],
      "execution_count": 2,
      "outputs": []
    },
    {
      "cell_type": "markdown",
      "metadata": {
        "id": "k3Xd8FOoyMim",
        "colab_type": "text"
      },
      "source": [
        "# 2"
      ]
    },
    {
      "cell_type": "code",
      "metadata": {
        "id": "meaHwaso0Zfu",
        "colab_type": "code",
        "colab": {
          "base_uri": "https://localhost:8080/",
          "height": 564
        },
        "outputId": "82e27b36-6842-4f92-88d6-43e019c33c4a"
      },
      "source": [
        "data.head()"
      ],
      "execution_count": 3,
      "outputs": [
        {
          "output_type": "execute_result",
          "data": {
            "text/html": [
              "<div>\n",
              "<style scoped>\n",
              "    .dataframe tbody tr th:only-of-type {\n",
              "        vertical-align: middle;\n",
              "    }\n",
              "\n",
              "    .dataframe tbody tr th {\n",
              "        vertical-align: top;\n",
              "    }\n",
              "\n",
              "    .dataframe thead th {\n",
              "        text-align: right;\n",
              "    }\n",
              "</style>\n",
              "<table border=\"1\" class=\"dataframe\">\n",
              "  <thead>\n",
              "    <tr style=\"text-align: right;\">\n",
              "      <th></th>\n",
              "      <th>Unnamed: 0</th>\n",
              "      <th>ID</th>\n",
              "      <th>name</th>\n",
              "      <th>category</th>\n",
              "      <th>main_category</th>\n",
              "      <th>currency</th>\n",
              "      <th>deadline</th>\n",
              "      <th>goal</th>\n",
              "      <th>launched</th>\n",
              "      <th>pledged</th>\n",
              "      <th>state</th>\n",
              "      <th>backers</th>\n",
              "      <th>country</th>\n",
              "      <th>usd pledged</th>\n",
              "      <th>usd_pledged_real</th>\n",
              "      <th>usd_goal_real</th>\n",
              "    </tr>\n",
              "  </thead>\n",
              "  <tbody>\n",
              "    <tr>\n",
              "      <th>0</th>\n",
              "      <td>0</td>\n",
              "      <td>2079338443</td>\n",
              "      <td>Totem: the premium, full-featured Virtual Real...</td>\n",
              "      <td>Hardware</td>\n",
              "      <td>Technology</td>\n",
              "      <td>CAD</td>\n",
              "      <td>2014-10-15</td>\n",
              "      <td>350000.0</td>\n",
              "      <td>2014-09-16 17:45:29</td>\n",
              "      <td>181643.0</td>\n",
              "      <td>canceled</td>\n",
              "      <td>472</td>\n",
              "      <td>CA</td>\n",
              "      <td>163733.65</td>\n",
              "      <td>161575.34</td>\n",
              "      <td>311332.5</td>\n",
              "    </tr>\n",
              "    <tr>\n",
              "      <th>1</th>\n",
              "      <td>1</td>\n",
              "      <td>645559618</td>\n",
              "      <td>Hawaiian style shirts that provide clean water...</td>\n",
              "      <td>Apparel</td>\n",
              "      <td>Fashion</td>\n",
              "      <td>USD</td>\n",
              "      <td>2016-11-13</td>\n",
              "      <td>25000.0</td>\n",
              "      <td>2016-10-14 14:50:26</td>\n",
              "      <td>25574.0</td>\n",
              "      <td>successful</td>\n",
              "      <td>139</td>\n",
              "      <td>US</td>\n",
              "      <td>4861.00</td>\n",
              "      <td>25574.00</td>\n",
              "      <td>25000.0</td>\n",
              "    </tr>\n",
              "    <tr>\n",
              "      <th>2</th>\n",
              "      <td>2</td>\n",
              "      <td>1158384038</td>\n",
              "      <td>WOD CUSTOMS</td>\n",
              "      <td>Apparel</td>\n",
              "      <td>Fashion</td>\n",
              "      <td>USD</td>\n",
              "      <td>2016-12-03</td>\n",
              "      <td>2000.0</td>\n",
              "      <td>2016-11-05 03:38:28</td>\n",
              "      <td>74.0</td>\n",
              "      <td>canceled</td>\n",
              "      <td>2</td>\n",
              "      <td>US</td>\n",
              "      <td>54.00</td>\n",
              "      <td>74.00</td>\n",
              "      <td>2000.0</td>\n",
              "    </tr>\n",
              "    <tr>\n",
              "      <th>3</th>\n",
              "      <td>3</td>\n",
              "      <td>1817514428</td>\n",
              "      <td>c - a science fiction short film</td>\n",
              "      <td>Shorts</td>\n",
              "      <td>Film &amp; Video</td>\n",
              "      <td>USD</td>\n",
              "      <td>2010-09-24</td>\n",
              "      <td>8000.0</td>\n",
              "      <td>2010-08-21 10:13:28</td>\n",
              "      <td>565.0</td>\n",
              "      <td>failed</td>\n",
              "      <td>15</td>\n",
              "      <td>US</td>\n",
              "      <td>565.00</td>\n",
              "      <td>565.00</td>\n",
              "      <td>8000.0</td>\n",
              "    </tr>\n",
              "    <tr>\n",
              "      <th>4</th>\n",
              "      <td>4</td>\n",
              "      <td>642039479</td>\n",
              "      <td>Finding the Treasure of El Angel Bueno, a Docu...</td>\n",
              "      <td>Documentary</td>\n",
              "      <td>Film &amp; Video</td>\n",
              "      <td>USD</td>\n",
              "      <td>2016-12-02</td>\n",
              "      <td>45000.0</td>\n",
              "      <td>2016-10-18 04:19:05</td>\n",
              "      <td>89.0</td>\n",
              "      <td>canceled</td>\n",
              "      <td>2</td>\n",
              "      <td>US</td>\n",
              "      <td>50.00</td>\n",
              "      <td>89.00</td>\n",
              "      <td>45000.0</td>\n",
              "    </tr>\n",
              "  </tbody>\n",
              "</table>\n",
              "</div>"
            ],
            "text/plain": [
              "   Unnamed: 0          ID  ... usd_pledged_real usd_goal_real\n",
              "0           0  2079338443  ...        161575.34      311332.5\n",
              "1           1   645559618  ...         25574.00       25000.0\n",
              "2           2  1158384038  ...            74.00        2000.0\n",
              "3           3  1817514428  ...           565.00        8000.0\n",
              "4           4   642039479  ...            89.00       45000.0\n",
              "\n",
              "[5 rows x 16 columns]"
            ]
          },
          "metadata": {
            "tags": []
          },
          "execution_count": 3
        }
      ]
    },
    {
      "cell_type": "code",
      "metadata": {
        "id": "NWZIKJLO0cto",
        "colab_type": "code",
        "colab": {
          "base_uri": "https://localhost:8080/",
          "height": 415
        },
        "outputId": "0311fcaa-23a3-4497-c40b-1b2b0d37d250"
      },
      "source": [
        "data.info()"
      ],
      "execution_count": 4,
      "outputs": [
        {
          "output_type": "stream",
          "text": [
            "<class 'pandas.core.frame.DataFrame'>\n",
            "RangeIndex: 10000 entries, 0 to 9999\n",
            "Data columns (total 16 columns):\n",
            " #   Column            Non-Null Count  Dtype  \n",
            "---  ------            --------------  -----  \n",
            " 0   Unnamed: 0        10000 non-null  int64  \n",
            " 1   ID                10000 non-null  int64  \n",
            " 2   name              9999 non-null   object \n",
            " 3   category          10000 non-null  object \n",
            " 4   main_category     10000 non-null  object \n",
            " 5   currency          10000 non-null  object \n",
            " 6   deadline          10000 non-null  object \n",
            " 7   goal              10000 non-null  float64\n",
            " 8   launched          10000 non-null  object \n",
            " 9   pledged           10000 non-null  float64\n",
            " 10  state             10000 non-null  object \n",
            " 11  backers           10000 non-null  int64  \n",
            " 12  country           10000 non-null  object \n",
            " 13  usd pledged       9906 non-null   float64\n",
            " 14  usd_pledged_real  10000 non-null  float64\n",
            " 15  usd_goal_real     10000 non-null  float64\n",
            "dtypes: float64(5), int64(3), object(8)\n",
            "memory usage: 1.2+ MB\n"
          ],
          "name": "stdout"
        }
      ]
    },
    {
      "cell_type": "code",
      "metadata": {
        "id": "axdA0Ih2wgQm",
        "colab_type": "code",
        "colab": {}
      },
      "source": [
        "data = data.dropna()\n",
        "\n",
        "# eller mere elgant:\n",
        "# data.dropna(inplace=True)"
      ],
      "execution_count": 5,
      "outputs": []
    },
    {
      "cell_type": "code",
      "metadata": {
        "id": "MgHeaIP20jzT",
        "colab_type": "code",
        "colab": {
          "base_uri": "https://localhost:8080/",
          "height": 415
        },
        "outputId": "1926dff5-07c6-4b70-b59d-d4a22995c089"
      },
      "source": [
        "data.info()"
      ],
      "execution_count": 6,
      "outputs": [
        {
          "output_type": "stream",
          "text": [
            "<class 'pandas.core.frame.DataFrame'>\n",
            "Int64Index: 9905 entries, 0 to 9999\n",
            "Data columns (total 16 columns):\n",
            " #   Column            Non-Null Count  Dtype  \n",
            "---  ------            --------------  -----  \n",
            " 0   Unnamed: 0        9905 non-null   int64  \n",
            " 1   ID                9905 non-null   int64  \n",
            " 2   name              9905 non-null   object \n",
            " 3   category          9905 non-null   object \n",
            " 4   main_category     9905 non-null   object \n",
            " 5   currency          9905 non-null   object \n",
            " 6   deadline          9905 non-null   object \n",
            " 7   goal              9905 non-null   float64\n",
            " 8   launched          9905 non-null   object \n",
            " 9   pledged           9905 non-null   float64\n",
            " 10  state             9905 non-null   object \n",
            " 11  backers           9905 non-null   int64  \n",
            " 12  country           9905 non-null   object \n",
            " 13  usd pledged       9905 non-null   float64\n",
            " 14  usd_pledged_real  9905 non-null   float64\n",
            " 15  usd_goal_real     9905 non-null   float64\n",
            "dtypes: float64(5), int64(3), object(8)\n",
            "memory usage: 1.3+ MB\n"
          ],
          "name": "stdout"
        }
      ]
    },
    {
      "cell_type": "markdown",
      "metadata": {
        "id": "3eGOvtbhyVAs",
        "colab_type": "text"
      },
      "source": [
        "# 3"
      ]
    },
    {
      "cell_type": "code",
      "metadata": {
        "id": "0bPidwBDydk2",
        "colab_type": "code",
        "colab": {
          "base_uri": "https://localhost:8080/",
          "height": 35
        },
        "outputId": "656cb814-69f6-4704-b900-b50effb8714c"
      },
      "source": [
        "# A\n",
        "data.main_category.nunique()\n",
        "\n",
        "# eller:\n",
        "# len(data.main_category.unique())\n",
        "# eller:\n",
        "# data.main_category.value_counts().shape\n",
        "# eller\n",
        "# len(data.main_category.value_counts())\n",
        "# eller manuelt"
      ],
      "execution_count": 21,
      "outputs": [
        {
          "output_type": "execute_result",
          "data": {
            "text/plain": [
              "15"
            ]
          },
          "metadata": {
            "tags": []
          },
          "execution_count": 21
        }
      ]
    },
    {
      "cell_type": "code",
      "metadata": {
        "id": "cyZ3EdFo0lZc",
        "colab_type": "code",
        "colab": {
          "base_uri": "https://localhost:8080/",
          "height": 207
        },
        "outputId": "17604e43-d4d8-4802-b0cb-f38761b87f6a"
      },
      "source": [
        "# A\n",
        "\n",
        "data.main_category.value_counts()[:10]"
      ],
      "execution_count": 25,
      "outputs": [
        {
          "output_type": "execute_result",
          "data": {
            "text/plain": [
              "Film & Video    1658\n",
              "Music           1318\n",
              "Publishing      1109\n",
              "Games            891\n",
              "Technology       825\n",
              "Design           825\n",
              "Art              725\n",
              "Fashion          649\n",
              "Food             623\n",
              "Theater          291\n",
              "Name: main_category, dtype: int64"
            ]
          },
          "metadata": {
            "tags": []
          },
          "execution_count": 25
        }
      ]
    },
    {
      "cell_type": "code",
      "metadata": {
        "id": "jsZVncQP07hQ",
        "colab_type": "code",
        "colab": {
          "base_uri": "https://localhost:8080/",
          "height": 415
        },
        "outputId": "4301ff40-de4d-4707-be07-49b0b75aa278"
      },
      "source": [
        "# B\n",
        "\n",
        "data.country.value_counts()\n",
        "\n",
        "# DK har 21 - det er nok som løsning"
      ],
      "execution_count": 8,
      "outputs": [
        {
          "output_type": "execute_result",
          "data": {
            "text/plain": [
              "US    7697\n",
              "GB     901\n",
              "CA     378\n",
              "AU     209\n",
              "DE      99\n",
              "IT      83\n",
              "FR      82\n",
              "NL      72\n",
              "ES      62\n",
              "MX      57\n",
              "SE      57\n",
              "CH      36\n",
              "NZ      34\n",
              "IE      24\n",
              "BE      21\n",
              "DK      21\n",
              "HK      19\n",
              "AT      19\n",
              "SG      18\n",
              "NO      14\n",
              "LU       1\n",
              "JP       1\n",
              "Name: country, dtype: int64"
            ]
          },
          "metadata": {
            "tags": []
          },
          "execution_count": 8
        }
      ]
    },
    {
      "cell_type": "code",
      "metadata": {
        "id": "Ne_BYq2U2hWq",
        "colab_type": "code",
        "colab": {
          "base_uri": "https://localhost:8080/",
          "height": 35
        },
        "outputId": "3aed771d-6f5d-4519-bb9e-f95e7d2409ee"
      },
      "source": [
        "# C\n",
        "\n",
        "data.goal.mean()"
      ],
      "execution_count": 9,
      "outputs": [
        {
          "output_type": "execute_result",
          "data": {
            "text/plain": [
              "46113.649758707725"
            ]
          },
          "metadata": {
            "tags": []
          },
          "execution_count": 9
        }
      ]
    },
    {
      "cell_type": "code",
      "metadata": {
        "id": "4tAX4Gs_2rX2",
        "colab_type": "code",
        "colab": {
          "base_uri": "https://localhost:8080/",
          "height": 225
        },
        "outputId": "aadcb3d6-3980-4815-ba76-fea59c17a73b"
      },
      "source": [
        "# C\n",
        "\n",
        "data.groupby('main_category').goal.mean().sort_values(ascending=False)[:10]"
      ],
      "execution_count": 28,
      "outputs": [
        {
          "output_type": "execute_result",
          "data": {
            "text/plain": [
              "main_category\n",
              "Technology      184027.635152\n",
              "Games            63505.478126\n",
              "Film & Video     57723.758088\n",
              "Art              54739.469862\n",
              "Design           34654.609697\n",
              "Journalism       33699.439655\n",
              "Food             33289.866774\n",
              "Theater          33136.381375\n",
              "Dance            20103.650485\n",
              "Publishing       17538.330929\n",
              "Name: goal, dtype: float64"
            ]
          },
          "metadata": {
            "tags": []
          },
          "execution_count": 28
        }
      ]
    },
    {
      "cell_type": "code",
      "metadata": {
        "id": "qbidCiqY3QI5",
        "colab_type": "code",
        "colab": {
          "base_uri": "https://localhost:8080/",
          "height": 225
        },
        "outputId": "605a46d6-9718-41aa-c1cd-91b853d7ba70"
      },
      "source": [
        "# D\n",
        "data.groupby('main_category').goal.median().sort_values(ascending=False)[:10]"
      ],
      "execution_count": 29,
      "outputs": [
        {
          "output_type": "execute_result",
          "data": {
            "text/plain": [
              "main_category\n",
              "Technology      20000.0\n",
              "Games           10000.0\n",
              "Food            10000.0\n",
              "Design          10000.0\n",
              "Film & Video     7000.0\n",
              "Journalism       5550.0\n",
              "Publishing       5000.0\n",
              "Fashion          5000.0\n",
              "Music            3622.5\n",
              "Theater          3500.0\n",
              "Name: goal, dtype: float64"
            ]
          },
          "metadata": {
            "tags": []
          },
          "execution_count": 29
        }
      ]
    },
    {
      "cell_type": "markdown",
      "metadata": {
        "id": "kqKiHdSK0R1a",
        "colab_type": "text"
      },
      "source": [
        "De fleste projekter søger noget omkring 20k i funding. Men der må være en del outliers med store beløb, som driver gennemsnit op."
      ]
    },
    {
      "cell_type": "code",
      "metadata": {
        "id": "PenYhZMF5FvJ",
        "colab_type": "code",
        "colab": {
          "base_uri": "https://localhost:8080/",
          "height": 173
        },
        "outputId": "74799bdf-d31b-41ec-b583-9ceb8444fea1"
      },
      "source": [
        "# E\n",
        "data.backers.describe()"
      ],
      "execution_count": 12,
      "outputs": [
        {
          "output_type": "execute_result",
          "data": {
            "text/plain": [
              "count     9905.000000\n",
              "mean       100.590409\n",
              "std        665.198688\n",
              "min          0.000000\n",
              "25%          2.000000\n",
              "50%         11.000000\n",
              "75%         54.000000\n",
              "max      33741.000000\n",
              "Name: backers, dtype: float64"
            ]
          },
          "metadata": {
            "tags": []
          },
          "execution_count": 12
        }
      ]
    },
    {
      "cell_type": "code",
      "metadata": {
        "id": "djsi4Dy71oqD",
        "colab_type": "code",
        "colab": {
          "base_uri": "https://localhost:8080/",
          "height": 35
        },
        "outputId": "64b0c9bc-2817-4562-ab1d-ff40e8cd3091"
      },
      "source": [
        "# BONUS \n",
        "iqr = data.backers.quantile(0.75) - data.backers.quantile(0.25)\n",
        "data.backers.quantile(0.75) + 1.5*iqr"
      ],
      "execution_count": 30,
      "outputs": [
        {
          "output_type": "execute_result",
          "data": {
            "text/plain": [
              "132.0"
            ]
          },
          "metadata": {
            "tags": []
          },
          "execution_count": 30
        }
      ]
    },
    {
      "cell_type": "markdown",
      "metadata": {
        "id": "HbOEZlLv0mf5",
        "colab_type": "text"
      },
      "source": [
        "Gennemsnitlig har projekter 100 støtter. Men værdien er ikke repræsentativ for de fleste projekter pga. en højreskæv fordeling. De fleste projekter vil typisk have mellem 2 og 54 støtter. \n",
        "Projekter med mere end 132 støtter kan betragtes som outliers og atypiske."
      ]
    },
    {
      "cell_type": "markdown",
      "metadata": {
        "id": "sR_2iVEm2SfN",
        "colab_type": "text"
      },
      "source": [
        "# 4"
      ]
    },
    {
      "cell_type": "code",
      "metadata": {
        "id": "dIM7bsc_8ADL",
        "colab_type": "code",
        "colab": {
          "base_uri": "https://localhost:8080/",
          "height": 308
        },
        "outputId": "8dc3800c-ee02-4e88-9873-dbd8745e5685"
      },
      "source": [
        "# A\n",
        "sns.distplot(data.usd_pledged_real)"
      ],
      "execution_count": 13,
      "outputs": [
        {
          "output_type": "execute_result",
          "data": {
            "text/plain": [
              "<matplotlib.axes._subplots.AxesSubplot at 0x7fde75c99860>"
            ]
          },
          "metadata": {
            "tags": []
          },
          "execution_count": 13
        },
        {
          "output_type": "display_data",
          "data": {
            "image/png": "[encoded data removed]",
            "text/plain": [
              "<Figure size 432x288 with 1 Axes>"
            ]
          },
          "metadata": {
            "tags": [],
            "needs_background": "light"
          }
        }
      ]
    },
    {
      "cell_type": "code",
      "metadata": {
        "id": "5QR0U8-W5bF6",
        "colab_type": "code",
        "colab": {
          "base_uri": "https://localhost:8080/",
          "height": 297
        },
        "outputId": "1215ab06-5d51-47c4-da72-32c8dc3a168f"
      },
      "source": [
        "# B\n",
        "sns.boxplot(data = data, y='state', x= 'usd_pledged_real')"
      ],
      "execution_count": 14,
      "outputs": [
        {
          "output_type": "execute_result",
          "data": {
            "text/plain": [
              "<matplotlib.axes._subplots.AxesSubplot at 0x7fde7603dc88>"
            ]
          },
          "metadata": {
            "tags": []
          },
          "execution_count": 14
        },
        {
          "output_type": "display_data",
          "data": {
            "image/png": "[encoded data removed]",
            "text/plain": [
              "<Figure size 432x288 with 1 Axes>"
            ]
          },
          "metadata": {
            "tags": [],
            "needs_background": "light"
          }
        }
      ]
    },
    {
      "cell_type": "code",
      "metadata": {
        "id": "ITzv9q4fxgns",
        "colab_type": "code",
        "colab": {
          "base_uri": "https://localhost:8080/",
          "height": 297
        },
        "outputId": "f1bcaf52-6eba-4d83-c0d3-e24903c2016b"
      },
      "source": [
        "# IKKE EN DEL AF OPGAVEN men nice til næste gange (tak til dem af jer, der viste mig det her).\n",
        "sns.boxplot(data = data, y='state', x= 'usd_pledged_real', showfliers = False)"
      ],
      "execution_count": 15,
      "outputs": [
        {
          "output_type": "execute_result",
          "data": {
            "text/plain": [
              "<matplotlib.axes._subplots.AxesSubplot at 0x7fde75dc3f60>"
            ]
          },
          "metadata": {
            "tags": []
          },
          "execution_count": 15
        },
        {
          "output_type": "display_data",
          "data": {
            "image/png": "[encoded data removed]",
            "text/plain": [
              "<Figure size 432x288 with 1 Axes>"
            ]
          },
          "metadata": {
            "tags": [],
            "needs_background": "light"
          }
        }
      ]
    },
    {
      "cell_type": "code",
      "metadata": {
        "id": "nH5TIW8E7qWp",
        "colab_type": "code",
        "colab": {}
      },
      "source": [
        "#C\n",
        "data_filter = data[data.usd_pledged_real < data.usd_pledged_real.quantile(q=0.90)]"
      ],
      "execution_count": 35,
      "outputs": []
    },
    {
      "cell_type": "code",
      "metadata": {
        "id": "WjOFhBa38Ln0",
        "colab_type": "code",
        "colab": {
          "base_uri": "https://localhost:8080/",
          "height": 297
        },
        "outputId": "fd356286-1ca6-42eb-eef0-891c74311f2f"
      },
      "source": [
        "sns.distplot(data_filter.usd_pledged_real)"
      ],
      "execution_count": 36,
      "outputs": [
        {
          "output_type": "execute_result",
          "data": {
            "text/plain": [
              "<matplotlib.axes._subplots.AxesSubplot at 0x7fde6dc74fd0>"
            ]
          },
          "metadata": {
            "tags": []
          },
          "execution_count": 36
        },
        {
          "output_type": "display_data",
          "data": {
            "image/png": "[encoded data removed]",
            "text/plain": [
              "<Figure size 432x288 with 1 Axes>"
            ]
          },
          "metadata": {
            "tags": [],
            "needs_background": "light"
          }
        }
      ]
    },
    {
      "cell_type": "code",
      "metadata": {
        "id": "tIRKMfkO8YMf",
        "colab_type": "code",
        "colab": {
          "base_uri": "https://localhost:8080/",
          "height": 297
        },
        "outputId": "17ff89b8-0d73-43cc-bd3a-5b4348a335d2"
      },
      "source": [
        "sns.boxplot(data = data_filter, y='state', x= 'usd_pledged_real')"
      ],
      "execution_count": 37,
      "outputs": [
        {
          "output_type": "execute_result",
          "data": {
            "text/plain": [
              "<matplotlib.axes._subplots.AxesSubplot at 0x7fde6db763c8>"
            ]
          },
          "metadata": {
            "tags": []
          },
          "execution_count": 37
        },
        {
          "output_type": "display_data",
          "data": {
            "image/png": "[encoded data removed]",
            "text/plain": [
              "<Figure size 432x288 with 1 Axes>"
            ]
          },
          "metadata": {
            "tags": [],
            "needs_background": "light"
          }
        }
      ]
    },
    {
      "cell_type": "markdown",
      "metadata": {
        "id": "6NohvAYU2lH8",
        "colab_type": "text"
      },
      "source": [
        "Projekter, der kom igennem, ser ud til at arbejde med nogle mindre og måske mere realistiske budgetter (op til 6k USD)\n",
        "Projekter i failed og canceled har tit fået mange penge men det kan være, at de havde søgt langt flere penge. At undersøge dette ville krave at se på indtægter ift deres forventninger og de forskellige resultater (state)\n"
      ]
    }
  ]
}