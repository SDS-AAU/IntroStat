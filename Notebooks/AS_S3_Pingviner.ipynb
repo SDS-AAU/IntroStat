{
  "nbformat": 4,
  "nbformat_minor": 0,
  "metadata": {
    "colab": {
      "name": "AS-S3-Pingviner",
      "provenance": [],
      "collapsed_sections": [
        "636GleX-kngX"
      ],
      "include_colab_link": true
    },
    "kernelspec": {
      "name": "python3",
      "display_name": "Python 3"
    }
  },
  "cells": [
    {
      "cell_type": "markdown",
      "metadata": {
        "id": "view-in-github",
        "colab_type": "text"
      },
      "source": [
        "<a href=\"https://colab.research.google.com/github/SDS-AAU/IntroStat/blob/master/Notebooks/AS_S3_Pingviner.ipynb\" target=\"_parent\"><img src=\"https://colab.research.google.com/assets/colab-badge.svg\" alt=\"Open In Colab\"/></a>"
      ]
    },
    {
      "cell_type": "code",
      "metadata": {
        "id": "2rCkZuusew6y",
        "colab_type": "code",
        "colab": {}
      },
      "source": [
        "import pandas as pd #pandas (som næsten altid)\n",
        "import numpy as np #numpy hvis der skal laves mere komplekse beregninger\n",
        "import seaborn as sns #seaborn til plots\n",
        " \n",
        "from matplotlib import pyplot as plt #plot control\n",
        " \n",
        "sns.set() #plot style\n",
        " \n",
        " \n",
        "from IPython.display import HTML #Youtube embed"
      ],
      "execution_count": null,
      "outputs": []
    },
    {
      "cell_type": "markdown",
      "metadata": {
        "id": "_yH-TbYZ_qGz",
        "colab_type": "text"
      },
      "source": [
        "# Anvendt statistik S2 - Hands-on\n",
        "\n",
        "Her kommer vi til at se på et datasæt af pingviner (man kan læse mere om data her: https://github.com/allisonhorst/palmerpenguins)\n",
        "\n",
        "![](https://github.com/allisonhorst/palmerpenguins/raw/master/man/figures/lter_penguins.png)\n",
        "\n",
        "Hvis du har 2 minutter og vil vide mere om disse pingviner, så er der en kort video om dem..."
      ]
    },
    {
      "cell_type": "code",
      "metadata": {
        "id": "deQx4zZlA7Zc",
        "colab_type": "code",
        "colab": {}
      },
      "source": [
        "HTML('<iframe width=\"700\" height=\"400\" src=\"https://www.youtube-nocookie.com/embed/QS5jpQ6cpsg\" frameborder=\"0\" allow=\"accelerometer; autoplay; encrypted-media; gyroscope; picture-in-picture\" allowfullscreen></iframe>')"
      ],
      "execution_count": null,
      "outputs": []
    },
    {
      "cell_type": "code",
      "metadata": {
        "id": "_14N5YHHkpG9",
        "colab_type": "code",
        "colab": {}
      },
      "source": [
        "# Vi åbner vores penvin data direkte fra github\n",
        "penguins = pd.read_csv(\"https://github.com/allisonhorst/palmerpenguins/raw/5b5891f01b52ae26ad8cb9755ec93672f49328a8/data/penguins_size.csv\")"
      ],
      "execution_count": null,
      "outputs": []
    },
    {
      "cell_type": "code",
      "metadata": {
        "id": "S7j22qFB0XtY",
        "colab_type": "code",
        "colab": {}
      },
      "source": [
        "# første 5 rækker\n",
        "penguins.head()"
      ],
      "execution_count": null,
      "outputs": []
    },
    {
      "cell_type": "code",
      "metadata": {
        "id": "vUWsnxxJluSE",
        "colab_type": "code",
        "colab": {}
      },
      "source": [
        "# info viser, at der er nogle datapunkter, der mangler...\n",
        "penguins.info()"
      ],
      "execution_count": null,
      "outputs": []
    },
    {
      "cell_type": "code",
      "metadata": {
        "id": "faDaEkGI0tmH",
        "colab_type": "code",
        "colab": {}
      },
      "source": [
        "# her sletter vi alle rækker, hvor der mangler data for en eller anden variabel\n",
        "\n",
        "penguins = penguins.dropna()"
      ],
      "execution_count": null,
      "outputs": []
    },
    {
      "cell_type": "code",
      "metadata": {
        "id": "Ri_VZrFI0wWX",
        "colab_type": "code",
        "colab": {}
      },
      "source": [
        "penguins.info()"
      ],
      "execution_count": null,
      "outputs": []
    },
    {
      "cell_type": "markdown",
      "metadata": {
        "id": "XAd16mPIDHap",
        "colab_type": "text"
      },
      "source": [
        "## Simple frekvens beregninger\n",
        "\n",
        "- Hvor mange han/hun pingviner?\n",
        "- Hvor mange pingviner af de forskellige arter?\n",
        "- Hvor mange øer er der?\n",
        "- Gennemsnit for `body_mass_g` (vægt) per køn og art.\n"
      ]
    },
    {
      "cell_type": "code",
      "metadata": {
        "id": "DxbVZgAvDGiG",
        "colab_type": "code",
        "colab": {}
      },
      "source": [
        "# Hvor mange han/hun pengviner?\n",
        "penguins.sex.value_counts()"
      ],
      "execution_count": null,
      "outputs": []
    },
    {
      "cell_type": "code",
      "metadata": {
        "id": "8On3lYXbECkV",
        "colab_type": "code",
        "colab": {}
      },
      "source": [
        "# Hvor mange pengviner af de forskellige arter?\n",
        "penguins.species_short.value_counts()"
      ],
      "execution_count": null,
      "outputs": []
    },
    {
      "cell_type": "code",
      "metadata": {
        "id": "a4A3udBfEC37",
        "colab_type": "code",
        "colab": {}
      },
      "source": [
        "# Hvor mange øer (observationer af forskellige) er der?\n",
        "penguins.island.value_counts()"
      ],
      "execution_count": null,
      "outputs": []
    },
    {
      "cell_type": "code",
      "metadata": {
        "id": "PQIXnBaFEDSc",
        "colab_type": "code",
        "colab": {}
      },
      "source": [
        "# Gennemsnit for body_mass_g (vægt) per køn.\n",
        "penguins[penguins.sex == 'MALE'].body_mass_g.mean()"
      ],
      "execution_count": null,
      "outputs": []
    },
    {
      "cell_type": "code",
      "metadata": {
        "id": "cx09NjZLE8Kw",
        "colab_type": "code",
        "colab": {}
      },
      "source": [
        "penguins[penguins.sex == 'FEMALE'].body_mass_g.mean()"
      ],
      "execution_count": null,
      "outputs": []
    },
    {
      "cell_type": "code",
      "metadata": {
        "id": "AqU80ipYFqYe",
        "colab_type": "code",
        "colab": {}
      },
      "source": [
        "# Gennemsnit for body_mass_g (vægt) per art.\n",
        "\n",
        "penguins.species_short.unique() # vi starter med at se på hvor mange unike arter der er"
      ],
      "execution_count": null,
      "outputs": []
    },
    {
      "cell_type": "code",
      "metadata": {
        "id": "CRIWwROhEDqd",
        "colab_type": "code",
        "colab": {}
      },
      "source": [
        "penguins.groupby(by='species_short').body_mass_g.mean() # groupby og mean er en nem måde at beregne det hele med lidt kode..."
      ],
      "execution_count": null,
      "outputs": []
    },
    {
      "cell_type": "markdown",
      "metadata": {
        "id": "FF3BBtEwFStE",
        "colab_type": "text"
      },
      "source": [
        "![](https://jakevdp.github.io/PythonDataScienceHandbook/figures/03.08-split-apply-combine.png)\n",
        "\n",
        "Mere om groupby og aggregation\n",
        "(https://jakevdp.github.io/PythonDataScienceHandbook/03.08-aggregation-and-grouping.html)"
      ]
    },
    {
      "cell_type": "markdown",
      "metadata": {
        "id": "JMuLwOetKcid",
        "colab_type": "text"
      },
      "source": [
        "## Beregning af nøgletal der beskriver fordeling\n",
        "\n",
        "- median\n",
        "- percentiler"
      ]
    },
    {
      "cell_type": "code",
      "metadata": {
        "id": "pyBGIwjqKl_j",
        "colab_type": "code",
        "colab": {}
      },
      "source": [
        "# median\n",
        "penguins.body_mass_g.median()"
      ],
      "execution_count": null,
      "outputs": []
    },
    {
      "cell_type": "code",
      "metadata": {
        "id": "ffntE6L7K0HY",
        "colab_type": "code",
        "colab": {}
      },
      "source": [
        "# 25 percentil\n",
        "penguins.body_mass_g.quantile(q=0.25)"
      ],
      "execution_count": null,
      "outputs": []
    },
    {
      "cell_type": "code",
      "metadata": {
        "id": "nNFGhSWzLrz-",
        "colab_type": "code",
        "colab": {}
      },
      "source": [
        "# 75 percentil\n",
        "penguins.body_mass_g.quantile(q=0.75)"
      ],
      "execution_count": null,
      "outputs": []
    },
    {
      "cell_type": "code",
      "metadata": {
        "id": "twfktbBXLXyW",
        "colab_type": "code",
        "colab": {}
      },
      "source": [
        "# med numpy:\n",
        "\n",
        "np.percentile(penguins.body_mass_g, 25)\n",
        "\n",
        "# hvis der er manglende data, så skal vi bruge \"nanpercentile\" i numpy\n",
        "# np.nanpercentile(penguins.body_mass_g, 25) \n"
      ],
      "execution_count": null,
      "outputs": []
    },
    {
      "cell_type": "code",
      "metadata": {
        "id": "MCvpziRWn3wE",
        "colab_type": "code",
        "colab": {}
      },
      "source": [
        "# eller:\n",
        "\n",
        "penguins.body_mass_g.describe()"
      ],
      "execution_count": null,
      "outputs": []
    },
    {
      "cell_type": "code",
      "metadata": {
        "id": "v9x62fWHv0tR",
        "colab_type": "code",
        "colab": {}
      },
      "source": [
        "# og det kan man også bruge i kombination med groupby!\n",
        "\n",
        "penguins.groupby('species_short').body_mass_g.describe()"
      ],
      "execution_count": null,
      "outputs": []
    },
    {
      "cell_type": "markdown",
      "metadata": {
        "id": "a1XZewjcGJ1z",
        "colab_type": "text"
      },
      "source": [
        "## Visualisering af numeriske variable og fordelinger\n",
        "\n",
        "Her kigger vi på forskellige muligheder at visualisere og præsentere fordelinger af én variable i Python med Seaborn\n",
        "\n",
        "*   Swarmplot\n",
        "*   Boxplot\n",
        "* Histogram (KDE-plot) mm\n",
        "\n"
      ]
    },
    {
      "cell_type": "code",
      "metadata": {
        "id": "2aZsZOleJJH0",
        "colab_type": "code",
        "colab": {}
      },
      "source": [
        "# plot body_mass_g for alle pengviner som swarmplat\n",
        "\n",
        "sns.swarmplot(penguins.body_mass_g)\n"
      ],
      "execution_count": null,
      "outputs": []
    },
    {
      "cell_type": "code",
      "metadata": {
        "id": "Ag-gDoYTJhNa",
        "colab_type": "code",
        "colab": {}
      },
      "source": [
        "#lidt større og med overskrift\n",
        "plt.figure(figsize=(10,5))\n",
        "plt.title('Vægt pingviner')\n",
        "\n",
        "sns.swarmplot(penguins.body_mass_g)"
      ],
      "execution_count": null,
      "outputs": []
    },
    {
      "cell_type": "markdown",
      "metadata": {
        "id": "CYx16wYUJ1tx",
        "colab_type": "text"
      },
      "source": [
        "En swarmplot er nok den nemmeste visualisering af en variable. Her plottes bare punkter for hver pengvin på 1 akse. Bagefer sorteres punkterne lidt...\n",
        "\n",
        "Nedenunder er den udgave uden sortering (stripplot)"
      ]
    },
    {
      "cell_type": "code",
      "metadata": {
        "id": "NMrYYIWMJ0P8",
        "colab_type": "code",
        "colab": {}
      },
      "source": [
        "#lidt større og med overskrift\n",
        "plt.figure(figsize=(10,5))\n",
        "plt.title('Vægt pingviner')\n",
        "\n",
        "sns.stripplot(penguins.body_mass_g)"
      ],
      "execution_count": null,
      "outputs": []
    },
    {
      "cell_type": "markdown",
      "metadata": {
        "id": "jP9HOBOpKPSG",
        "colab_type": "text"
      },
      "source": [
        "En swarmplot siger ikke alt for meget. Lad os prøve at lave en boxplot\n",
        "\n",
        "![](https://miro.medium.com/max/1400/1*2c21SkzJMf3frPXPAR_gZA.png)"
      ]
    },
    {
      "cell_type": "code",
      "metadata": {
        "id": "a74EO2cIKOLp",
        "colab_type": "code",
        "colab": {}
      },
      "source": [
        "plt.figure(figsize=(10,3))\n",
        "plt.title('Vægt pingviner')\n",
        "\n",
        "sns.boxplot(penguins.body_mass_g)\n"
      ],
      "execution_count": null,
      "outputs": []
    },
    {
      "cell_type": "code",
      "metadata": {
        "id": "yVxl4qkPozpG",
        "colab_type": "code",
        "colab": {}
      },
      "source": [
        "plt.figure(figsize=(10,3))\n",
        "plt.title('Vægt pingviner')\n",
        "\n",
        "# to plots over hinanden\n",
        "g = sns.boxplot(penguins.body_mass_g) # g = defineres for at kunne beskrive X-akse\n",
        "sns.swarmplot(penguins.body_mass_g, palette='Oranges')\n",
        "\n",
        "g.set(xlabel='Vægt i g')"
      ],
      "execution_count": null,
      "outputs": []
    },
    {
      "cell_type": "code",
      "metadata": {
        "id": "uudk6uOdqecY",
        "colab_type": "code",
        "colab": {}
      },
      "source": [
        "# opdeling: han/hun - pingviner\n",
        "\n",
        "plt.figure(figsize=(10,6))\n",
        "plt.title('Vægt pingviner')\n",
        "\n",
        "sns.boxplot(data = penguins, x = \"body_mass_g\", y = \"sex\")"
      ],
      "execution_count": null,
      "outputs": []
    },
    {
      "cell_type": "code",
      "metadata": {
        "id": "m5N5DtayqSIi",
        "colab_type": "code",
        "colab": {}
      },
      "source": [
        "penguins.sex.unique()"
      ],
      "execution_count": null,
      "outputs": []
    },
    {
      "cell_type": "code",
      "metadata": {
        "id": "iRafK0vKpXvp",
        "colab_type": "code",
        "colab": {}
      },
      "source": [
        "# opdeling: han/hun - pingviner\n",
        "\n",
        "plt.figure(figsize=(10,6))\n",
        "plt.title('Vægt pingviner')\n",
        "\n",
        "sns.boxplot(data = penguins[penguins.sex.isin(['MALE', 'FEMALE'])], x = \"body_mass_g\", y = \"sex\")"
      ],
      "execution_count": null,
      "outputs": []
    },
    {
      "cell_type": "code",
      "metadata": {
        "id": "1_rViV7Oqj-K",
        "colab_type": "code",
        "colab": {}
      },
      "source": [
        "# opdeling på art og køn\n",
        "\n",
        "# opdeling: han/hun - pingviner\n",
        "\n",
        "plt.figure(figsize=(10,6))\n",
        "plt.title('Vægt pingviner')\n",
        "\n",
        "sns.boxplot(data = penguins[penguins.sex.isin(['MALE', 'FEMALE'])], x = \"body_mass_g\", y = \"species_short\" , hue = \"sex\")"
      ],
      "execution_count": null,
      "outputs": []
    },
    {
      "cell_type": "markdown",
      "metadata": {
        "id": "fTUDUkexrQxx",
        "colab_type": "text"
      },
      "source": [
        "Kan vi bruge flere \"datapunkter\" som input til vores visualisering? Yes! Vi kan prøve at lave et histogram.\n",
        "\n",
        "Lad os prøve at udvikle et histogram først fra bunden.\n"
      ]
    },
    {
      "cell_type": "code",
      "metadata": {
        "id": "_no1xGt6rPj6",
        "colab_type": "code",
        "colab": {}
      },
      "source": [
        "#Vi kan skære vores data i intervaller (som aldersgrupper i Titanic)\n",
        "\n",
        "penguins_cat = pd.cut(penguins.body_mass_g, bins = 15) #vi gemmer det i en ny \"Series\" udenfor vores penguins DataFrame"
      ],
      "execution_count": null,
      "outputs": []
    },
    {
      "cell_type": "code",
      "metadata": {
        "id": "mXKFlpPSt3Rn",
        "colab_type": "code",
        "colab": {}
      },
      "source": [
        "# og sådan ser det ud hvis vi tæller hvor mange pingviner der findes inden for grupperne\n",
        "penguins_cat.value_counts(sort=False)"
      ],
      "execution_count": null,
      "outputs": []
    },
    {
      "cell_type": "code",
      "metadata": {
        "id": "tdWe7flEtKR1",
        "colab_type": "code",
        "colab": {}
      },
      "source": [
        "# og så kan vi lige plotte det (bare ved at bruge pandas indbyggede plot funktioner)\n",
        "penguins_cat.value_counts(sort=False).plot(kind='bar')"
      ],
      "execution_count": null,
      "outputs": []
    },
    {
      "cell_type": "code",
      "metadata": {
        "id": "fHg5gdhkulLb",
        "colab_type": "code",
        "colab": {}
      },
      "source": [
        "# Det kan også gøres nemmere\n",
        "\n",
        "plt.figure(figsize=(10,5))\n",
        "plt.title('Vægt Pingviner')\n",
        "\n",
        "g = sns.distplot(penguins.body_mass_g, hist = True, kde = False, bins=15)\n",
        "\n",
        "g.set(xlabel='Vægt i g')"
      ],
      "execution_count": null,
      "outputs": []
    },
    {
      "cell_type": "code",
      "metadata": {
        "id": "jJLLqk6Gu2Xw",
        "colab_type": "code",
        "colab": {}
      },
      "source": [
        "# Her tilføjer vi lige KDE og rug\n",
        "plt.figure(figsize=(10,5))\n",
        "plt.title('Vægt Pingviner')\n",
        "\n",
        "g = sns.distplot(penguins.body_mass_g, hist = True, kde = True, rug=True, bins=15)\n",
        "\n",
        "g.set(xlabel='Vægt i g')"
      ],
      "execution_count": null,
      "outputs": []
    },
    {
      "cell_type": "code",
      "metadata": {
        "id": "y-m9jr0QvHtc",
        "colab_type": "code",
        "colab": {
          "base_uri": "https://localhost:8080/",
          "height": 546
        },
        "outputId": "02fb24bb-1876-46a3-a0af-cd9a96147069"
      },
      "source": [
        "# Og så kan vi lige lave 3 histogrammer i en plot\n",
        "\n",
        "g = sns.FacetGrid(penguins, hue=\"species_short\", height=7, aspect=1.5)\n",
        "g = g.map(sns.distplot, \"body_mass_g\", bins=20)\n",
        "g.add_legend()\n",
        "plt.title('Vægt pingviner')"
      ],
      "execution_count": 67,
      "outputs": [
        {
          "output_type": "execute_result",
          "data": {
            "text/plain": [
              "Text(0.5, 1.0, 'Vægt pingviner')"
            ]
          },
          "metadata": {
            "tags": []
          },
          "execution_count": 67
        },
        {
          "output_type": "display_data",
          "data": {
            "image/png": "[encoded data removed]",
            "text/plain": [
              "<Figure size 848.85x504 with 1 Axes>"
            ]
          },
          "metadata": {
            "tags": [],
            "needs_background": "light"
          }
        }
      ]
    },
    {
      "cell_type": "markdown",
      "metadata": {
        "id": "S8tbUXoW0-IV",
        "colab_type": "text"
      },
      "source": [
        "## Varians og standard-afvigelse\n",
        "I dette afsnit vil vi kigge nærmere på fordelingen af observationer. I de ovenstående afsnit kunne man gennem, blandt andet, boxplot og swarmplot se, at nogle af observationerne i data havde relativt stor afstand til de resterende punkter. Disse observationer er meget normale i det meste data, og bliver beskrevet som outliers. \n",
        "\n",
        "Selvom gennemsnit ofte kan give et fint indblik i hvordan en variabel fordeler sig, kan outliers have stor påvirkning på et gennemsnit. Spredningen er afgørende for hvor stor *usikkerhed* der er i målene for centrale tendenser, eksempelvis gennemsnit. \n",
        "\n",
        "Her vil i blive præsenteret for **varians** og **standardafvigelse**, to metoder til at vurdere spredning af data. \n",
        "\n",
        "---\n",
        "\n",
        "**Varians** er betegnet som gennemsnittet af de kvadrerede afvigelser fra middelværdien\n"
      ]
    },
    {
      "cell_type": "code",
      "metadata": {
        "id": "pSgSsq0PYsH5",
        "colab_type": "code",
        "colab": {
          "base_uri": "https://localhost:8080/",
          "height": 35
        },
        "outputId": "f48dd1f6-fca3-4278-87b9-20de00ce750f"
      },
      "source": [
        "# Manuel måde at udregne varians\n",
        "# Note: kun for at vise hvordan det ser ud \"under the hood\". Som i kan se, giver numpy's funktion samme output, og er meget simplere.\n",
        "diff = penguins.body_mass_g-penguins.body_mass_g.mean()\n",
        "diff_sq = diff**2\n",
        "varians_ex = diff_sq.mean()\n",
        "varians_ex"
      ],
      "execution_count": 55,
      "outputs": [
        {
          "output_type": "execute_result",
          "data": {
            "text/plain": [
              "645821.7901771307"
            ]
          },
          "metadata": {
            "tags": []
          },
          "execution_count": 55
        }
      ]
    },
    {
      "cell_type": "code",
      "metadata": {
        "id": "NoTmV-16aFr9",
        "colab_type": "code",
        "colab": {
          "base_uri": "https://localhost:8080/",
          "height": 35
        },
        "outputId": "1d87815d-d81f-4034-f806-37bc5278aa9f"
      },
      "source": [
        "# Med numpy's indbyggede funktion\n",
        "varians_np = np.var(penguins.body_mass_g)\n",
        "varians_np"
      ],
      "execution_count": 57,
      "outputs": [
        {
          "output_type": "execute_result",
          "data": {
            "text/plain": [
              "645821.7901771307"
            ]
          },
          "metadata": {
            "tags": []
          },
          "execution_count": 57
        }
      ]
    },
    {
      "cell_type": "code",
      "metadata": {
        "id": "yerAYGz0FL_c",
        "colab_type": "code",
        "colab": {
          "base_uri": "https://localhost:8080/",
          "height": 35
        },
        "outputId": "baf2583b-f33e-498e-ece6-a48a900e0256"
      },
      "source": [
        "# OBS: Pandas antager at man arbejder med nøgletal for stikprøve\n",
        "\n",
        "penguins.body_mass_g.var(ddof=0)"
      ],
      "execution_count": 59,
      "outputs": [
        {
          "output_type": "execute_result",
          "data": {
            "text/plain": [
              "645821.7901771307"
            ]
          },
          "metadata": {
            "tags": []
          },
          "execution_count": 59
        }
      ]
    },
    {
      "cell_type": "markdown",
      "metadata": {
        "id": "FyPHN4w-izeI",
        "colab_type": "text"
      },
      "source": [
        "Eftersom variansen viser de kvadrerede afvigelser, bliver tallet i dette tilfælde meget højt. Vi er interesserede i at finde den gennemsnitlige spredning for observationerne i en variabel. Den kan vi finde ved at udregne kvadratroden af variansen, også kendt som standardafvigelsen. \n",
        "**Standardafvigelsen** er altså den gennemsnitlige afstand fra middelværdien i en variabel. "
      ]
    },
    {
      "cell_type": "code",
      "metadata": {
        "id": "qo8FM3wDbWuY",
        "colab_type": "code",
        "colab": {
          "base_uri": "https://localhost:8080/",
          "height": 35
        },
        "outputId": "9cec24c5-8902-4a24-f3fa-0f3289901451"
      },
      "source": [
        "# Igen er den manuelle udregning medført, for at vise hvad der foregår når i anvender den hurtige løsning fra numpy: np.std()\n",
        "std_ex = np.sqrt(varians_np)\n",
        "print(std_ex)"
      ],
      "execution_count": 60,
      "outputs": [
        {
          "output_type": "stream",
          "text": [
            "803.6303815667566\n"
          ],
          "name": "stdout"
        }
      ]
    },
    {
      "cell_type": "code",
      "metadata": {
        "id": "dZe0wVoccGPA",
        "colab_type": "code",
        "colab": {
          "base_uri": "https://localhost:8080/",
          "height": 35
        },
        "outputId": "b8affba8-7db1-4299-f020-47966357a805"
      },
      "source": [
        "# Numpy's funktion for standardafvigelse\n",
        "# Note: læg mærke til at man kalder den oprindelige variabel i np.std(). man behøver derfor ikke at udregne variansen manuelt når man kun er interesseret i standardafvigelsen til videre analyser. \n",
        "# variansen er inddraget her for at vise den manuelle metode til at udføre de matematiske formler der ligger til grund for de funktioner i anvender i Python/excel\n",
        "std_np = np.std(penguins.body_mass_g)\n",
        "std_np"
      ],
      "execution_count": 61,
      "outputs": [
        {
          "output_type": "execute_result",
          "data": {
            "text/plain": [
              "803.6303815667566"
            ]
          },
          "metadata": {
            "tags": []
          },
          "execution_count": 61
        }
      ]
    },
    {
      "cell_type": "code",
      "metadata": {
        "id": "3pigpS8lFl2J",
        "colab_type": "code",
        "colab": {
          "base_uri": "https://localhost:8080/",
          "height": 35
        },
        "outputId": "3635f15e-850f-4347-d379-a1b5667e4746"
      },
      "source": [
        "# Eller i hverdagsbrug:\n",
        "\n",
        "penguins.body_mass_g.std() #Stikprøve"
      ],
      "execution_count": 62,
      "outputs": [
        {
          "output_type": "execute_result",
          "data": {
            "text/plain": [
              "804.836129253923"
            ]
          },
          "metadata": {
            "tags": []
          },
          "execution_count": 62
        }
      ]
    },
    {
      "cell_type": "code",
      "metadata": {
        "id": "Rj_sZVtuFsz2",
        "colab_type": "code",
        "colab": {
          "base_uri": "https://localhost:8080/",
          "height": 35
        },
        "outputId": "c3e5678e-c47e-4ef5-c06e-0c7544909f8c"
      },
      "source": [
        "penguins.body_mass_g.std(ddof=0)"
      ],
      "execution_count": 63,
      "outputs": [
        {
          "output_type": "execute_result",
          "data": {
            "text/plain": [
              "803.6303815667566"
            ]
          },
          "metadata": {
            "tags": []
          },
          "execution_count": 63
        }
      ]
    },
    {
      "cell_type": "markdown",
      "metadata": {
        "id": "636GleX-kngX",
        "colab_type": "text"
      },
      "source": [
        "#### Øvelse: I ovenstående eksempel lærte vi, at den gennemsnitlige vægtvariation mellem alle pingviner er ca. 800 gram. Find standardafvigelsen for hver af de tre pingvinarter. \n",
        "\n",
        "Hint: groupby er meget alsidig, se hvad der sker hvis man kalder std() i forlængelse af grupperingen. "
      ]
    },
    {
      "cell_type": "code",
      "metadata": {
        "id": "cFbOcVMbLgqA",
        "colab_type": "code",
        "colab": {}
      },
      "source": [
        "#muligt svar 1\n",
        "adelie = penguins[penguins.species_short == 'Adelie']"
      ],
      "execution_count": 64,
      "outputs": []
    },
    {
      "cell_type": "code",
      "metadata": {
        "id": "X9jcuoTvLnme",
        "colab_type": "code",
        "colab": {
          "base_uri": "https://localhost:8080/",
          "height": 35
        },
        "outputId": "cd330a26-d2d9-4fa5-f24f-de5d93b3267e"
      },
      "source": [
        "adelie.body_mass_g.std(ddof=0)"
      ],
      "execution_count": 65,
      "outputs": [
        {
          "output_type": "execute_result",
          "data": {
            "text/plain": [
              "457.0468191507876"
            ]
          },
          "metadata": {
            "tags": []
          },
          "execution_count": 65
        }
      ]
    },
    {
      "cell_type": "code",
      "metadata": {
        "id": "1dwIEXEFK_s7",
        "colab_type": "code",
        "colab": {
          "base_uri": "https://localhost:8080/",
          "height": 104
        },
        "outputId": "c06e8e3e-5b19-474f-f4aa-8d6029b75bae"
      },
      "source": [
        "# bedste svar/ hurtigste. \n",
        "# note ddof er degrees of freedom. Svar med default ddof(1) bliver også accepteret\n",
        "penguins.groupby('species_short').body_mass_g.std(ddof=0)"
      ],
      "execution_count": 66,
      "outputs": [
        {
          "output_type": "execute_result",
          "data": {
            "text/plain": [
              "species_short\n",
              "Adelie       457.046819\n",
              "Chinstrap    381.498621\n",
              "Gentoo       497.672316\n",
              "Name: body_mass_g, dtype: float64"
            ]
          },
          "metadata": {
            "tags": []
          },
          "execution_count": 66
        }
      ]
    },
    {
      "cell_type": "markdown",
      "metadata": {
        "id": "I240cIYZK4jb",
        "colab_type": "text"
      },
      "source": [
        "## Øvelse!\n",
        "\n",
        "Går tilbage til kickstarter data og bruge standardafvigelsen som værktøj til at argumentere følgende:\n",
        "\n",
        "Lav et subset uden outliers til højre (kun store værdier), hvor betingelsen er: outlier >= Q3 + 1.5*IQR.\n",
        "\n",
        "Herfra:\n",
        "\n",
        "Comics, design, music og games er de projektkategorier, hvor vi kan se den største mangfoldighed mht beløb, som bliver pledged (usd_pledged_real).\n",
        "\n",
        "Design, journalism og food er dog i toppen, hvis vi kun ser på projekter, som kommer igennem."
      ]
    },
    {
      "cell_type": "code",
      "metadata": {
        "id": "q7297FWzNNbO",
        "colab_type": "code",
        "colab": {}
      },
      "source": [
        ""
      ],
      "execution_count": null,
      "outputs": []
    }
  ]
}