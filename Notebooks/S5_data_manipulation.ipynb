{
  "nbformat": 4,
  "nbformat_minor": 0,
  "metadata": {
    "colab": {
      "name": "S5_data_manipulation.ipynb",
      "provenance": [],
      "authorship_tag": "ABX9TyPEpyfSKgDWwR2pD5eAhtpi",
      "include_colab_link": true
    },
    "kernelspec": {
      "name": "python3",
      "display_name": "Python 3"
    }
  },
  "cells": [
    {
      "cell_type": "markdown",
      "metadata": {
        "id": "view-in-github",
        "colab_type": "text"
      },
      "source": [
        "<a href=\"https://colab.research.google.com/github/SDS-AAU/IntroStat/blob/master/Notebooks/S5_data_manipulation.ipynb\" target=\"_parent\"><img src=\"https://colab.research.google.com/assets/colab-badge.svg\" alt=\"Open In Colab\"/></a>"
      ]
    },
    {
      "cell_type": "markdown",
      "metadata": {
        "id": "wRbadm_q8NBn",
        "colab_type": "text"
      },
      "source": [
        "## Missing data\n",
        "\n",
        "Indtil videre har vi slettet observationer med missing data. Men der nogle andre muligheder."
      ]
    },
    {
      "cell_type": "code",
      "metadata": {
        "id": "9tNo_viq8Ey8",
        "colab_type": "code",
        "colab": {}
      },
      "source": [
        "import pandas as pd"
      ],
      "execution_count": 69,
      "outputs": []
    },
    {
      "cell_type": "code",
      "metadata": {
        "id": "a58CrEdB8iz2",
        "colab_type": "code",
        "colab": {}
      },
      "source": [
        "titanic = pd.read_excel('https://github.com/SDS-AAU/IntroStat/raw/master/Data/titanic.xlsx')"
      ],
      "execution_count": 70,
      "outputs": []
    },
    {
      "cell_type": "code",
      "metadata": {
        "id": "GNLntXiM85iQ",
        "colab_type": "code",
        "colab": {
          "base_uri": "https://localhost:8080/",
          "height": 269
        },
        "outputId": "a5d196e7-8c9e-49e0-b437-61e47f173207"
      },
      "source": [
        "# nem måde at se hvor mange der mangler og hvor\n",
        "titanic.isnull().sum()"
      ],
      "execution_count": 71,
      "outputs": [
        {
          "output_type": "execute_result",
          "data": {
            "text/plain": [
              "Unnamed: 0       0\n",
              "PassengerId      0\n",
              "Survived         0\n",
              "Pclass           0\n",
              "Name             0\n",
              "Sex              0\n",
              "Age            177\n",
              "SibSp            0\n",
              "Parch            0\n",
              "Ticket           0\n",
              "Fare             0\n",
              "Cabin          687\n",
              "Embarked         2\n",
              "Unnamed: 13    177\n",
              "dtype: int64"
            ]
          },
          "metadata": {
            "tags": []
          },
          "execution_count": 71
        }
      ]
    },
    {
      "cell_type": "code",
      "metadata": {
        "id": "mL0rG_Ff88Om",
        "colab_type": "code",
        "colab": {}
      },
      "source": [
        "# brug gennemsnit som \"filler\" \n",
        "titanic.Age.fillna(titanic.Age.mean(), inplace=True)"
      ],
      "execution_count": 72,
      "outputs": []
    },
    {
      "cell_type": "markdown",
      "metadata": {
        "id": "0xSOaD5nAopo",
        "colab_type": "text"
      },
      "source": [
        "Hvis man vil gøre noget mere avanceret, så skal man se på imputation:\n",
        "\n",
        "https://pypi.org/project/fancyimpute/\n",
        "\n",
        "https://kearnz.github.io/autoimpute-tutorials/\n",
        "\n",
        "Mere om det fx her: https://medium.com/@Cambridge_Spark/tutorial-introduction-to-missing-data-imputation-4912b51c34eb"
      ]
    },
    {
      "cell_type": "markdown",
      "metadata": {
        "id": "lv8Bbz0bBg1m",
        "colab_type": "text"
      },
      "source": [
        "## Tidsserier\n",
        "\n",
        "Når man arbejder med tidsserier er det en god idé at lære hvordan man laver \"resampling\" dvs groupby i tidsdimensionen"
      ]
    },
    {
      "cell_type": "code",
      "metadata": {
        "id": "0QJR9ZpZAoIv",
        "colab_type": "code",
        "colab": {
          "base_uri": "https://localhost:8080/",
          "height": 238
        },
        "outputId": "e202dc6d-1507-49d6-8871-5aae841479cd"
      },
      "source": [
        "!pip install yfinance"
      ],
      "execution_count": 73,
      "outputs": [
        {
          "output_type": "stream",
          "text": [
            "Requirement already satisfied: yfinance in /usr/local/lib/python3.6/dist-packages (0.1.54)\n",
            "Requirement already satisfied: pandas>=0.24 in /usr/local/lib/python3.6/dist-packages (from yfinance) (1.0.5)\n",
            "Requirement already satisfied: requests>=2.20 in /usr/local/lib/python3.6/dist-packages (from yfinance) (2.23.0)\n",
            "Requirement already satisfied: multitasking>=0.0.7 in /usr/local/lib/python3.6/dist-packages (from yfinance) (0.0.9)\n",
            "Requirement already satisfied: numpy>=1.15 in /usr/local/lib/python3.6/dist-packages (from yfinance) (1.18.5)\n",
            "Requirement already satisfied: python-dateutil>=2.6.1 in /usr/local/lib/python3.6/dist-packages (from pandas>=0.24->yfinance) (2.8.1)\n",
            "Requirement already satisfied: pytz>=2017.2 in /usr/local/lib/python3.6/dist-packages (from pandas>=0.24->yfinance) (2018.9)\n",
            "Requirement already satisfied: idna<3,>=2.5 in /usr/local/lib/python3.6/dist-packages (from requests>=2.20->yfinance) (2.10)\n",
            "Requirement already satisfied: urllib3!=1.25.0,!=1.25.1,<1.26,>=1.21.1 in /usr/local/lib/python3.6/dist-packages (from requests>=2.20->yfinance) (1.24.3)\n",
            "Requirement already satisfied: certifi>=2017.4.17 in /usr/local/lib/python3.6/dist-packages (from requests>=2.20->yfinance) (2020.6.20)\n",
            "Requirement already satisfied: chardet<4,>=3.0.2 in /usr/local/lib/python3.6/dist-packages (from requests>=2.20->yfinance) (3.0.4)\n",
            "Requirement already satisfied: six>=1.5 in /usr/local/lib/python3.6/dist-packages (from python-dateutil>=2.6.1->pandas>=0.24->yfinance) (1.15.0)\n"
          ],
          "name": "stdout"
        }
      ]
    },
    {
      "cell_type": "code",
      "metadata": {
        "id": "peF6UyJFCrlQ",
        "colab_type": "code",
        "colab": {}
      },
      "source": [
        "import yfinance as yf  \n",
        "import seaborn as sns\n",
        "from matplotlib import pyplot as plt\n",
        "sns.set()"
      ],
      "execution_count": 74,
      "outputs": []
    },
    {
      "cell_type": "markdown",
      "metadata": {
        "id": "v2gj3F-PD1Yr",
        "colab_type": "text"
      },
      "source": [
        "\n",
        "\n",
        "*   iShares Global Clean Energy UCITS ETF USD (Dist) (IQQH.DE)\n",
        "*   iShares Healthcare Innovation UCITS ETF USD (Acc) (2B78.DE)\n",
        "*   iShares Automation & Robotics UCITS ETF USD (Acc) (2B76.DE)\n",
        "\n",
        "\n"
      ]
    },
    {
      "cell_type": "code",
      "metadata": {
        "id": "zdQkbt3sCPp6",
        "colab_type": "code",
        "colab": {
          "base_uri": "https://localhost:8080/",
          "height": 34
        },
        "outputId": "29713a57-ebee-40ec-af9e-418098d94ee3"
      },
      "source": [
        "data = yf.download('2B76.DE 2B78.DE IQQH.DE','2019-01-01','2020-09-21')"
      ],
      "execution_count": 75,
      "outputs": [
        {
          "output_type": "stream",
          "text": [
            "[*********************100%***********************]  3 of 3 completed\n"
          ],
          "name": "stdout"
        }
      ]
    },
    {
      "cell_type": "code",
      "metadata": {
        "id": "XcWTpb3bCms6",
        "colab_type": "code",
        "colab": {
          "base_uri": "https://localhost:8080/",
          "height": 649
        },
        "outputId": "53d8bb70-6804-4d4d-cdc1-412b35d2fa5c"
      },
      "source": [
        "data"
      ],
      "execution_count": 76,
      "outputs": [
        {
          "output_type": "execute_result",
          "data": {
            "text/html": [
              "<div>\n",
              "<style scoped>\n",
              "    .dataframe tbody tr th:only-of-type {\n",
              "        vertical-align: middle;\n",
              "    }\n",
              "\n",
              "    .dataframe tbody tr th {\n",
              "        vertical-align: top;\n",
              "    }\n",
              "\n",
              "    .dataframe thead tr th {\n",
              "        text-align: left;\n",
              "    }\n",
              "\n",
              "    .dataframe thead tr:last-of-type th {\n",
              "        text-align: right;\n",
              "    }\n",
              "</style>\n",
              "<table border=\"1\" class=\"dataframe\">\n",
              "  <thead>\n",
              "    <tr>\n",
              "      <th></th>\n",
              "      <th colspan=\"3\" halign=\"left\">Adj Close</th>\n",
              "      <th colspan=\"3\" halign=\"left\">Close</th>\n",
              "      <th colspan=\"3\" halign=\"left\">High</th>\n",
              "      <th colspan=\"3\" halign=\"left\">Low</th>\n",
              "      <th colspan=\"3\" halign=\"left\">Open</th>\n",
              "      <th colspan=\"3\" halign=\"left\">Volume</th>\n",
              "    </tr>\n",
              "    <tr>\n",
              "      <th></th>\n",
              "      <th>2B76.DE</th>\n",
              "      <th>2B78.DE</th>\n",
              "      <th>IQQH.DE</th>\n",
              "      <th>2B76.DE</th>\n",
              "      <th>2B78.DE</th>\n",
              "      <th>IQQH.DE</th>\n",
              "      <th>2B76.DE</th>\n",
              "      <th>2B78.DE</th>\n",
              "      <th>IQQH.DE</th>\n",
              "      <th>2B76.DE</th>\n",
              "      <th>2B78.DE</th>\n",
              "      <th>IQQH.DE</th>\n",
              "      <th>2B76.DE</th>\n",
              "      <th>2B78.DE</th>\n",
              "      <th>IQQH.DE</th>\n",
              "      <th>2B76.DE</th>\n",
              "      <th>2B78.DE</th>\n",
              "      <th>IQQH.DE</th>\n",
              "    </tr>\n",
              "    <tr>\n",
              "      <th>Date</th>\n",
              "      <th></th>\n",
              "      <th></th>\n",
              "      <th></th>\n",
              "      <th></th>\n",
              "      <th></th>\n",
              "      <th></th>\n",
              "      <th></th>\n",
              "      <th></th>\n",
              "      <th></th>\n",
              "      <th></th>\n",
              "      <th></th>\n",
              "      <th></th>\n",
              "      <th></th>\n",
              "      <th></th>\n",
              "      <th></th>\n",
              "      <th></th>\n",
              "      <th></th>\n",
              "      <th></th>\n",
              "    </tr>\n",
              "  </thead>\n",
              "  <tbody>\n",
              "    <tr>\n",
              "      <th>2019-01-02</th>\n",
              "      <td>5.432</td>\n",
              "      <td>5.209</td>\n",
              "      <td>4.2650</td>\n",
              "      <td>5.432</td>\n",
              "      <td>5.209</td>\n",
              "      <td>4.2650</td>\n",
              "      <td>5.449</td>\n",
              "      <td>5.216</td>\n",
              "      <td>4.2650</td>\n",
              "      <td>5.265</td>\n",
              "      <td>5.082</td>\n",
              "      <td>4.1340</td>\n",
              "      <td>5.327</td>\n",
              "      <td>5.115</td>\n",
              "      <td>4.1375</td>\n",
              "      <td>466946</td>\n",
              "      <td>36514</td>\n",
              "      <td>54235.0</td>\n",
              "    </tr>\n",
              "    <tr>\n",
              "      <th>2019-01-03</th>\n",
              "      <td>5.299</td>\n",
              "      <td>5.118</td>\n",
              "      <td>4.2140</td>\n",
              "      <td>5.299</td>\n",
              "      <td>5.118</td>\n",
              "      <td>4.2140</td>\n",
              "      <td>5.377</td>\n",
              "      <td>5.178</td>\n",
              "      <td>4.2140</td>\n",
              "      <td>5.252</td>\n",
              "      <td>5.088</td>\n",
              "      <td>4.1890</td>\n",
              "      <td>5.368</td>\n",
              "      <td>5.157</td>\n",
              "      <td>4.2075</td>\n",
              "      <td>672145</td>\n",
              "      <td>32471</td>\n",
              "      <td>14663.0</td>\n",
              "    </tr>\n",
              "    <tr>\n",
              "      <th>2019-01-04</th>\n",
              "      <td>5.392</td>\n",
              "      <td>5.267</td>\n",
              "      <td>4.2825</td>\n",
              "      <td>5.392</td>\n",
              "      <td>5.267</td>\n",
              "      <td>4.2825</td>\n",
              "      <td>5.399</td>\n",
              "      <td>5.277</td>\n",
              "      <td>4.2960</td>\n",
              "      <td>5.268</td>\n",
              "      <td>5.136</td>\n",
              "      <td>4.2030</td>\n",
              "      <td>5.293</td>\n",
              "      <td>5.154</td>\n",
              "      <td>4.2200</td>\n",
              "      <td>444764</td>\n",
              "      <td>28982</td>\n",
              "      <td>10346.0</td>\n",
              "    </tr>\n",
              "    <tr>\n",
              "      <th>2019-01-07</th>\n",
              "      <td>5.468</td>\n",
              "      <td>5.334</td>\n",
              "      <td>4.3070</td>\n",
              "      <td>5.468</td>\n",
              "      <td>5.334</td>\n",
              "      <td>4.3070</td>\n",
              "      <td>5.468</td>\n",
              "      <td>5.335</td>\n",
              "      <td>4.3370</td>\n",
              "      <td>5.409</td>\n",
              "      <td>5.265</td>\n",
              "      <td>4.2830</td>\n",
              "      <td>5.447</td>\n",
              "      <td>5.283</td>\n",
              "      <td>4.3265</td>\n",
              "      <td>331552</td>\n",
              "      <td>43752</td>\n",
              "      <td>158245.0</td>\n",
              "    </tr>\n",
              "    <tr>\n",
              "      <th>2019-01-08</th>\n",
              "      <td>5.493</td>\n",
              "      <td>5.342</td>\n",
              "      <td>4.3295</td>\n",
              "      <td>5.493</td>\n",
              "      <td>5.342</td>\n",
              "      <td>4.3295</td>\n",
              "      <td>5.560</td>\n",
              "      <td>5.398</td>\n",
              "      <td>4.3655</td>\n",
              "      <td>5.485</td>\n",
              "      <td>5.319</td>\n",
              "      <td>4.3295</td>\n",
              "      <td>5.490</td>\n",
              "      <td>5.319</td>\n",
              "      <td>4.3395</td>\n",
              "      <td>449999</td>\n",
              "      <td>35437</td>\n",
              "      <td>58517.0</td>\n",
              "    </tr>\n",
              "    <tr>\n",
              "      <th>...</th>\n",
              "      <td>...</td>\n",
              "      <td>...</td>\n",
              "      <td>...</td>\n",
              "      <td>...</td>\n",
              "      <td>...</td>\n",
              "      <td>...</td>\n",
              "      <td>...</td>\n",
              "      <td>...</td>\n",
              "      <td>...</td>\n",
              "      <td>...</td>\n",
              "      <td>...</td>\n",
              "      <td>...</td>\n",
              "      <td>...</td>\n",
              "      <td>...</td>\n",
              "      <td>...</td>\n",
              "      <td>...</td>\n",
              "      <td>...</td>\n",
              "      <td>...</td>\n",
              "    </tr>\n",
              "    <tr>\n",
              "      <th>2020-09-04</th>\n",
              "      <td>7.897</td>\n",
              "      <td>6.705</td>\n",
              "      <td>NaN</td>\n",
              "      <td>7.897</td>\n",
              "      <td>6.705</td>\n",
              "      <td>NaN</td>\n",
              "      <td>8.155</td>\n",
              "      <td>6.910</td>\n",
              "      <td>NaN</td>\n",
              "      <td>7.812</td>\n",
              "      <td>6.626</td>\n",
              "      <td>NaN</td>\n",
              "      <td>8.026</td>\n",
              "      <td>6.851</td>\n",
              "      <td>NaN</td>\n",
              "      <td>343083</td>\n",
              "      <td>145200</td>\n",
              "      <td>NaN</td>\n",
              "    </tr>\n",
              "    <tr>\n",
              "      <th>2020-09-08</th>\n",
              "      <td>7.915</td>\n",
              "      <td>6.776</td>\n",
              "      <td>NaN</td>\n",
              "      <td>7.915</td>\n",
              "      <td>6.776</td>\n",
              "      <td>NaN</td>\n",
              "      <td>8.061</td>\n",
              "      <td>6.869</td>\n",
              "      <td>NaN</td>\n",
              "      <td>7.834</td>\n",
              "      <td>6.701</td>\n",
              "      <td>NaN</td>\n",
              "      <td>8.061</td>\n",
              "      <td>6.867</td>\n",
              "      <td>NaN</td>\n",
              "      <td>480757</td>\n",
              "      <td>374350</td>\n",
              "      <td>NaN</td>\n",
              "    </tr>\n",
              "    <tr>\n",
              "      <th>2020-09-09</th>\n",
              "      <td>7.988</td>\n",
              "      <td>6.890</td>\n",
              "      <td>NaN</td>\n",
              "      <td>7.988</td>\n",
              "      <td>6.890</td>\n",
              "      <td>NaN</td>\n",
              "      <td>7.996</td>\n",
              "      <td>6.890</td>\n",
              "      <td>NaN</td>\n",
              "      <td>7.871</td>\n",
              "      <td>6.777</td>\n",
              "      <td>NaN</td>\n",
              "      <td>7.900</td>\n",
              "      <td>6.777</td>\n",
              "      <td>NaN</td>\n",
              "      <td>343931</td>\n",
              "      <td>106450</td>\n",
              "      <td>NaN</td>\n",
              "    </tr>\n",
              "    <tr>\n",
              "      <th>2020-09-10</th>\n",
              "      <td>8.003</td>\n",
              "      <td>6.859</td>\n",
              "      <td>NaN</td>\n",
              "      <td>8.003</td>\n",
              "      <td>6.859</td>\n",
              "      <td>NaN</td>\n",
              "      <td>8.042</td>\n",
              "      <td>6.889</td>\n",
              "      <td>NaN</td>\n",
              "      <td>7.958</td>\n",
              "      <td>6.809</td>\n",
              "      <td>NaN</td>\n",
              "      <td>8.004</td>\n",
              "      <td>6.880</td>\n",
              "      <td>NaN</td>\n",
              "      <td>238602</td>\n",
              "      <td>125586</td>\n",
              "      <td>NaN</td>\n",
              "    </tr>\n",
              "    <tr>\n",
              "      <th>2020-09-11</th>\n",
              "      <td>7.957</td>\n",
              "      <td>6.848</td>\n",
              "      <td>NaN</td>\n",
              "      <td>7.957</td>\n",
              "      <td>6.848</td>\n",
              "      <td>NaN</td>\n",
              "      <td>8.001</td>\n",
              "      <td>6.885</td>\n",
              "      <td>NaN</td>\n",
              "      <td>7.943</td>\n",
              "      <td>6.826</td>\n",
              "      <td>NaN</td>\n",
              "      <td>7.969</td>\n",
              "      <td>6.855</td>\n",
              "      <td>NaN</td>\n",
              "      <td>270901</td>\n",
              "      <td>74956</td>\n",
              "      <td>NaN</td>\n",
              "    </tr>\n",
              "  </tbody>\n",
              "</table>\n",
              "<p>412 rows × 18 columns</p>\n",
              "</div>"
            ],
            "text/plain": [
              "           Adj Close                   Close  ...    Open  Volume                  \n",
              "             2B76.DE 2B78.DE IQQH.DE 2B76.DE  ... IQQH.DE 2B76.DE 2B78.DE   IQQH.DE\n",
              "Date                                          ...                                  \n",
              "2019-01-02     5.432   5.209  4.2650   5.432  ...  4.1375  466946   36514   54235.0\n",
              "2019-01-03     5.299   5.118  4.2140   5.299  ...  4.2075  672145   32471   14663.0\n",
              "2019-01-04     5.392   5.267  4.2825   5.392  ...  4.2200  444764   28982   10346.0\n",
              "2019-01-07     5.468   5.334  4.3070   5.468  ...  4.3265  331552   43752  158245.0\n",
              "2019-01-08     5.493   5.342  4.3295   5.493  ...  4.3395  449999   35437   58517.0\n",
              "...              ...     ...     ...     ...  ...     ...     ...     ...       ...\n",
              "2020-09-04     7.897   6.705     NaN   7.897  ...     NaN  343083  145200       NaN\n",
              "2020-09-08     7.915   6.776     NaN   7.915  ...     NaN  480757  374350       NaN\n",
              "2020-09-09     7.988   6.890     NaN   7.988  ...     NaN  343931  106450       NaN\n",
              "2020-09-10     8.003   6.859     NaN   8.003  ...     NaN  238602  125586       NaN\n",
              "2020-09-11     7.957   6.848     NaN   7.957  ...     NaN  270901   74956       NaN\n",
              "\n",
              "[412 rows x 18 columns]"
            ]
          },
          "metadata": {
            "tags": []
          },
          "execution_count": 76
        }
      ]
    },
    {
      "cell_type": "code",
      "metadata": {
        "id": "94S4ff74C-nx",
        "colab_type": "code",
        "colab": {
          "base_uri": "https://localhost:8080/",
          "height": 136
        },
        "outputId": "5a49adde-331d-4ae6-cf25-844fe311f5ad"
      },
      "source": [
        "data['Adj Close'].diff().corr()"
      ],
      "execution_count": 79,
      "outputs": [
        {
          "output_type": "execute_result",
          "data": {
            "text/html": [
              "<div>\n",
              "<style scoped>\n",
              "    .dataframe tbody tr th:only-of-type {\n",
              "        vertical-align: middle;\n",
              "    }\n",
              "\n",
              "    .dataframe tbody tr th {\n",
              "        vertical-align: top;\n",
              "    }\n",
              "\n",
              "    .dataframe thead th {\n",
              "        text-align: right;\n",
              "    }\n",
              "</style>\n",
              "<table border=\"1\" class=\"dataframe\">\n",
              "  <thead>\n",
              "    <tr style=\"text-align: right;\">\n",
              "      <th></th>\n",
              "      <th>2B76.DE</th>\n",
              "      <th>2B78.DE</th>\n",
              "      <th>IQQH.DE</th>\n",
              "    </tr>\n",
              "  </thead>\n",
              "  <tbody>\n",
              "    <tr>\n",
              "      <th>2B76.DE</th>\n",
              "      <td>1.000000</td>\n",
              "      <td>0.830522</td>\n",
              "      <td>0.799967</td>\n",
              "    </tr>\n",
              "    <tr>\n",
              "      <th>2B78.DE</th>\n",
              "      <td>0.830522</td>\n",
              "      <td>1.000000</td>\n",
              "      <td>0.778263</td>\n",
              "    </tr>\n",
              "    <tr>\n",
              "      <th>IQQH.DE</th>\n",
              "      <td>0.799967</td>\n",
              "      <td>0.778263</td>\n",
              "      <td>1.000000</td>\n",
              "    </tr>\n",
              "  </tbody>\n",
              "</table>\n",
              "</div>"
            ],
            "text/plain": [
              "          2B76.DE   2B78.DE   IQQH.DE\n",
              "2B76.DE  1.000000  0.830522  0.799967\n",
              "2B78.DE  0.830522  1.000000  0.778263\n",
              "IQQH.DE  0.799967  0.778263  1.000000"
            ]
          },
          "metadata": {
            "tags": []
          },
          "execution_count": 79
        }
      ]
    },
    {
      "cell_type": "code",
      "metadata": {
        "id": "JWHAoJDUDvSH",
        "colab_type": "code",
        "colab": {}
      },
      "source": [
        "data_diff = data['Adj Close'].diff()"
      ],
      "execution_count": 80,
      "outputs": []
    },
    {
      "cell_type": "code",
      "metadata": {
        "id": "76ejgx83EZV5",
        "colab_type": "code",
        "colab": {
          "base_uri": "https://localhost:8080/",
          "height": 519
        },
        "outputId": "7b49ca01-7ac8-4e31-d514-10a6eef715cb"
      },
      "source": [
        "plt.figure(figsize=(15,8))\n",
        "sns.lineplot(x=data_diff.index, y=\"2B76.DE\", data=data_diff,label=\"2B76.DE\")\n",
        "sns.lineplot(x=data_diff.index, y=\"2B78.DE\", data=data_diff,label=\"2B78.DE\")\n",
        "sns.lineplot(x=data_diff.index, y=\"IQQH.DE\", data=data_diff,label=\"IQQH.DE\")"
      ],
      "execution_count": 81,
      "outputs": [
        {
          "output_type": "execute_result",
          "data": {
            "text/plain": [
              "<matplotlib.axes._subplots.AxesSubplot at 0x7f6c720cf518>"
            ]
          },
          "metadata": {
            "tags": []
          },
          "execution_count": 81
        },
        {
          "output_type": "display_data",
          "data": {
            "image/png": "[encoded data removed]",
            "text/plain": [
              "<Figure size 1080x576 with 1 Axes>"
            ]
          },
          "metadata": {
            "tags": []
          }
        }
      ]
    },
    {
      "cell_type": "code",
      "metadata": {
        "id": "JRKP4v8YFP2k",
        "colab_type": "code",
        "colab": {}
      },
      "source": [
        "# Vi kan beregne gennemsnit / uge\n",
        "data_diff = data_diff.resample('M').mean()"
      ],
      "execution_count": 84,
      "outputs": []
    },
    {
      "cell_type": "code",
      "metadata": {
        "id": "E8NoPFKdFdyW",
        "colab_type": "code",
        "colab": {
          "base_uri": "https://localhost:8080/",
          "height": 521
        },
        "outputId": "1cdb1718-997a-4b0b-b46c-438b2c4dad24"
      },
      "source": [
        "plt.figure(figsize=(15,8))\n",
        "sns.lineplot(x=data_diff.index, y=\"2B76.DE\", data=data_diff,label=\"2B76.DE\")\n",
        "sns.lineplot(x=data_diff.index, y=\"2B78.DE\", data=data_diff,label=\"2B78.DE\")\n",
        "sns.lineplot(x=data_diff.index, y=\"IQQH.DE\", data=data_diff,label=\"IQQH.DE\")"
      ],
      "execution_count": 85,
      "outputs": [
        {
          "output_type": "execute_result",
          "data": {
            "text/plain": [
              "<matplotlib.axes._subplots.AxesSubplot at 0x7f6c720cfef0>"
            ]
          },
          "metadata": {
            "tags": []
          },
          "execution_count": 85
        },
        {
          "output_type": "display_data",
          "data": {
            "image/png": "[encoded data removed]",
            "text/plain": [
              "<Figure size 1080x576 with 1 Axes>"
            ]
          },
          "metadata": {
            "tags": []
          }
        }
      ]
    },
    {
      "cell_type": "markdown",
      "metadata": {
        "id": "54Jbmja1FxyI",
        "colab_type": "text"
      },
      "source": [
        "## Join's\n",
        "\n",
        "Indtil videre har vi set på enkelte datasæt. I den \"rigtige verden\" arbejder man typisk med data fra flere kilder, hvor der er relationer mellem observationer på forskellige niveau.\n",
        "\n",
        "Eksempel fra: Python Data Science Handbook "
      ]
    },
    {
      "cell_type": "code",
      "metadata": {
        "id": "MZ_Ud0fjFfSx",
        "colab_type": "code",
        "colab": {}
      },
      "source": [
        "df1 = pd.DataFrame({'employee': ['Bob', 'Jake', 'Lisa', 'Sue'],\n",
        "                    'group': ['Accounting', 'Engineering', 'Engineering', 'HR']})\n",
        "df2 = pd.DataFrame({'employee': ['Lisa', 'Bob', 'Jake', 'Sue'],\n",
        "                    'hire_date': [2004, 2008, 2012, 2014]})"
      ],
      "execution_count": 86,
      "outputs": []
    },
    {
      "cell_type": "code",
      "metadata": {
        "id": "y88ullwBGlXu",
        "colab_type": "code",
        "colab": {
          "base_uri": "https://localhost:8080/",
          "height": 166
        },
        "outputId": "8c8d1c89-05e4-4f89-897d-8127249fd605"
      },
      "source": [
        "df1"
      ],
      "execution_count": 87,
      "outputs": [
        {
          "output_type": "execute_result",
          "data": {
            "text/html": [
              "<div>\n",
              "<style scoped>\n",
              "    .dataframe tbody tr th:only-of-type {\n",
              "        vertical-align: middle;\n",
              "    }\n",
              "\n",
              "    .dataframe tbody tr th {\n",
              "        vertical-align: top;\n",
              "    }\n",
              "\n",
              "    .dataframe thead th {\n",
              "        text-align: right;\n",
              "    }\n",
              "</style>\n",
              "<table border=\"1\" class=\"dataframe\">\n",
              "  <thead>\n",
              "    <tr style=\"text-align: right;\">\n",
              "      <th></th>\n",
              "      <th>employee</th>\n",
              "      <th>group</th>\n",
              "    </tr>\n",
              "  </thead>\n",
              "  <tbody>\n",
              "    <tr>\n",
              "      <th>0</th>\n",
              "      <td>Bob</td>\n",
              "      <td>Accounting</td>\n",
              "    </tr>\n",
              "    <tr>\n",
              "      <th>1</th>\n",
              "      <td>Jake</td>\n",
              "      <td>Engineering</td>\n",
              "    </tr>\n",
              "    <tr>\n",
              "      <th>2</th>\n",
              "      <td>Lisa</td>\n",
              "      <td>Engineering</td>\n",
              "    </tr>\n",
              "    <tr>\n",
              "      <th>3</th>\n",
              "      <td>Sue</td>\n",
              "      <td>HR</td>\n",
              "    </tr>\n",
              "  </tbody>\n",
              "</table>\n",
              "</div>"
            ],
            "text/plain": [
              "  employee        group\n",
              "0      Bob   Accounting\n",
              "1     Jake  Engineering\n",
              "2     Lisa  Engineering\n",
              "3      Sue           HR"
            ]
          },
          "metadata": {
            "tags": []
          },
          "execution_count": 87
        }
      ]
    },
    {
      "cell_type": "code",
      "metadata": {
        "id": "Fj0oeIPzGqNK",
        "colab_type": "code",
        "colab": {
          "base_uri": "https://localhost:8080/",
          "height": 166
        },
        "outputId": "a1c261a8-84f6-4d52-c761-7bf4f53ebfdf"
      },
      "source": [
        "df2"
      ],
      "execution_count": 88,
      "outputs": [
        {
          "output_type": "execute_result",
          "data": {
            "text/html": [
              "<div>\n",
              "<style scoped>\n",
              "    .dataframe tbody tr th:only-of-type {\n",
              "        vertical-align: middle;\n",
              "    }\n",
              "\n",
              "    .dataframe tbody tr th {\n",
              "        vertical-align: top;\n",
              "    }\n",
              "\n",
              "    .dataframe thead th {\n",
              "        text-align: right;\n",
              "    }\n",
              "</style>\n",
              "<table border=\"1\" class=\"dataframe\">\n",
              "  <thead>\n",
              "    <tr style=\"text-align: right;\">\n",
              "      <th></th>\n",
              "      <th>employee</th>\n",
              "      <th>hire_date</th>\n",
              "    </tr>\n",
              "  </thead>\n",
              "  <tbody>\n",
              "    <tr>\n",
              "      <th>0</th>\n",
              "      <td>Lisa</td>\n",
              "      <td>2004</td>\n",
              "    </tr>\n",
              "    <tr>\n",
              "      <th>1</th>\n",
              "      <td>Bob</td>\n",
              "      <td>2008</td>\n",
              "    </tr>\n",
              "    <tr>\n",
              "      <th>2</th>\n",
              "      <td>Jake</td>\n",
              "      <td>2012</td>\n",
              "    </tr>\n",
              "    <tr>\n",
              "      <th>3</th>\n",
              "      <td>Sue</td>\n",
              "      <td>2014</td>\n",
              "    </tr>\n",
              "  </tbody>\n",
              "</table>\n",
              "</div>"
            ],
            "text/plain": [
              "  employee  hire_date\n",
              "0     Lisa       2004\n",
              "1      Bob       2008\n",
              "2     Jake       2012\n",
              "3      Sue       2014"
            ]
          },
          "metadata": {
            "tags": []
          },
          "execution_count": 88
        }
      ]
    },
    {
      "cell_type": "code",
      "metadata": {
        "id": "VczE6kLaGq8D",
        "colab_type": "code",
        "colab": {
          "base_uri": "https://localhost:8080/",
          "height": 166
        },
        "outputId": "797843a7-642d-4b0e-d77d-06e852534bf6"
      },
      "source": [
        "df3 = pd.merge(df1, df2)\n",
        "df3"
      ],
      "execution_count": 89,
      "outputs": [
        {
          "output_type": "execute_result",
          "data": {
            "text/html": [
              "<div>\n",
              "<style scoped>\n",
              "    .dataframe tbody tr th:only-of-type {\n",
              "        vertical-align: middle;\n",
              "    }\n",
              "\n",
              "    .dataframe tbody tr th {\n",
              "        vertical-align: top;\n",
              "    }\n",
              "\n",
              "    .dataframe thead th {\n",
              "        text-align: right;\n",
              "    }\n",
              "</style>\n",
              "<table border=\"1\" class=\"dataframe\">\n",
              "  <thead>\n",
              "    <tr style=\"text-align: right;\">\n",
              "      <th></th>\n",
              "      <th>employee</th>\n",
              "      <th>group</th>\n",
              "      <th>hire_date</th>\n",
              "    </tr>\n",
              "  </thead>\n",
              "  <tbody>\n",
              "    <tr>\n",
              "      <th>0</th>\n",
              "      <td>Bob</td>\n",
              "      <td>Accounting</td>\n",
              "      <td>2008</td>\n",
              "    </tr>\n",
              "    <tr>\n",
              "      <th>1</th>\n",
              "      <td>Jake</td>\n",
              "      <td>Engineering</td>\n",
              "      <td>2012</td>\n",
              "    </tr>\n",
              "    <tr>\n",
              "      <th>2</th>\n",
              "      <td>Lisa</td>\n",
              "      <td>Engineering</td>\n",
              "      <td>2004</td>\n",
              "    </tr>\n",
              "    <tr>\n",
              "      <th>3</th>\n",
              "      <td>Sue</td>\n",
              "      <td>HR</td>\n",
              "      <td>2014</td>\n",
              "    </tr>\n",
              "  </tbody>\n",
              "</table>\n",
              "</div>"
            ],
            "text/plain": [
              "  employee        group  hire_date\n",
              "0      Bob   Accounting       2008\n",
              "1     Jake  Engineering       2012\n",
              "2     Lisa  Engineering       2004\n",
              "3      Sue           HR       2014"
            ]
          },
          "metadata": {
            "tags": []
          },
          "execution_count": 89
        }
      ]
    },
    {
      "cell_type": "code",
      "metadata": {
        "id": "MTXbZk3jG7zy",
        "colab_type": "code",
        "colab": {}
      },
      "source": [
        "df4 = pd.DataFrame({'group': ['Accounting', 'Engineering', 'HR'],\n",
        "                    'supervisor': ['Carly', 'Guido', 'Steve']})"
      ],
      "execution_count": 90,
      "outputs": []
    },
    {
      "cell_type": "code",
      "metadata": {
        "id": "WDuMxoEQfPSj",
        "colab_type": "code",
        "colab": {
          "base_uri": "https://localhost:8080/",
          "height": 136
        },
        "outputId": "8da412ec-100e-4581-d94d-20a44379a366"
      },
      "source": [
        "df4"
      ],
      "execution_count": 91,
      "outputs": [
        {
          "output_type": "execute_result",
          "data": {
            "text/html": [
              "<div>\n",
              "<style scoped>\n",
              "    .dataframe tbody tr th:only-of-type {\n",
              "        vertical-align: middle;\n",
              "    }\n",
              "\n",
              "    .dataframe tbody tr th {\n",
              "        vertical-align: top;\n",
              "    }\n",
              "\n",
              "    .dataframe thead th {\n",
              "        text-align: right;\n",
              "    }\n",
              "</style>\n",
              "<table border=\"1\" class=\"dataframe\">\n",
              "  <thead>\n",
              "    <tr style=\"text-align: right;\">\n",
              "      <th></th>\n",
              "      <th>group</th>\n",
              "      <th>supervisor</th>\n",
              "    </tr>\n",
              "  </thead>\n",
              "  <tbody>\n",
              "    <tr>\n",
              "      <th>0</th>\n",
              "      <td>Accounting</td>\n",
              "      <td>Carly</td>\n",
              "    </tr>\n",
              "    <tr>\n",
              "      <th>1</th>\n",
              "      <td>Engineering</td>\n",
              "      <td>Guido</td>\n",
              "    </tr>\n",
              "    <tr>\n",
              "      <th>2</th>\n",
              "      <td>HR</td>\n",
              "      <td>Steve</td>\n",
              "    </tr>\n",
              "  </tbody>\n",
              "</table>\n",
              "</div>"
            ],
            "text/plain": [
              "         group supervisor\n",
              "0   Accounting      Carly\n",
              "1  Engineering      Guido\n",
              "2           HR      Steve"
            ]
          },
          "metadata": {
            "tags": []
          },
          "execution_count": 91
        }
      ]
    },
    {
      "cell_type": "code",
      "metadata": {
        "id": "l7Ci4DceHDIR",
        "colab_type": "code",
        "colab": {
          "base_uri": "https://localhost:8080/",
          "height": 166
        },
        "outputId": "8685ba01-1da9-492a-fff7-1d5d28f21b00"
      },
      "source": [
        "pd.merge(df3, df4)"
      ],
      "execution_count": 92,
      "outputs": [
        {
          "output_type": "execute_result",
          "data": {
            "text/html": [
              "<div>\n",
              "<style scoped>\n",
              "    .dataframe tbody tr th:only-of-type {\n",
              "        vertical-align: middle;\n",
              "    }\n",
              "\n",
              "    .dataframe tbody tr th {\n",
              "        vertical-align: top;\n",
              "    }\n",
              "\n",
              "    .dataframe thead th {\n",
              "        text-align: right;\n",
              "    }\n",
              "</style>\n",
              "<table border=\"1\" class=\"dataframe\">\n",
              "  <thead>\n",
              "    <tr style=\"text-align: right;\">\n",
              "      <th></th>\n",
              "      <th>employee</th>\n",
              "      <th>group</th>\n",
              "      <th>hire_date</th>\n",
              "      <th>supervisor</th>\n",
              "    </tr>\n",
              "  </thead>\n",
              "  <tbody>\n",
              "    <tr>\n",
              "      <th>0</th>\n",
              "      <td>Bob</td>\n",
              "      <td>Accounting</td>\n",
              "      <td>2008</td>\n",
              "      <td>Carly</td>\n",
              "    </tr>\n",
              "    <tr>\n",
              "      <th>1</th>\n",
              "      <td>Jake</td>\n",
              "      <td>Engineering</td>\n",
              "      <td>2012</td>\n",
              "      <td>Guido</td>\n",
              "    </tr>\n",
              "    <tr>\n",
              "      <th>2</th>\n",
              "      <td>Lisa</td>\n",
              "      <td>Engineering</td>\n",
              "      <td>2004</td>\n",
              "      <td>Guido</td>\n",
              "    </tr>\n",
              "    <tr>\n",
              "      <th>3</th>\n",
              "      <td>Sue</td>\n",
              "      <td>HR</td>\n",
              "      <td>2014</td>\n",
              "      <td>Steve</td>\n",
              "    </tr>\n",
              "  </tbody>\n",
              "</table>\n",
              "</div>"
            ],
            "text/plain": [
              "  employee        group  hire_date supervisor\n",
              "0      Bob   Accounting       2008      Carly\n",
              "1     Jake  Engineering       2012      Guido\n",
              "2     Lisa  Engineering       2004      Guido\n",
              "3      Sue           HR       2014      Steve"
            ]
          },
          "metadata": {
            "tags": []
          },
          "execution_count": 92
        }
      ]
    },
    {
      "cell_type": "code",
      "metadata": {
        "id": "fSDY2b4mHE5L",
        "colab_type": "code",
        "colab": {}
      },
      "source": [
        "df5 = pd.DataFrame({'group': ['Accounting', 'Accounting',\n",
        "                              'Engineering', 'Engineering', 'HR', 'HR'],\n",
        "                    'skills': ['math', 'spreadsheets', 'coding', 'linux',\n",
        "                               'spreadsheets', 'organization']})"
      ],
      "execution_count": 93,
      "outputs": []
    },
    {
      "cell_type": "code",
      "metadata": {
        "id": "2Qu5vNxwHQPT",
        "colab_type": "code",
        "colab": {
          "base_uri": "https://localhost:8080/",
          "height": 225
        },
        "outputId": "ba3b61fc-e0c9-428f-ecc8-003c2b0e78c1"
      },
      "source": [
        "df5"
      ],
      "execution_count": 94,
      "outputs": [
        {
          "output_type": "execute_result",
          "data": {
            "text/html": [
              "<div>\n",
              "<style scoped>\n",
              "    .dataframe tbody tr th:only-of-type {\n",
              "        vertical-align: middle;\n",
              "    }\n",
              "\n",
              "    .dataframe tbody tr th {\n",
              "        vertical-align: top;\n",
              "    }\n",
              "\n",
              "    .dataframe thead th {\n",
              "        text-align: right;\n",
              "    }\n",
              "</style>\n",
              "<table border=\"1\" class=\"dataframe\">\n",
              "  <thead>\n",
              "    <tr style=\"text-align: right;\">\n",
              "      <th></th>\n",
              "      <th>group</th>\n",
              "      <th>skills</th>\n",
              "    </tr>\n",
              "  </thead>\n",
              "  <tbody>\n",
              "    <tr>\n",
              "      <th>0</th>\n",
              "      <td>Accounting</td>\n",
              "      <td>math</td>\n",
              "    </tr>\n",
              "    <tr>\n",
              "      <th>1</th>\n",
              "      <td>Accounting</td>\n",
              "      <td>spreadsheets</td>\n",
              "    </tr>\n",
              "    <tr>\n",
              "      <th>2</th>\n",
              "      <td>Engineering</td>\n",
              "      <td>coding</td>\n",
              "    </tr>\n",
              "    <tr>\n",
              "      <th>3</th>\n",
              "      <td>Engineering</td>\n",
              "      <td>linux</td>\n",
              "    </tr>\n",
              "    <tr>\n",
              "      <th>4</th>\n",
              "      <td>HR</td>\n",
              "      <td>spreadsheets</td>\n",
              "    </tr>\n",
              "    <tr>\n",
              "      <th>5</th>\n",
              "      <td>HR</td>\n",
              "      <td>organization</td>\n",
              "    </tr>\n",
              "  </tbody>\n",
              "</table>\n",
              "</div>"
            ],
            "text/plain": [
              "         group        skills\n",
              "0   Accounting          math\n",
              "1   Accounting  spreadsheets\n",
              "2  Engineering        coding\n",
              "3  Engineering         linux\n",
              "4           HR  spreadsheets\n",
              "5           HR  organization"
            ]
          },
          "metadata": {
            "tags": []
          },
          "execution_count": 94
        }
      ]
    },
    {
      "cell_type": "code",
      "metadata": {
        "id": "PmJR5omMHKNV",
        "colab_type": "code",
        "colab": {
          "base_uri": "https://localhost:8080/",
          "height": 284
        },
        "outputId": "ff260362-12fc-412f-e59f-354109923e73"
      },
      "source": [
        "pd.merge(df1, df5)"
      ],
      "execution_count": 95,
      "outputs": [
        {
          "output_type": "execute_result",
          "data": {
            "text/html": [
              "<div>\n",
              "<style scoped>\n",
              "    .dataframe tbody tr th:only-of-type {\n",
              "        vertical-align: middle;\n",
              "    }\n",
              "\n",
              "    .dataframe tbody tr th {\n",
              "        vertical-align: top;\n",
              "    }\n",
              "\n",
              "    .dataframe thead th {\n",
              "        text-align: right;\n",
              "    }\n",
              "</style>\n",
              "<table border=\"1\" class=\"dataframe\">\n",
              "  <thead>\n",
              "    <tr style=\"text-align: right;\">\n",
              "      <th></th>\n",
              "      <th>employee</th>\n",
              "      <th>group</th>\n",
              "      <th>skills</th>\n",
              "    </tr>\n",
              "  </thead>\n",
              "  <tbody>\n",
              "    <tr>\n",
              "      <th>0</th>\n",
              "      <td>Bob</td>\n",
              "      <td>Accounting</td>\n",
              "      <td>math</td>\n",
              "    </tr>\n",
              "    <tr>\n",
              "      <th>1</th>\n",
              "      <td>Bob</td>\n",
              "      <td>Accounting</td>\n",
              "      <td>spreadsheets</td>\n",
              "    </tr>\n",
              "    <tr>\n",
              "      <th>2</th>\n",
              "      <td>Jake</td>\n",
              "      <td>Engineering</td>\n",
              "      <td>coding</td>\n",
              "    </tr>\n",
              "    <tr>\n",
              "      <th>3</th>\n",
              "      <td>Jake</td>\n",
              "      <td>Engineering</td>\n",
              "      <td>linux</td>\n",
              "    </tr>\n",
              "    <tr>\n",
              "      <th>4</th>\n",
              "      <td>Lisa</td>\n",
              "      <td>Engineering</td>\n",
              "      <td>coding</td>\n",
              "    </tr>\n",
              "    <tr>\n",
              "      <th>5</th>\n",
              "      <td>Lisa</td>\n",
              "      <td>Engineering</td>\n",
              "      <td>linux</td>\n",
              "    </tr>\n",
              "    <tr>\n",
              "      <th>6</th>\n",
              "      <td>Sue</td>\n",
              "      <td>HR</td>\n",
              "      <td>spreadsheets</td>\n",
              "    </tr>\n",
              "    <tr>\n",
              "      <th>7</th>\n",
              "      <td>Sue</td>\n",
              "      <td>HR</td>\n",
              "      <td>organization</td>\n",
              "    </tr>\n",
              "  </tbody>\n",
              "</table>\n",
              "</div>"
            ],
            "text/plain": [
              "  employee        group        skills\n",
              "0      Bob   Accounting          math\n",
              "1      Bob   Accounting  spreadsheets\n",
              "2     Jake  Engineering        coding\n",
              "3     Jake  Engineering         linux\n",
              "4     Lisa  Engineering        coding\n",
              "5     Lisa  Engineering         linux\n",
              "6      Sue           HR  spreadsheets\n",
              "7      Sue           HR  organization"
            ]
          },
          "metadata": {
            "tags": []
          },
          "execution_count": 95
        }
      ]
    },
    {
      "cell_type": "code",
      "metadata": {
        "id": "PHTL05N1HNBz",
        "colab_type": "code",
        "colab": {}
      },
      "source": [
        "df3 = pd.DataFrame({'name': ['Bob', 'Jake', 'Lisa', 'Sue'],\n",
        "                    'salary': [70000, 80000, 120000, 90000]})"
      ],
      "execution_count": 96,
      "outputs": []
    },
    {
      "cell_type": "code",
      "metadata": {
        "id": "Di4Axt_2HktO",
        "colab_type": "code",
        "colab": {
          "base_uri": "https://localhost:8080/",
          "height": 166
        },
        "outputId": "d496b01a-954b-40d8-ca1c-0639b08d63d7"
      },
      "source": [
        "df1"
      ],
      "execution_count": 97,
      "outputs": [
        {
          "output_type": "execute_result",
          "data": {
            "text/html": [
              "<div>\n",
              "<style scoped>\n",
              "    .dataframe tbody tr th:only-of-type {\n",
              "        vertical-align: middle;\n",
              "    }\n",
              "\n",
              "    .dataframe tbody tr th {\n",
              "        vertical-align: top;\n",
              "    }\n",
              "\n",
              "    .dataframe thead th {\n",
              "        text-align: right;\n",
              "    }\n",
              "</style>\n",
              "<table border=\"1\" class=\"dataframe\">\n",
              "  <thead>\n",
              "    <tr style=\"text-align: right;\">\n",
              "      <th></th>\n",
              "      <th>employee</th>\n",
              "      <th>group</th>\n",
              "    </tr>\n",
              "  </thead>\n",
              "  <tbody>\n",
              "    <tr>\n",
              "      <th>0</th>\n",
              "      <td>Bob</td>\n",
              "      <td>Accounting</td>\n",
              "    </tr>\n",
              "    <tr>\n",
              "      <th>1</th>\n",
              "      <td>Jake</td>\n",
              "      <td>Engineering</td>\n",
              "    </tr>\n",
              "    <tr>\n",
              "      <th>2</th>\n",
              "      <td>Lisa</td>\n",
              "      <td>Engineering</td>\n",
              "    </tr>\n",
              "    <tr>\n",
              "      <th>3</th>\n",
              "      <td>Sue</td>\n",
              "      <td>HR</td>\n",
              "    </tr>\n",
              "  </tbody>\n",
              "</table>\n",
              "</div>"
            ],
            "text/plain": [
              "  employee        group\n",
              "0      Bob   Accounting\n",
              "1     Jake  Engineering\n",
              "2     Lisa  Engineering\n",
              "3      Sue           HR"
            ]
          },
          "metadata": {
            "tags": []
          },
          "execution_count": 97
        }
      ]
    },
    {
      "cell_type": "code",
      "metadata": {
        "id": "aneZoEf7HlmT",
        "colab_type": "code",
        "colab": {
          "base_uri": "https://localhost:8080/",
          "height": 166
        },
        "outputId": "26e07425-17b8-491c-c1f6-add58a26fe57"
      },
      "source": [
        "df3"
      ],
      "execution_count": 98,
      "outputs": [
        {
          "output_type": "execute_result",
          "data": {
            "text/html": [
              "<div>\n",
              "<style scoped>\n",
              "    .dataframe tbody tr th:only-of-type {\n",
              "        vertical-align: middle;\n",
              "    }\n",
              "\n",
              "    .dataframe tbody tr th {\n",
              "        vertical-align: top;\n",
              "    }\n",
              "\n",
              "    .dataframe thead th {\n",
              "        text-align: right;\n",
              "    }\n",
              "</style>\n",
              "<table border=\"1\" class=\"dataframe\">\n",
              "  <thead>\n",
              "    <tr style=\"text-align: right;\">\n",
              "      <th></th>\n",
              "      <th>name</th>\n",
              "      <th>salary</th>\n",
              "    </tr>\n",
              "  </thead>\n",
              "  <tbody>\n",
              "    <tr>\n",
              "      <th>0</th>\n",
              "      <td>Bob</td>\n",
              "      <td>70000</td>\n",
              "    </tr>\n",
              "    <tr>\n",
              "      <th>1</th>\n",
              "      <td>Jake</td>\n",
              "      <td>80000</td>\n",
              "    </tr>\n",
              "    <tr>\n",
              "      <th>2</th>\n",
              "      <td>Lisa</td>\n",
              "      <td>120000</td>\n",
              "    </tr>\n",
              "    <tr>\n",
              "      <th>3</th>\n",
              "      <td>Sue</td>\n",
              "      <td>90000</td>\n",
              "    </tr>\n",
              "  </tbody>\n",
              "</table>\n",
              "</div>"
            ],
            "text/plain": [
              "   name  salary\n",
              "0   Bob   70000\n",
              "1  Jake   80000\n",
              "2  Lisa  120000\n",
              "3   Sue   90000"
            ]
          },
          "metadata": {
            "tags": []
          },
          "execution_count": 98
        }
      ]
    },
    {
      "cell_type": "code",
      "metadata": {
        "id": "EVPIOP6VHmNP",
        "colab_type": "code",
        "colab": {
          "base_uri": "https://localhost:8080/",
          "height": 166
        },
        "outputId": "9696d65a-d341-4dac-e329-7d8cb19f258d"
      },
      "source": [
        "pd.merge(df1, df3, left_on=\"employee\", right_on=\"name\")"
      ],
      "execution_count": 99,
      "outputs": [
        {
          "output_type": "execute_result",
          "data": {
            "text/html": [
              "<div>\n",
              "<style scoped>\n",
              "    .dataframe tbody tr th:only-of-type {\n",
              "        vertical-align: middle;\n",
              "    }\n",
              "\n",
              "    .dataframe tbody tr th {\n",
              "        vertical-align: top;\n",
              "    }\n",
              "\n",
              "    .dataframe thead th {\n",
              "        text-align: right;\n",
              "    }\n",
              "</style>\n",
              "<table border=\"1\" class=\"dataframe\">\n",
              "  <thead>\n",
              "    <tr style=\"text-align: right;\">\n",
              "      <th></th>\n",
              "      <th>employee</th>\n",
              "      <th>group</th>\n",
              "      <th>name</th>\n",
              "      <th>salary</th>\n",
              "    </tr>\n",
              "  </thead>\n",
              "  <tbody>\n",
              "    <tr>\n",
              "      <th>0</th>\n",
              "      <td>Bob</td>\n",
              "      <td>Accounting</td>\n",
              "      <td>Bob</td>\n",
              "      <td>70000</td>\n",
              "    </tr>\n",
              "    <tr>\n",
              "      <th>1</th>\n",
              "      <td>Jake</td>\n",
              "      <td>Engineering</td>\n",
              "      <td>Jake</td>\n",
              "      <td>80000</td>\n",
              "    </tr>\n",
              "    <tr>\n",
              "      <th>2</th>\n",
              "      <td>Lisa</td>\n",
              "      <td>Engineering</td>\n",
              "      <td>Lisa</td>\n",
              "      <td>120000</td>\n",
              "    </tr>\n",
              "    <tr>\n",
              "      <th>3</th>\n",
              "      <td>Sue</td>\n",
              "      <td>HR</td>\n",
              "      <td>Sue</td>\n",
              "      <td>90000</td>\n",
              "    </tr>\n",
              "  </tbody>\n",
              "</table>\n",
              "</div>"
            ],
            "text/plain": [
              "  employee        group  name  salary\n",
              "0      Bob   Accounting   Bob   70000\n",
              "1     Jake  Engineering  Jake   80000\n",
              "2     Lisa  Engineering  Lisa  120000\n",
              "3      Sue           HR   Sue   90000"
            ]
          },
          "metadata": {
            "tags": []
          },
          "execution_count": 99
        }
      ]
    },
    {
      "cell_type": "markdown",
      "metadata": {
        "id": "3c7RBdbpHxsx",
        "colab_type": "text"
      },
      "source": [
        "# Databehandling - Master-opgave\n",
        "\n",
        "Du har 2 datasæt fra https://nomadlist.com\n",
        "\n",
        "\n",
        "\n",
        "*   Trips: ~46k rejser af user på platformen:  https://sds-aau.github.io/SDS-master/M1/data/trips.csv\n",
        "*   People: data om ~4k user:  https://sds-aau.github.io/SDS-master/M1/data/people.csv\n",
        "\n",
        "Find 5 spørgsmål i gruppen og passende løsninger.\n",
        "fx: Har rejsende, som er iværksætter længere eller kortere trips gennemsnitlig?\n",
        "\n",
        "OBS: Det er ikke pæne data men faktisk nogle \"rigtige data\" og dermed er der masser af udfordringer.\n",
        "Når du laver timestamps fra start-dato og end-dato skal du bruge \"coerce\" errors for at undgå problemer med manglende data.\n",
        "Nogle af de dato, der angives passer slet ikke (17 århundrede)"
      ]
    }
  ]
}