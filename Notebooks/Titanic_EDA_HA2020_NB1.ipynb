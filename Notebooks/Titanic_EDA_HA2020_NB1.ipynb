{
  "nbformat": 4,
  "nbformat_minor": 0,
  "metadata": {
    "colab": {
      "name": "Titanic EDA - HA2020 - NB1",
      "provenance": [],
      "collapsed_sections": [],
      "include_colab_link": true
    },
    "kernelspec": {
      "name": "python3",
      "display_name": "Python 3"
    }
  },
  "cells": [
    {
      "cell_type": "markdown",
      "metadata": {
        "id": "view-in-github",
        "colab_type": "text"
      },
      "source": [
        "<a href=\"https://colab.research.google.com/github/SDS-AAU/IntroStat/blob/master/Notebooks/Titanic_EDA_HA2020_NB1.ipynb\" target=\"_parent\"><img src=\"https://colab.research.google.com/assets/colab-badge.svg\" alt=\"Open In Colab\"/></a>"
      ]
    },
    {
      "cell_type": "markdown",
      "metadata": {
        "id": "zmmiDbbzX702",
        "colab_type": "text"
      },
      "source": [
        "# Statistik i Python - Intro\n",
        "## HA Anvendt Statistik E2020\n",
        "### Roman Jurowetzki, Eskil Andersen\n",
        "\n",
        "\n",
        "Denne notebook giver en introduktion til nogle indledende funktioner i deskriptiv statistik i Python. Til dette formål er Titanic datasættet anvendt som et eksempel på hvordan man kan bruge statistiske værktøj til at opnå indsigt på tværs af forskellige typer information. \n",
        "\n",
        "Python benytter sig af såkaldte libraries, eller pakker, der giver mulighed for at anvende forskellige funktioner eller opgaver. I denne notebook starter vi med at hente nogle få, vigtige pakker, der giver mulighed for at hente og formatere vores data, og for at foretage simpel deskriptiv statistik. \n",
        "\n",
        "![](https://i.pinimg.com/originals/48/4e/a5/484ea532fd1324cc801770862e646248.gif)"
      ]
    },
    {
      "cell_type": "code",
      "metadata": {
        "id": "iE8LcQdIEoy-",
        "colab_type": "code",
        "colab": {}
      },
      "source": [
        "# Her er de anvendte pakker for denne notebook.\n",
        "# Note: ved at inddrage as kan man give sin egen forkortelse til en pakke (det gør det nemmere og hurtigere at kode)\n",
        "# f.eks. er pandas (den måske vigtigste pakke for databearbejdning) oftest forkortet som pd, og i vil som regel finde eksempler online, hvor det er gjort sådan.\n",
        "\n",
        "import pandas as pd \n",
        "\n",
        "# giver dig mulighed at kommentere i code-cells :-) uden at python interpreterer det som kode."
      ],
      "execution_count": 2,
      "outputs": []
    },
    {
      "cell_type": "markdown",
      "metadata": {
        "id": "jh7SnFUHahoi",
        "colab_type": "text"
      },
      "source": [
        "I statistik vil man ofte arbejde med et eksisterende datasæt, altså information man har indsamlet eller fundet/fået adgang til, som er gemt i en excel, csv, eller anden type fil. Disse informationer skal findes frem i Python, og det gøres ved at anvende pandas pakken til at indlæse filen. Herfra kan den statistiske bearbejdning påbegyndes. \n",
        "\n",
        "I dette eksempel er Titanic datasettet en excel fil, men stort set alle filtyper kan bearbejdes i Python.\n",
        "\n",
        "Vores data er på Github (en platform, som bruges mest til softwareudviling men også deling af filer og meget mere)"
      ]
    },
    {
      "cell_type": "code",
      "metadata": {
        "id": "EXqJhooKEvOG",
        "colab_type": "code",
        "colab": {}
      },
      "source": [
        "# Indlæsning af dataset - nemt. Man kan også uploade og åbne direkte uden henvisning til URL\n",
        "df = pd.read_excel('https://sds-aau.github.io/IntroStat/Data/titanic.xlsx')"
      ],
      "execution_count": 21,
      "outputs": []
    },
    {
      "cell_type": "markdown",
      "metadata": {
        "id": "Kf7222NtdF1n",
        "colab_type": "text"
      },
      "source": [
        "`df` er en forkortelse for DataFrame, og er endnu et eksempel for en populær forkortelse blandt anvendere af python, som også ofte vil kunne findes i online kodnings eksempler. Man kunne også have skrevet `Titanic` efterfulgt af` `= og funktionen, men det er ofte fornuftigt at vælge korte navne til ting man kommer til at bruge ofte, eksempelvis ens data. \n",
        "\n",
        "---\n",
        "\n",
        "Som det første, kan man danne sig et overblik over data ved at foretage nogle præliminære tjek af format, datatyper og indhold."
      ]
    },
    {
      "cell_type": "code",
      "metadata": {
        "id": "Axk_XZqtDy2d",
        "colab_type": "code",
        "colab": {
          "base_uri": "https://localhost:8080/",
          "height": 246
        },
        "outputId": "4afa3f2c-9ca8-4ded-d9b2-70d4f4b149a8"
      },
      "source": [
        "# head() giver os et indledende overblik over datasettet, ved at vise de første 5 rækker. \n",
        "# Læg mærke til at python starter med at tælle fra 0 (0-4)\n",
        "# head() har en modsætning i tail(), der viser de nederste 5 observationer i datasettet. \n",
        "# selvom 5 er standarden, kan man selv bestemme mængden af viste observationer ved at \n",
        "# skrive imellem paranteserne i funktionen. Prøv selv. \n",
        "\n",
        "\n",
        "df.head()"
      ],
      "execution_count": 22,
      "outputs": [
        {
          "output_type": "execute_result",
          "data": {
            "text/html": [
              "<div>\n",
              "<style scoped>\n",
              "    .dataframe tbody tr th:only-of-type {\n",
              "        vertical-align: middle;\n",
              "    }\n",
              "\n",
              "    .dataframe tbody tr th {\n",
              "        vertical-align: top;\n",
              "    }\n",
              "\n",
              "    .dataframe thead th {\n",
              "        text-align: right;\n",
              "    }\n",
              "</style>\n",
              "<table border=\"1\" class=\"dataframe\">\n",
              "  <thead>\n",
              "    <tr style=\"text-align: right;\">\n",
              "      <th></th>\n",
              "      <th>PassengerId</th>\n",
              "      <th>Survived</th>\n",
              "      <th>Pclass</th>\n",
              "      <th>Name</th>\n",
              "      <th>Sex</th>\n",
              "      <th>Age</th>\n",
              "      <th>SibSp</th>\n",
              "      <th>Parch</th>\n",
              "      <th>Ticket</th>\n",
              "      <th>Fare</th>\n",
              "      <th>Cabin</th>\n",
              "      <th>Embarked</th>\n",
              "    </tr>\n",
              "  </thead>\n",
              "  <tbody>\n",
              "    <tr>\n",
              "      <th>0</th>\n",
              "      <td>1</td>\n",
              "      <td>0</td>\n",
              "      <td>3</td>\n",
              "      <td>Braund, Mr. Owen Harris</td>\n",
              "      <td>male</td>\n",
              "      <td>22.0</td>\n",
              "      <td>1</td>\n",
              "      <td>0</td>\n",
              "      <td>A/5 21171</td>\n",
              "      <td>7.2500</td>\n",
              "      <td>NaN</td>\n",
              "      <td>S</td>\n",
              "    </tr>\n",
              "    <tr>\n",
              "      <th>1</th>\n",
              "      <td>2</td>\n",
              "      <td>1</td>\n",
              "      <td>1</td>\n",
              "      <td>Cumings, Mrs. John Bradley (Florence Briggs Th...</td>\n",
              "      <td>female</td>\n",
              "      <td>38.0</td>\n",
              "      <td>1</td>\n",
              "      <td>0</td>\n",
              "      <td>PC 17599</td>\n",
              "      <td>71.2833</td>\n",
              "      <td>C85</td>\n",
              "      <td>C</td>\n",
              "    </tr>\n",
              "    <tr>\n",
              "      <th>2</th>\n",
              "      <td>3</td>\n",
              "      <td>1</td>\n",
              "      <td>3</td>\n",
              "      <td>Heikkinen, Miss. Laina</td>\n",
              "      <td>female</td>\n",
              "      <td>26.0</td>\n",
              "      <td>0</td>\n",
              "      <td>0</td>\n",
              "      <td>STON/O2. 3101282</td>\n",
              "      <td>7.9250</td>\n",
              "      <td>NaN</td>\n",
              "      <td>S</td>\n",
              "    </tr>\n",
              "    <tr>\n",
              "      <th>3</th>\n",
              "      <td>4</td>\n",
              "      <td>1</td>\n",
              "      <td>1</td>\n",
              "      <td>Futrelle, Mrs. Jacques Heath (Lily May Peel)</td>\n",
              "      <td>female</td>\n",
              "      <td>35.0</td>\n",
              "      <td>1</td>\n",
              "      <td>0</td>\n",
              "      <td>113803</td>\n",
              "      <td>53.1000</td>\n",
              "      <td>C123</td>\n",
              "      <td>S</td>\n",
              "    </tr>\n",
              "    <tr>\n",
              "      <th>4</th>\n",
              "      <td>5</td>\n",
              "      <td>0</td>\n",
              "      <td>3</td>\n",
              "      <td>Allen, Mr. William Henry</td>\n",
              "      <td>male</td>\n",
              "      <td>35.0</td>\n",
              "      <td>0</td>\n",
              "      <td>0</td>\n",
              "      <td>373450</td>\n",
              "      <td>8.0500</td>\n",
              "      <td>NaN</td>\n",
              "      <td>S</td>\n",
              "    </tr>\n",
              "  </tbody>\n",
              "</table>\n",
              "</div>"
            ],
            "text/plain": [
              "   PassengerId  Survived  Pclass  ...     Fare Cabin  Embarked\n",
              "0            1         0       3  ...   7.2500   NaN         S\n",
              "1            2         1       1  ...  71.2833   C85         C\n",
              "2            3         1       3  ...   7.9250   NaN         S\n",
              "3            4         1       1  ...  53.1000  C123         S\n",
              "4            5         0       3  ...   8.0500   NaN         S\n",
              "\n",
              "[5 rows x 12 columns]"
            ]
          },
          "metadata": {
            "tags": []
          },
          "execution_count": 22
        }
      ]
    },
    {
      "cell_type": "code",
      "metadata": {
        "id": "KFR8gU_rFHjw",
        "colab_type": "code",
        "colab": {
          "base_uri": "https://localhost:8080/",
          "height": 336
        },
        "outputId": "bc080714-4f84-44b8-a341-87bff5d10789"
      },
      "source": [
        "# info() giver mulighed for at se antallet af variable(kolonner/columns), \n",
        "# antallet af observationer(rækker/rows) inkl. missing data, og datatyper\n",
        "# Pandas prøver at finde ud af hvikle datatyper man arbejder med og er mest meget\n",
        "# mere skarp end Excel & co.\n",
        "\n",
        "df.info()"
      ],
      "execution_count": 23,
      "outputs": [
        {
          "output_type": "stream",
          "text": [
            "<class 'pandas.core.frame.DataFrame'>\n",
            "RangeIndex: 891 entries, 0 to 890\n",
            "Data columns (total 12 columns):\n",
            " #   Column       Non-Null Count  Dtype  \n",
            "---  ------       --------------  -----  \n",
            " 0   PassengerId  891 non-null    int64  \n",
            " 1   Survived     891 non-null    int64  \n",
            " 2   Pclass       891 non-null    int64  \n",
            " 3   Name         891 non-null    object \n",
            " 4   Sex          891 non-null    object \n",
            " 5   Age          714 non-null    float64\n",
            " 6   SibSp        891 non-null    int64  \n",
            " 7   Parch        891 non-null    int64  \n",
            " 8   Ticket       891 non-null    object \n",
            " 9   Fare         891 non-null    float64\n",
            " 10  Cabin        204 non-null    object \n",
            " 11  Embarked     889 non-null    object \n",
            "dtypes: float64(2), int64(5), object(5)\n",
            "memory usage: 83.7+ KB\n"
          ],
          "name": "stdout"
        }
      ]
    },
    {
      "cell_type": "markdown",
      "metadata": {
        "id": "AcT5Ob_DmVqI",
        "colab_type": "text"
      },
      "source": [
        "## Let's go!\n",
        "\n",
        "Nu prøver vi at bruge Python til at besvare de spørgsmål, som vi arbejdede med i Excel tidligere.\n",
        "\n"
      ]
    },
    {
      "cell_type": "markdown",
      "metadata": {
        "id": "aZQq1nPwnmOe",
        "colab_type": "text"
      },
      "source": [
        "### Hvor mange mænd og kvinder er der på Titanic?"
      ]
    },
    {
      "cell_type": "code",
      "metadata": {
        "id": "PE5BW5MYnlRJ",
        "colab_type": "code",
        "colab": {
          "base_uri": "https://localhost:8080/",
          "height": 67
        },
        "outputId": "1ebcb6aa-594d-4cd3-9b02-f036b7210447"
      },
      "source": [
        "# value_counts er den nemmeste måde at tælle observationer...\n",
        "df.Sex.value_counts()"
      ],
      "execution_count": 24,
      "outputs": [
        {
          "output_type": "execute_result",
          "data": {
            "text/plain": [
              "male      577\n",
              "female    314\n",
              "Name: Sex, dtype: int64"
            ]
          },
          "metadata": {
            "tags": []
          },
          "execution_count": 24
        }
      ]
    },
    {
      "cell_type": "markdown",
      "metadata": {
        "id": "K7kvC45aoeac",
        "colab_type": "text"
      },
      "source": [
        "her bruger jeg \"dot-notation\" hvor kolonner tilgås med \".\"\n",
        "man kunne også skrive `df[\"Sex\"].value_counts()` "
      ]
    },
    {
      "cell_type": "code",
      "metadata": {
        "id": "-rlEv5x0n3ZL",
        "colab_type": "code",
        "colab": {
          "base_uri": "https://localhost:8080/",
          "height": 67
        },
        "outputId": "824812e8-3f77-4cc2-e8b4-89eeedadb234"
      },
      "source": [
        "# Hvis man skal have %\n",
        "df.Sex.value_counts(normalize=True)"
      ],
      "execution_count": 25,
      "outputs": [
        {
          "output_type": "execute_result",
          "data": {
            "text/plain": [
              "male      0.647587\n",
              "female    0.352413\n",
              "Name: Sex, dtype: float64"
            ]
          },
          "metadata": {
            "tags": []
          },
          "execution_count": 25
        }
      ]
    },
    {
      "cell_type": "markdown",
      "metadata": {
        "id": "a9dbx_CXo8Hp",
        "colab_type": "text"
      },
      "source": [
        "### Hvad er gennemsnitsalderen / ældste / yngste?"
      ]
    },
    {
      "cell_type": "code",
      "metadata": {
        "id": "DS60SfTvo1H8",
        "colab_type": "code",
        "colab": {
          "base_uri": "https://localhost:8080/",
          "height": 34
        },
        "outputId": "9dfa3797-43d7-43ee-97c7-10420bc094c8"
      },
      "source": [
        "df.Age.mean()"
      ],
      "execution_count": 26,
      "outputs": [
        {
          "output_type": "execute_result",
          "data": {
            "text/plain": [
              "29.69911764705882"
            ]
          },
          "metadata": {
            "tags": []
          },
          "execution_count": 26
        }
      ]
    },
    {
      "cell_type": "code",
      "metadata": {
        "id": "WAr5ODoUpGz4",
        "colab_type": "code",
        "colab": {
          "base_uri": "https://localhost:8080/",
          "height": 34
        },
        "outputId": "e7efe258-0f41-4124-b42b-af36eb3855a9"
      },
      "source": [
        "df.Age.min()"
      ],
      "execution_count": 27,
      "outputs": [
        {
          "output_type": "execute_result",
          "data": {
            "text/plain": [
              "0.42"
            ]
          },
          "metadata": {
            "tags": []
          },
          "execution_count": 27
        }
      ]
    },
    {
      "cell_type": "code",
      "metadata": {
        "id": "DfOYT07UpInc",
        "colab_type": "code",
        "colab": {
          "base_uri": "https://localhost:8080/",
          "height": 34
        },
        "outputId": "57f208d5-a04e-4555-e4a7-1f6a9f1c0803"
      },
      "source": [
        "df.Age.max()"
      ],
      "execution_count": 28,
      "outputs": [
        {
          "output_type": "execute_result",
          "data": {
            "text/plain": [
              "80.0"
            ]
          },
          "metadata": {
            "tags": []
          },
          "execution_count": 28
        }
      ]
    },
    {
      "cell_type": "markdown",
      "metadata": {
        "id": "tWlUZ8jvtveg",
        "colab_type": "text"
      },
      "source": [
        "### Aldersgrupper: Inddel i grupper 0-14; 15-64; 65+"
      ]
    },
    {
      "cell_type": "code",
      "metadata": {
        "id": "RoNWEGXFpKlX",
        "colab_type": "code",
        "colab": {}
      },
      "source": [
        "bins= [0, 15, 65, 2000] # grænser\n",
        "labels = ['børn','erhvervsaktive','pensionister'] # navne til kategorier\n",
        "\n",
        "df['age_cat'] = pd.cut(df['Age'], bins=bins, labels=labels, right=False) # implementering"
      ],
      "execution_count": 41,
      "outputs": []
    },
    {
      "cell_type": "code",
      "metadata": {
        "id": "MZXnANMEyaxt",
        "colab_type": "code",
        "colab": {
          "base_uri": "https://localhost:8080/",
          "height": 84
        },
        "outputId": "2b232fac-34ab-4de1-f53e-4e6f8c2436ba"
      },
      "source": [
        "# Frekvens aldersgrupper\n",
        "\n",
        "df.age_cat.value_counts()"
      ],
      "execution_count": 51,
      "outputs": [
        {
          "output_type": "execute_result",
          "data": {
            "text/plain": [
              "erhvervsaktive    625\n",
              "børn               78\n",
              "pensionister       11\n",
              "Name: age_cat, dtype: int64"
            ]
          },
          "metadata": {
            "tags": []
          },
          "execution_count": 51
        }
      ]
    },
    {
      "cell_type": "markdown",
      "metadata": {
        "id": "lS_Jv70NwIRy",
        "colab_type": "text"
      },
      "source": [
        "### Hvem overlever?"
      ]
    },
    {
      "cell_type": "code",
      "metadata": {
        "id": "ZG3XVL1-wVF9",
        "colab_type": "code",
        "colab": {
          "base_uri": "https://localhost:8080/",
          "height": 34
        },
        "outputId": "5556f1ff-5413-44a4-8cd5-152973fa8817"
      },
      "source": [
        "# alle\n",
        "df.Survived.mean()"
      ],
      "execution_count": 44,
      "outputs": [
        {
          "output_type": "execute_result",
          "data": {
            "text/plain": [
              "0.3838383838383838"
            ]
          },
          "metadata": {
            "tags": []
          },
          "execution_count": 44
        }
      ]
    },
    {
      "cell_type": "code",
      "metadata": {
        "id": "SE_aIKczwbLS",
        "colab_type": "code",
        "colab": {
          "base_uri": "https://localhost:8080/",
          "height": 34
        },
        "outputId": "969613a4-57fc-4fde-f709-0a059896e0af"
      },
      "source": [
        "# mænd\n",
        "df[df.Sex == 'male'].Survived.mean()"
      ],
      "execution_count": 45,
      "outputs": [
        {
          "output_type": "execute_result",
          "data": {
            "text/plain": [
              "0.18890814558058924"
            ]
          },
          "metadata": {
            "tags": []
          },
          "execution_count": 45
        }
      ]
    },
    {
      "cell_type": "code",
      "metadata": {
        "id": "fDE7CZSJwlXy",
        "colab_type": "code",
        "colab": {
          "base_uri": "https://localhost:8080/",
          "height": 34
        },
        "outputId": "5f1b7e20-f456-4afb-feb5-baccd90f69ad"
      },
      "source": [
        "# kvinder\n",
        "df[df.Sex == 'female'].Survived.mean()"
      ],
      "execution_count": 46,
      "outputs": [
        {
          "output_type": "execute_result",
          "data": {
            "text/plain": [
              "0.7420382165605095"
            ]
          },
          "metadata": {
            "tags": []
          },
          "execution_count": 46
        }
      ]
    },
    {
      "cell_type": "code",
      "metadata": {
        "id": "hZbqTX1vwoBn",
        "colab_type": "code",
        "colab": {
          "base_uri": "https://localhost:8080/",
          "height": 84
        },
        "outputId": "1a565134-79c7-47e4-fb9b-5da4baf54f33"
      },
      "source": [
        "# eller mere elegant\n",
        "\n",
        "df.groupby('Sex').Survived.mean()"
      ],
      "execution_count": 47,
      "outputs": [
        {
          "output_type": "execute_result",
          "data": {
            "text/plain": [
              "Sex\n",
              "female    0.742038\n",
              "male      0.188908\n",
              "Name: Survived, dtype: float64"
            ]
          },
          "metadata": {
            "tags": []
          },
          "execution_count": 47
        }
      ]
    },
    {
      "cell_type": "code",
      "metadata": {
        "id": "d_wlWfBhxado",
        "colab_type": "code",
        "colab": {
          "base_uri": "https://localhost:8080/",
          "height": 50
        },
        "outputId": "0a6c65bb-b0d0-4b1d-f200-7b949e5e303b"
      },
      "source": [
        "# Rige kvinder overlever,fattige mænd ikke så meget?\n",
        "\n",
        "print( df[(df.Sex == 'female') & (df.Pclass == 1)].Survived.mean())\n",
        "\n",
        "print( df[(df.Sex == 'male') & (df.Pclass == 3)].Survived.mean())\n",
        "\n",
        "# print - fordi ellers kommer output kun for den sidste beregning"
      ],
      "execution_count": 49,
      "outputs": [
        {
          "output_type": "stream",
          "text": [
            "0.13544668587896252\n",
            "0.9680851063829787\n"
          ],
          "name": "stdout"
        }
      ]
    },
    {
      "cell_type": "code",
      "metadata": {
        "id": "wEEx8gmZx6MV",
        "colab_type": "code",
        "colab": {
          "base_uri": "https://localhost:8080/",
          "height": 151
        },
        "outputId": "76de78fe-ccf3-4b8c-8a83-f4c80740cc37"
      },
      "source": [
        "# Eller:\n",
        "\n",
        "df.groupby(['Sex', 'Pclass']).Survived.mean()"
      ],
      "execution_count": 50,
      "outputs": [
        {
          "output_type": "execute_result",
          "data": {
            "text/plain": [
              "Sex     Pclass\n",
              "female  1         0.968085\n",
              "        2         0.921053\n",
              "        3         0.500000\n",
              "male    1         0.368852\n",
              "        2         0.157407\n",
              "        3         0.135447\n",
              "Name: Survived, dtype: float64"
            ]
          },
          "metadata": {
            "tags": []
          },
          "execution_count": 50
        }
      ]
    },
    {
      "cell_type": "markdown",
      "metadata": {
        "id": "HSh8cUw3y2K6",
        "colab_type": "text"
      },
      "source": [
        "![](https://img.buzzfeed.com/buzzfeed-static/static/2017-11/26/15/asset/buzzfeed-prod-fastlane-01/anigif_sub-buzz-24458-1511727236-7.gif?output-quality=auto&output-format=auto&downsize=360:*)"
      ]
    }
  ]
}