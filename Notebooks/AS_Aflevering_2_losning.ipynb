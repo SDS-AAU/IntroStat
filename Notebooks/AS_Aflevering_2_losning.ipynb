{
  "nbformat": 4,
  "nbformat_minor": 0,
  "metadata": {
    "colab": {
      "name": "AS_Aflevering_2.ipynb",
      "provenance": [],
      "collapsed_sections": [],
      "include_colab_link": true
    },
    "kernelspec": {
      "name": "python3",
      "display_name": "Python 3"
    }
  },
  "cells": [
    {
      "cell_type": "markdown",
      "metadata": {
        "id": "view-in-github",
        "colab_type": "text"
      },
      "source": [
        "<a href=\"https://colab.research.google.com/github/SDS-AAU/IntroStat/blob/master/Notebooks/AS_Aflevering_2_losning.ipynb\" target=\"_parent\"><img src=\"https://colab.research.google.com/assets/colab-badge.svg\" alt=\"Open In Colab\"/></a>"
      ]
    },
    {
      "cell_type": "markdown",
      "metadata": {
        "id": "mU3yAYjr36OC"
      },
      "source": [
        "# The Open Policing Project\n",
        "\n",
        "På en typisk dag i USA foretager politibetjente mere end 50 tusind trafikstop. The Stanford Open Policing Project analyserer og deler data fra millioner af trafikstop fra  myndigheder over hele landet. Målet er at hjælpe forskere, journalister og beslutningstagere med at undersøge og forbedre interaktionen mellem politi og offentligheden.\n",
        "\n",
        "* Du kan læse mere om projektet [her](https://openpolicing.stanford.edu/publications/). \n",
        "\n",
        "I denne opgave skal du rekonstruere nogle af de centrale forskningsresultater baseret på de Open Policing Data.\n",
        "Notebook'en guider dig gennem opgaven. \n",
        "\n",
        "* Pierson, E., Simoiu, C., Overgoor, J., Corbett-Davies, S., Jenson, D., Shoemaker, A., Ramachandran, V., Barghouty, P., Phillips, C., Shroff, R. and Goel, S., 2020. A large-scale analysis of racial disparities in police stops across the United States. Nature human behaviour, pp.1-10. [PDF](https://5harad.com/papers/100M-stops.pdf)\n",
        "\n",
        "\n",
        "\n",
        "Opgaven er allerede delvist løst. Du finder flere nye teknikker introduceret i notebook'en (hints) og koder.\n",
        "Disse er ikke nødvendigvis en del af pensum, men alligevel nyttige tilføjelser til din værktøjssæt.\n"
      ]
    },
    {
      "cell_type": "code",
      "metadata": {
        "id": "6DHjlhyM_2mx",
        "outputId": "b4325ebb-0d3b-470b-8ded-9da2ff285ce7",
        "colab": {
          "base_uri": "https://localhost:8080/",
          "height": 336
        }
      },
      "source": [
        "from IPython.display import HTML\n",
        "HTML('<iframe width=\"560\" height=\"315\" src=\"https://www.youtube-nocookie.com/embed/iwOWcuFjNfw\" frameborder=\"0\" allow=\"accelerometer; autoplay; clipboard-write; encrypted-media; gyroscope; picture-in-picture\" allowfullscreen></iframe>')"
      ],
      "execution_count": null,
      "outputs": [
        {
          "output_type": "execute_result",
          "data": {
            "text/html": [
              "<iframe width=\"560\" height=\"315\" src=\"https://www.youtube-nocookie.com/embed/iwOWcuFjNfw\" frameborder=\"0\" allow=\"accelerometer; autoplay; clipboard-write; encrypted-media; gyroscope; picture-in-picture\" allowfullscreen></iframe>"
            ],
            "text/plain": [
              "<IPython.core.display.HTML object>"
            ]
          },
          "metadata": {
            "tags": []
          },
          "execution_count": 49
        }
      ]
    },
    {
      "cell_type": "code",
      "metadata": {
        "id": "j-9zyoPdCbmY",
        "outputId": "7c33cf23-f317-458f-ab2d-a7da8834fb6a",
        "colab": {
          "base_uri": "https://localhost:8080/",
          "height": 340
        }
      },
      "source": [
        "HTML('<iframe width=\"800\" height=\"315\" src=\"https://openpolicing.stanford.edu/data/\" ></iframe>')"
      ],
      "execution_count": null,
      "outputs": [
        {
          "output_type": "execute_result",
          "data": {
            "text/html": [
              "<iframe width=\"800\" height=\"315\" src=\"https://openpolicing.stanford.edu/data/\" ></iframe>"
            ],
            "text/plain": [
              "<IPython.core.display.HTML object>"
            ]
          },
          "metadata": {
            "tags": []
          },
          "execution_count": 50
        }
      ]
    },
    {
      "cell_type": "markdown",
      "metadata": {
        "id": "wjilxJcFG0B0"
      },
      "source": [
        "Væsentlige pakker er importeret, men du må tilføje og ændre indstillinger (f.eks. Indstille plotningsparametre)"
      ]
    },
    {
      "cell_type": "code",
      "metadata": {
        "id": "K3V-WrnO3YWU",
        "outputId": "da5b8218-37a5-46df-9171-34695f751ade",
        "colab": {
          "base_uri": "https://localhost:8080/",
          "height": 72
        }
      },
      "source": [
        "# import pakker\n",
        "\n",
        "import pandas as pd\n",
        "import seaborn as sns\n",
        "sns.set()"
      ],
      "execution_count": null,
      "outputs": [
        {
          "output_type": "stream",
          "text": [
            "/usr/local/lib/python3.6/dist-packages/statsmodels/tools/_testing.py:19: FutureWarning: pandas.util.testing is deprecated. Use the functions in the public API at pandas.testing instead.\n",
            "  import pandas.util.testing as tm\n"
          ],
          "name": "stderr"
        }
      ]
    },
    {
      "cell_type": "markdown",
      "metadata": {
        "id": "An_Otz5wHMvx"
      },
      "source": [
        "## Indlæsning og indledende databehandling\n",
        "\n",
        "Data findes her: `https://sds-aau.github.io/IntroStat/Data/RI-clean.csv.gz` det er en komprimeret fil og du skal tilføje `compression='gzip'` som parameter ved indlæsning.\n",
        "Det er trafikstop fra Rhode Island 2005-2015 - i alt omkring 500.000 observationer.\n",
        "\n",
        "Skulle der opleves problemer med direkte indlæsning via URL, kan du downloade filer på *moodle*."
      ]
    },
    {
      "cell_type": "code",
      "metadata": {
        "id": "3W62a_mx4BrN",
        "outputId": "7808c174-fcc0-4e31-a1ea-49d3c868b43d",
        "colab": {
          "base_uri": "https://localhost:8080/",
          "height": 72
        }
      },
      "source": [
        "# indlæsning data\n",
        "\n",
        "data = pd.read_csv('https://sds-aau.github.io/IntroStat/Data/RI-clean.csv.gz', compression='gzip')"
      ],
      "execution_count": null,
      "outputs": [
        {
          "output_type": "stream",
          "text": [
            "/usr/local/lib/python3.6/dist-packages/IPython/core/interactiveshell.py:2718: DtypeWarning: Columns (8,16) have mixed types.Specify dtype option on import or set low_memory=False.\n",
            "  interactivity=interactivity, compiler=compiler, result=result)\n"
          ],
          "name": "stderr"
        }
      ]
    },
    {
      "cell_type": "code",
      "metadata": {
        "id": "_Px__CG_5Nmg"
      },
      "source": [
        "# Tid og dato kombineres og der defineres en tidsserie-index\n",
        "combined = data.stop_date.str.cat(data.stop_time, sep=' ')\n",
        "data['date_and_time'] = pd.to_datetime(combined)\n",
        "\n",
        "\n",
        "data.set_index('date_and_time', inplace=True)"
      ],
      "execution_count": null,
      "outputs": []
    },
    {
      "cell_type": "code",
      "metadata": {
        "id": "4UWHdJai4788"
      },
      "source": [
        "# variable-type omkodes til boolean\n",
        "\n",
        "data[['is_arrested', 'search_conducted']] = data[['is_arrested', 'search_conducted']].astype(bool)"
      ],
      "execution_count": null,
      "outputs": []
    },
    {
      "cell_type": "code",
      "metadata": {
        "id": "VCyPcu8L4E4h",
        "outputId": "8e3d491e-f959-4176-b216-4a6d59e463e1",
        "colab": {
          "base_uri": "https://localhost:8080/",
          "height": 426
        }
      },
      "source": [
        "data.head()"
      ],
      "execution_count": null,
      "outputs": [
        {
          "output_type": "execute_result",
          "data": {
            "text/html": [
              "<div>\n",
              "<style scoped>\n",
              "    .dataframe tbody tr th:only-of-type {\n",
              "        vertical-align: middle;\n",
              "    }\n",
              "\n",
              "    .dataframe tbody tr th {\n",
              "        vertical-align: top;\n",
              "    }\n",
              "\n",
              "    .dataframe thead th {\n",
              "        text-align: right;\n",
              "    }\n",
              "</style>\n",
              "<table border=\"1\" class=\"dataframe\">\n",
              "  <thead>\n",
              "    <tr style=\"text-align: right;\">\n",
              "      <th></th>\n",
              "      <th>id</th>\n",
              "      <th>state</th>\n",
              "      <th>stop_date</th>\n",
              "      <th>stop_time</th>\n",
              "      <th>location_raw</th>\n",
              "      <th>county_name</th>\n",
              "      <th>county_fips</th>\n",
              "      <th>fine_grained_location</th>\n",
              "      <th>police_department</th>\n",
              "      <th>driver_gender</th>\n",
              "      <th>driver_age_raw</th>\n",
              "      <th>driver_age</th>\n",
              "      <th>driver_race_raw</th>\n",
              "      <th>driver_race</th>\n",
              "      <th>violation_raw</th>\n",
              "      <th>violation</th>\n",
              "      <th>search_conducted</th>\n",
              "      <th>search_type_raw</th>\n",
              "      <th>search_type</th>\n",
              "      <th>contraband_found</th>\n",
              "      <th>stop_outcome</th>\n",
              "      <th>is_arrested</th>\n",
              "      <th>stop_duration</th>\n",
              "      <th>out_of_state</th>\n",
              "      <th>drugs_related_stop</th>\n",
              "      <th>district</th>\n",
              "    </tr>\n",
              "    <tr>\n",
              "      <th>date_and_time</th>\n",
              "      <th></th>\n",
              "      <th></th>\n",
              "      <th></th>\n",
              "      <th></th>\n",
              "      <th></th>\n",
              "      <th></th>\n",
              "      <th></th>\n",
              "      <th></th>\n",
              "      <th></th>\n",
              "      <th></th>\n",
              "      <th></th>\n",
              "      <th></th>\n",
              "      <th></th>\n",
              "      <th></th>\n",
              "      <th></th>\n",
              "      <th></th>\n",
              "      <th></th>\n",
              "      <th></th>\n",
              "      <th></th>\n",
              "      <th></th>\n",
              "      <th></th>\n",
              "      <th></th>\n",
              "      <th></th>\n",
              "      <th></th>\n",
              "      <th></th>\n",
              "      <th></th>\n",
              "    </tr>\n",
              "  </thead>\n",
              "  <tbody>\n",
              "    <tr>\n",
              "      <th>2005-01-02 01:55:00</th>\n",
              "      <td>RI-2005-00001</td>\n",
              "      <td>RI</td>\n",
              "      <td>2005-01-02</td>\n",
              "      <td>01:55</td>\n",
              "      <td>Zone K1</td>\n",
              "      <td>NaN</td>\n",
              "      <td>NaN</td>\n",
              "      <td>NaN</td>\n",
              "      <td>600</td>\n",
              "      <td>M</td>\n",
              "      <td>1985.0</td>\n",
              "      <td>20.0</td>\n",
              "      <td>W</td>\n",
              "      <td>White</td>\n",
              "      <td>Speeding</td>\n",
              "      <td>Speeding</td>\n",
              "      <td>False</td>\n",
              "      <td>NaN</td>\n",
              "      <td>NaN</td>\n",
              "      <td>False</td>\n",
              "      <td>Citation</td>\n",
              "      <td>False</td>\n",
              "      <td>0-15 Min</td>\n",
              "      <td>False</td>\n",
              "      <td>False</td>\n",
              "      <td>Zone K1</td>\n",
              "    </tr>\n",
              "    <tr>\n",
              "      <th>2005-01-02 20:30:00</th>\n",
              "      <td>RI-2005-00002</td>\n",
              "      <td>RI</td>\n",
              "      <td>2005-01-02</td>\n",
              "      <td>20:30</td>\n",
              "      <td>Zone X4</td>\n",
              "      <td>NaN</td>\n",
              "      <td>NaN</td>\n",
              "      <td>NaN</td>\n",
              "      <td>500</td>\n",
              "      <td>M</td>\n",
              "      <td>1987.0</td>\n",
              "      <td>18.0</td>\n",
              "      <td>W</td>\n",
              "      <td>White</td>\n",
              "      <td>Speeding</td>\n",
              "      <td>Speeding</td>\n",
              "      <td>False</td>\n",
              "      <td>NaN</td>\n",
              "      <td>NaN</td>\n",
              "      <td>False</td>\n",
              "      <td>Citation</td>\n",
              "      <td>False</td>\n",
              "      <td>16-30 Min</td>\n",
              "      <td>False</td>\n",
              "      <td>False</td>\n",
              "      <td>Zone X4</td>\n",
              "    </tr>\n",
              "    <tr>\n",
              "      <th>2005-01-04 11:30:00</th>\n",
              "      <td>RI-2005-00003</td>\n",
              "      <td>RI</td>\n",
              "      <td>2005-01-04</td>\n",
              "      <td>11:30</td>\n",
              "      <td>Zone X1</td>\n",
              "      <td>NaN</td>\n",
              "      <td>NaN</td>\n",
              "      <td>NaN</td>\n",
              "      <td>0</td>\n",
              "      <td>NaN</td>\n",
              "      <td>NaN</td>\n",
              "      <td>NaN</td>\n",
              "      <td>NaN</td>\n",
              "      <td>NaN</td>\n",
              "      <td>NaN</td>\n",
              "      <td>NaN</td>\n",
              "      <td>False</td>\n",
              "      <td>NaN</td>\n",
              "      <td>NaN</td>\n",
              "      <td>False</td>\n",
              "      <td>NaN</td>\n",
              "      <td>True</td>\n",
              "      <td>NaN</td>\n",
              "      <td>NaN</td>\n",
              "      <td>False</td>\n",
              "      <td>Zone X1</td>\n",
              "    </tr>\n",
              "    <tr>\n",
              "      <th>2005-01-04 12:55:00</th>\n",
              "      <td>RI-2005-00004</td>\n",
              "      <td>RI</td>\n",
              "      <td>2005-01-04</td>\n",
              "      <td>12:55</td>\n",
              "      <td>Zone X4</td>\n",
              "      <td>NaN</td>\n",
              "      <td>NaN</td>\n",
              "      <td>NaN</td>\n",
              "      <td>500</td>\n",
              "      <td>M</td>\n",
              "      <td>1986.0</td>\n",
              "      <td>19.0</td>\n",
              "      <td>W</td>\n",
              "      <td>White</td>\n",
              "      <td>Equipment/Inspection Violation</td>\n",
              "      <td>Equipment</td>\n",
              "      <td>False</td>\n",
              "      <td>NaN</td>\n",
              "      <td>NaN</td>\n",
              "      <td>False</td>\n",
              "      <td>Citation</td>\n",
              "      <td>False</td>\n",
              "      <td>0-15 Min</td>\n",
              "      <td>False</td>\n",
              "      <td>False</td>\n",
              "      <td>Zone X4</td>\n",
              "    </tr>\n",
              "    <tr>\n",
              "      <th>2005-01-06 01:30:00</th>\n",
              "      <td>RI-2005-00005</td>\n",
              "      <td>RI</td>\n",
              "      <td>2005-01-06</td>\n",
              "      <td>01:30</td>\n",
              "      <td>Zone X4</td>\n",
              "      <td>NaN</td>\n",
              "      <td>NaN</td>\n",
              "      <td>NaN</td>\n",
              "      <td>500</td>\n",
              "      <td>M</td>\n",
              "      <td>1978.0</td>\n",
              "      <td>27.0</td>\n",
              "      <td>B</td>\n",
              "      <td>Black</td>\n",
              "      <td>Equipment/Inspection Violation</td>\n",
              "      <td>Equipment</td>\n",
              "      <td>False</td>\n",
              "      <td>NaN</td>\n",
              "      <td>NaN</td>\n",
              "      <td>False</td>\n",
              "      <td>Citation</td>\n",
              "      <td>False</td>\n",
              "      <td>0-15 Min</td>\n",
              "      <td>False</td>\n",
              "      <td>False</td>\n",
              "      <td>Zone X4</td>\n",
              "    </tr>\n",
              "  </tbody>\n",
              "</table>\n",
              "</div>"
            ],
            "text/plain": [
              "                                id state  ... drugs_related_stop district\n",
              "date_and_time                             ...                            \n",
              "2005-01-02 01:55:00  RI-2005-00001    RI  ...              False  Zone K1\n",
              "2005-01-02 20:30:00  RI-2005-00002    RI  ...              False  Zone X4\n",
              "2005-01-04 11:30:00  RI-2005-00003    RI  ...              False  Zone X1\n",
              "2005-01-04 12:55:00  RI-2005-00004    RI  ...              False  Zone X4\n",
              "2005-01-06 01:30:00  RI-2005-00005    RI  ...              False  Zone X4\n",
              "\n",
              "[5 rows x 26 columns]"
            ]
          },
          "metadata": {
            "tags": []
          },
          "execution_count": 5
        }
      ]
    },
    {
      "cell_type": "markdown",
      "metadata": {
        "id": "m9hvW9YjKOPX"
      },
      "source": [
        "### Rens manglende data\n",
        "\n",
        "* identificer de kolonner med det meste manglende data (3 kolonner) og fjern dem\n",
        "* identificer de kolonner, hvor vi ikke kender tidspunktet for stop, dato eller personlige egenskaber for bilisten. Fjern observationer, hvor disse variabler mangler: Brug `subset=['xxx', 'xxx', 'xxx']` som argument.\n"
      ]
    },
    {
      "cell_type": "code",
      "metadata": {
        "id": "YCvNCmeS4FT6",
        "outputId": "f9552104-a0bf-4366-f265-edae896c32bd",
        "colab": {
          "base_uri": "https://localhost:8080/",
          "height": 537
        }
      },
      "source": [
        "data.info()"
      ],
      "execution_count": null,
      "outputs": [
        {
          "output_type": "stream",
          "text": [
            "<class 'pandas.core.frame.DataFrame'>\n",
            "DatetimeIndex: 480584 entries, 2005-01-02 01:55:00 to 2015-12-31 23:48:00\n",
            "Data columns (total 23 columns):\n",
            " #   Column              Non-Null Count   Dtype  \n",
            "---  ------              --------------   -----  \n",
            " 0   id                  480584 non-null  object \n",
            " 1   state               480584 non-null  object \n",
            " 2   stop_date           480584 non-null  object \n",
            " 3   stop_time           480584 non-null  object \n",
            " 4   location_raw        480584 non-null  object \n",
            " 5   police_department   480584 non-null  object \n",
            " 6   driver_gender       480584 non-null  object \n",
            " 7   driver_age_raw      480583 non-null  float64\n",
            " 8   driver_age          478946 non-null  float64\n",
            " 9   driver_race_raw     480584 non-null  object \n",
            " 10  driver_race         480584 non-null  object \n",
            " 11  violation_raw       480584 non-null  object \n",
            " 12  violation           480584 non-null  object \n",
            " 13  search_conducted    480584 non-null  bool   \n",
            " 14  search_type_raw     17762 non-null   object \n",
            " 15  search_type         17762 non-null   object \n",
            " 16  contraband_found    480584 non-null  bool   \n",
            " 17  stop_outcome        480584 non-null  object \n",
            " 18  is_arrested         480584 non-null  bool   \n",
            " 19  stop_duration       480584 non-null  object \n",
            " 20  out_of_state        479776 non-null  object \n",
            " 21  drugs_related_stop  480584 non-null  bool   \n",
            " 22  district            480584 non-null  object \n",
            "dtypes: bool(4), float64(2), object(17)\n",
            "memory usage: 75.2+ MB\n"
          ],
          "name": "stdout"
        }
      ]
    },
    {
      "cell_type": "code",
      "metadata": {
        "id": "9VVPGCJt4HE0"
      },
      "source": [
        "# fjerner hele kolonner\n",
        "data.drop(['county_name', 'county_fips', 'fine_grained_location'], axis='columns', inplace=True)"
      ],
      "execution_count": null,
      "outputs": []
    },
    {
      "cell_type": "code",
      "metadata": {
        "id": "Nw3R6bYx4NRe"
      },
      "source": [
        "# fjerner observationer med manglende data i speciffike variable\n",
        "data.dropna(subset=['stop_date', 'stop_time', 'driver_gender'], inplace=True)"
      ],
      "execution_count": null,
      "outputs": []
    },
    {
      "cell_type": "markdown",
      "metadata": {
        "id": "yFZ-3UlI5djO"
      },
      "source": [
        "## Overtrædelser\n",
        "\n",
        "\n",
        "\n",
        "*   Hvor ofte bliver folk stoppet i forbindelse med de forskellige overtrædelser (violation) i pct?\n",
        "*   Hvordan fordeler stops'ene på mænd og kvinder / \n",
        "etniciteter i pct.? \n",
        "  * Fortolk dine beregninger. Hvilke antagelser om stikprøve/population skal der tages hensyn til?\n",
        "  * Kan vi have en formodning om, at kvinder kører gennemsnitlig bedre end mænd?\n",
        "  * Kan vi formode, at hvide bilister kører dårligst?\n",
        "\n",
        "*   Hvordan fordeler de forskellige overtrædelser sig på hhv mænd og kvinder og de forskellige etniciteter i procent? Her kan du bruge `pd.crostab` funktionen og `\"columns\"` som normaliseringsparameter. \n",
        "    * Fortolk dine beregninger ved at beskrive de mest \"signifikante\" forskelle mellem bilister af de forskellige etniciteter."
      ]
    },
    {
      "cell_type": "code",
      "metadata": {
        "id": "gYPopveI4TcX",
        "outputId": "5b47672c-5caf-4e4e-e477-54ad0d2dc6e7",
        "colab": {
          "base_uri": "https://localhost:8080/",
          "height": 139
        }
      },
      "source": [
        "# optælling overtrædelse\n",
        "data.violation.value_counts(normalize=True)"
      ],
      "execution_count": null,
      "outputs": [
        {
          "output_type": "execute_result",
          "data": {
            "text/plain": [
              "Speeding               0.559186\n",
              "Moving violation       0.187747\n",
              "Equipment              0.127449\n",
              "Other                  0.050389\n",
              "Registration/plates    0.041262\n",
              "Seat belt              0.033967\n",
              "Name: violation, dtype: float64"
            ]
          },
          "metadata": {
            "tags": []
          },
          "execution_count": 13
        }
      ]
    },
    {
      "cell_type": "code",
      "metadata": {
        "id": "bRPApLzH4eYU",
        "outputId": "e6544079-518f-4008-f624-88129b717b71",
        "colab": {
          "base_uri": "https://localhost:8080/",
          "height": 69
        }
      },
      "source": [
        "# optælling køn\n",
        "data.driver_gender.value_counts(normalize=True)"
      ],
      "execution_count": null,
      "outputs": [
        {
          "output_type": "execute_result",
          "data": {
            "text/plain": [
              "M    0.727128\n",
              "F    0.272872\n",
              "Name: driver_gender, dtype: float64"
            ]
          },
          "metadata": {
            "tags": []
          },
          "execution_count": 14
        }
      ]
    },
    {
      "cell_type": "code",
      "metadata": {
        "id": "Li-FIBWf5gUe",
        "outputId": "ef3406a3-1a41-46dd-a9e1-bf6117e9614a",
        "colab": {
          "base_uri": "https://localhost:8080/",
          "height": 121
        }
      },
      "source": [
        "# optælling race\n",
        "data.driver_race.value_counts(normalize=True)"
      ],
      "execution_count": null,
      "outputs": [
        {
          "output_type": "execute_result",
          "data": {
            "text/plain": [
              "White       0.717286\n",
              "Black       0.142695\n",
              "Hispanic    0.110538\n",
              "Asian       0.026684\n",
              "Other       0.002797\n",
              "Name: driver_race, dtype: float64"
            ]
          },
          "metadata": {
            "tags": []
          },
          "execution_count": 15
        }
      ]
    },
    {
      "cell_type": "code",
      "metadata": {
        "id": "FvR5-5LM5iAD",
        "outputId": "7defcaef-35c6-4e78-aa65-106802e022d9",
        "colab": {
          "base_uri": "https://localhost:8080/",
          "height": 263
        }
      },
      "source": [
        "# crosstab violation vs gender\n",
        "\n",
        "pd.crosstab(data.violation, data.driver_gender, normalize='columns')"
      ],
      "execution_count": null,
      "outputs": [
        {
          "output_type": "execute_result",
          "data": {
            "text/html": [
              "<div>\n",
              "<style scoped>\n",
              "    .dataframe tbody tr th:only-of-type {\n",
              "        vertical-align: middle;\n",
              "    }\n",
              "\n",
              "    .dataframe tbody tr th {\n",
              "        vertical-align: top;\n",
              "    }\n",
              "\n",
              "    .dataframe thead th {\n",
              "        text-align: right;\n",
              "    }\n",
              "</style>\n",
              "<table border=\"1\" class=\"dataframe\">\n",
              "  <thead>\n",
              "    <tr style=\"text-align: right;\">\n",
              "      <th>driver_gender</th>\n",
              "      <th>F</th>\n",
              "      <th>M</th>\n",
              "    </tr>\n",
              "    <tr>\n",
              "      <th>violation</th>\n",
              "      <th></th>\n",
              "      <th></th>\n",
              "    </tr>\n",
              "  </thead>\n",
              "  <tbody>\n",
              "    <tr>\n",
              "      <th>Equipment</th>\n",
              "      <td>0.107055</td>\n",
              "      <td>0.135102</td>\n",
              "    </tr>\n",
              "    <tr>\n",
              "      <th>Moving violation</th>\n",
              "      <td>0.136581</td>\n",
              "      <td>0.206948</td>\n",
              "    </tr>\n",
              "    <tr>\n",
              "      <th>Other</th>\n",
              "      <td>0.028908</td>\n",
              "      <td>0.058450</td>\n",
              "    </tr>\n",
              "    <tr>\n",
              "      <th>Registration/plates</th>\n",
              "      <td>0.043077</td>\n",
              "      <td>0.040581</td>\n",
              "    </tr>\n",
              "    <tr>\n",
              "      <th>Seat belt</th>\n",
              "      <td>0.027071</td>\n",
              "      <td>0.036555</td>\n",
              "    </tr>\n",
              "    <tr>\n",
              "      <th>Speeding</th>\n",
              "      <td>0.657308</td>\n",
              "      <td>0.522364</td>\n",
              "    </tr>\n",
              "  </tbody>\n",
              "</table>\n",
              "</div>"
            ],
            "text/plain": [
              "driver_gender               F         M\n",
              "violation                              \n",
              "Equipment            0.107055  0.135102\n",
              "Moving violation     0.136581  0.206948\n",
              "Other                0.028908  0.058450\n",
              "Registration/plates  0.043077  0.040581\n",
              "Seat belt            0.027071  0.036555\n",
              "Speeding             0.657308  0.522364"
            ]
          },
          "metadata": {
            "tags": []
          },
          "execution_count": 30
        }
      ]
    },
    {
      "cell_type": "code",
      "metadata": {
        "id": "55KgqPhK5nHT",
        "outputId": "343ccc9f-3318-452c-a0e3-c6ebeeee6d57",
        "colab": {
          "base_uri": "https://localhost:8080/",
          "height": 263
        }
      },
      "source": [
        "# crosstab violation vs driver_race\n",
        "pd.crosstab(data.violation, data.driver_race, normalize='columns')"
      ],
      "execution_count": null,
      "outputs": [
        {
          "output_type": "execute_result",
          "data": {
            "text/html": [
              "<div>\n",
              "<style scoped>\n",
              "    .dataframe tbody tr th:only-of-type {\n",
              "        vertical-align: middle;\n",
              "    }\n",
              "\n",
              "    .dataframe tbody tr th {\n",
              "        vertical-align: top;\n",
              "    }\n",
              "\n",
              "    .dataframe thead th {\n",
              "        text-align: right;\n",
              "    }\n",
              "</style>\n",
              "<table border=\"1\" class=\"dataframe\">\n",
              "  <thead>\n",
              "    <tr style=\"text-align: right;\">\n",
              "      <th>driver_race</th>\n",
              "      <th>Asian</th>\n",
              "      <th>Black</th>\n",
              "      <th>Hispanic</th>\n",
              "      <th>Other</th>\n",
              "      <th>White</th>\n",
              "    </tr>\n",
              "    <tr>\n",
              "      <th>violation</th>\n",
              "      <th></th>\n",
              "      <th></th>\n",
              "      <th></th>\n",
              "      <th></th>\n",
              "      <th></th>\n",
              "    </tr>\n",
              "  </thead>\n",
              "  <tbody>\n",
              "    <tr>\n",
              "      <th>Equipment</th>\n",
              "      <td>0.087648</td>\n",
              "      <td>0.180687</td>\n",
              "      <td>0.222653</td>\n",
              "      <td>0.073661</td>\n",
              "      <td>0.103877</td>\n",
              "    </tr>\n",
              "    <tr>\n",
              "      <th>Moving violation</th>\n",
              "      <td>0.142077</td>\n",
              "      <td>0.233577</td>\n",
              "      <td>0.247125</td>\n",
              "      <td>0.203125</td>\n",
              "      <td>0.171118</td>\n",
              "    </tr>\n",
              "    <tr>\n",
              "      <th>Other</th>\n",
              "      <td>0.038911</td>\n",
              "      <td>0.069834</td>\n",
              "      <td>0.062252</td>\n",
              "      <td>0.069196</td>\n",
              "      <td>0.045046</td>\n",
              "    </tr>\n",
              "    <tr>\n",
              "      <th>Registration/plates</th>\n",
              "      <td>0.028618</td>\n",
              "      <td>0.067938</td>\n",
              "      <td>0.076276</td>\n",
              "      <td>0.015625</td>\n",
              "      <td>0.031130</td>\n",
              "    </tr>\n",
              "    <tr>\n",
              "      <th>Seat belt</th>\n",
              "      <td>0.020742</td>\n",
              "      <td>0.035624</td>\n",
              "      <td>0.056943</td>\n",
              "      <td>0.008185</td>\n",
              "      <td>0.030689</td>\n",
              "    </tr>\n",
              "    <tr>\n",
              "      <th>Speeding</th>\n",
              "      <td>0.682002</td>\n",
              "      <td>0.412339</td>\n",
              "      <td>0.334751</td>\n",
              "      <td>0.630208</td>\n",
              "      <td>0.618141</td>\n",
              "    </tr>\n",
              "  </tbody>\n",
              "</table>\n",
              "</div>"
            ],
            "text/plain": [
              "driver_race             Asian     Black  Hispanic     Other     White\n",
              "violation                                                            \n",
              "Equipment            0.087648  0.180687  0.222653  0.073661  0.103877\n",
              "Moving violation     0.142077  0.233577  0.247125  0.203125  0.171118\n",
              "Other                0.038911  0.069834  0.062252  0.069196  0.045046\n",
              "Registration/plates  0.028618  0.067938  0.076276  0.015625  0.031130\n",
              "Seat belt            0.020742  0.035624  0.056943  0.008185  0.030689\n",
              "Speeding             0.682002  0.412339  0.334751  0.630208  0.618141"
            ]
          },
          "metadata": {
            "tags": []
          },
          "execution_count": 20
        }
      ]
    },
    {
      "cell_type": "markdown",
      "metadata": {
        "id": "zGDAnq1m57UQ"
      },
      "source": [
        "## Ransagning af biler og fund af stoffer\n",
        "\n",
        "* Beregn sansynligheden (gennemsnit) for ransagning af bil `search_contucted` for hver etnicitet - her er det nemmest at bruge `groupby`. Brug `reset_index()` efter denne beregning for at definere en ny dataframe.\n",
        "* Lav den samme beregning for sansynligheden at der findes stoffer ved ransagning (`contraband_found`)\n",
        "* Beregn en ny variable i din `search_rate` dataframe `success_rate` som ratio af de to beregninger. \n",
        "* Fortolk dine resultater mht search_rate, find_rate og success_rate\n"
      ]
    },
    {
      "cell_type": "code",
      "metadata": {
        "id": "IawQi1nd5pJ1"
      },
      "source": [
        "# beregning search_rate\n",
        "search_rate = data.groupby('driver_race').search_conducted.mean()\n",
        "search_rate = search_rate.reset_index()"
      ],
      "execution_count": null,
      "outputs": []
    },
    {
      "cell_type": "code",
      "metadata": {
        "id": "VZHhsa7M58w7"
      },
      "source": [
        "# beregning find_rate\n",
        "find_rate = data.groupby('driver_race').contraband_found.mean()\n",
        "find_rate = find_rate.reset_index()"
      ],
      "execution_count": null,
      "outputs": []
    },
    {
      "cell_type": "code",
      "metadata": {
        "id": "yjwQemlv6DEp"
      },
      "source": [
        "# beregning success_rate\n",
        "search_rate['success_rate'] = find_rate.contraband_found / search_rate.search_conducted"
      ],
      "execution_count": null,
      "outputs": []
    },
    {
      "cell_type": "code",
      "metadata": {
        "id": "xkA-OHHm6ML8",
        "outputId": "fc85f3a5-13f4-4fac-d753-79453a457bf2",
        "colab": {
          "base_uri": "https://localhost:8080/",
          "height": 202
        }
      },
      "source": [
        "search_rate"
      ],
      "execution_count": null,
      "outputs": [
        {
          "output_type": "execute_result",
          "data": {
            "text/html": [
              "<div>\n",
              "<style scoped>\n",
              "    .dataframe tbody tr th:only-of-type {\n",
              "        vertical-align: middle;\n",
              "    }\n",
              "\n",
              "    .dataframe tbody tr th {\n",
              "        vertical-align: top;\n",
              "    }\n",
              "\n",
              "    .dataframe thead th {\n",
              "        text-align: right;\n",
              "    }\n",
              "</style>\n",
              "<table border=\"1\" class=\"dataframe\">\n",
              "  <thead>\n",
              "    <tr style=\"text-align: right;\">\n",
              "      <th></th>\n",
              "      <th>driver_race</th>\n",
              "      <th>search_conducted</th>\n",
              "      <th>success_rate</th>\n",
              "    </tr>\n",
              "  </thead>\n",
              "  <tbody>\n",
              "    <tr>\n",
              "      <th>0</th>\n",
              "      <td>Asian</td>\n",
              "      <td>0.021834</td>\n",
              "      <td>0.332143</td>\n",
              "    </tr>\n",
              "    <tr>\n",
              "      <th>1</th>\n",
              "      <td>Black</td>\n",
              "      <td>0.062849</td>\n",
              "      <td>0.366589</td>\n",
              "    </tr>\n",
              "    <tr>\n",
              "      <th>2</th>\n",
              "      <td>Hispanic</td>\n",
              "      <td>0.060030</td>\n",
              "      <td>0.331452</td>\n",
              "    </tr>\n",
              "    <tr>\n",
              "      <th>3</th>\n",
              "      <td>Other</td>\n",
              "      <td>0.011161</td>\n",
              "      <td>0.066667</td>\n",
              "    </tr>\n",
              "    <tr>\n",
              "      <th>4</th>\n",
              "      <td>White</td>\n",
              "      <td>0.028917</td>\n",
              "      <td>0.386035</td>\n",
              "    </tr>\n",
              "  </tbody>\n",
              "</table>\n",
              "</div>"
            ],
            "text/plain": [
              "  driver_race  search_conducted  success_rate\n",
              "0       Asian          0.021834      0.332143\n",
              "1       Black          0.062849      0.366589\n",
              "2    Hispanic          0.060030      0.331452\n",
              "3       Other          0.011161      0.066667\n",
              "4       White          0.028917      0.386035"
            ]
          },
          "metadata": {
            "tags": []
          },
          "execution_count": 28
        }
      ]
    },
    {
      "cell_type": "markdown",
      "metadata": {
        "id": "a5V4sw1563CT"
      },
      "source": [
        "## Visualisering og fordelinger\n",
        "\n",
        "* lav en boxplot (flere i en visualisering), der visualiserer bilisters alder versus overtrædelse\n",
        "* gruppér dataene mht overtrædelse og lav beskrivende statistikker over bilisters alder\n",
        "* Hvordan fortolker du højere værdier for standardafvigelse ved nogle af de overtrædelser?\n",
        "* Hvilke overtrædelser er mere typisk for ældre bilister?\n",
        "* Hvad kan disse \"Other\" overtrædelser være og hvad kan være årsagen?\n",
        "\n"
      ]
    },
    {
      "cell_type": "code",
      "metadata": {
        "id": "FxobFQ1v6eUW",
        "outputId": "ad9cb103-6e6a-4793-fe21-24f95d044795",
        "colab": {
          "base_uri": "https://localhost:8080/",
          "height": 303
        }
      },
      "source": [
        "# boxplot\n",
        "\n",
        "sns.boxplot('driver_age', 'violation', data=data)"
      ],
      "execution_count": null,
      "outputs": [
        {
          "output_type": "execute_result",
          "data": {
            "text/plain": [
              "<matplotlib.axes._subplots.AxesSubplot at 0x7f9eddaa2c18>"
            ]
          },
          "metadata": {
            "tags": []
          },
          "execution_count": 31
        },
        {
          "output_type": "display_data",
          "data": {
            "image/png": "[encoded data removed]",
            "text/plain": [
              "<Figure size 432x288 with 1 Axes>"
            ]
          },
          "metadata": {
            "tags": [],
            "needs_background": "light"
          }
        }
      ]
    },
    {
      "cell_type": "code",
      "metadata": {
        "id": "R48RgFO966B7",
        "outputId": "e07836aa-8006-4203-832a-fc1a0ed2cc12",
        "colab": {
          "base_uri": "https://localhost:8080/",
          "height": 263
        }
      },
      "source": [
        "# beregning beskrivende statistik\n",
        "data.groupby('violation').driver_age.describe()"
      ],
      "execution_count": null,
      "outputs": [
        {
          "output_type": "execute_result",
          "data": {
            "text/html": [
              "<div>\n",
              "<style scoped>\n",
              "    .dataframe tbody tr th:only-of-type {\n",
              "        vertical-align: middle;\n",
              "    }\n",
              "\n",
              "    .dataframe tbody tr th {\n",
              "        vertical-align: top;\n",
              "    }\n",
              "\n",
              "    .dataframe thead th {\n",
              "        text-align: right;\n",
              "    }\n",
              "</style>\n",
              "<table border=\"1\" class=\"dataframe\">\n",
              "  <thead>\n",
              "    <tr style=\"text-align: right;\">\n",
              "      <th></th>\n",
              "      <th>count</th>\n",
              "      <th>mean</th>\n",
              "      <th>std</th>\n",
              "      <th>min</th>\n",
              "      <th>25%</th>\n",
              "      <th>50%</th>\n",
              "      <th>75%</th>\n",
              "      <th>max</th>\n",
              "    </tr>\n",
              "    <tr>\n",
              "      <th>violation</th>\n",
              "      <th></th>\n",
              "      <th></th>\n",
              "      <th></th>\n",
              "      <th></th>\n",
              "      <th></th>\n",
              "      <th></th>\n",
              "      <th></th>\n",
              "      <th></th>\n",
              "    </tr>\n",
              "  </thead>\n",
              "  <tbody>\n",
              "    <tr>\n",
              "      <th>Equipment</th>\n",
              "      <td>61151.0</td>\n",
              "      <td>31.778041</td>\n",
              "      <td>11.342139</td>\n",
              "      <td>16.0</td>\n",
              "      <td>23.0</td>\n",
              "      <td>28.0</td>\n",
              "      <td>38.0</td>\n",
              "      <td>89.0</td>\n",
              "    </tr>\n",
              "    <tr>\n",
              "      <th>Moving violation</th>\n",
              "      <td>89934.0</td>\n",
              "      <td>36.042020</td>\n",
              "      <td>13.115671</td>\n",
              "      <td>15.0</td>\n",
              "      <td>25.0</td>\n",
              "      <td>33.0</td>\n",
              "      <td>46.0</td>\n",
              "      <td>99.0</td>\n",
              "    </tr>\n",
              "    <tr>\n",
              "      <th>Other</th>\n",
              "      <td>23548.0</td>\n",
              "      <td>39.756880</td>\n",
              "      <td>13.089626</td>\n",
              "      <td>16.0</td>\n",
              "      <td>29.0</td>\n",
              "      <td>40.0</td>\n",
              "      <td>49.0</td>\n",
              "      <td>93.0</td>\n",
              "    </tr>\n",
              "    <tr>\n",
              "      <th>Registration/plates</th>\n",
              "      <td>19805.0</td>\n",
              "      <td>32.722545</td>\n",
              "      <td>11.105843</td>\n",
              "      <td>15.0</td>\n",
              "      <td>24.0</td>\n",
              "      <td>30.0</td>\n",
              "      <td>40.0</td>\n",
              "      <td>87.0</td>\n",
              "    </tr>\n",
              "    <tr>\n",
              "      <th>Seat belt</th>\n",
              "      <td>16317.0</td>\n",
              "      <td>32.247717</td>\n",
              "      <td>11.449219</td>\n",
              "      <td>17.0</td>\n",
              "      <td>24.0</td>\n",
              "      <td>29.0</td>\n",
              "      <td>38.0</td>\n",
              "      <td>85.0</td>\n",
              "    </tr>\n",
              "    <tr>\n",
              "      <th>Speeding</th>\n",
              "      <td>268191.0</td>\n",
              "      <td>33.484867</td>\n",
              "      <td>12.767760</td>\n",
              "      <td>15.0</td>\n",
              "      <td>23.0</td>\n",
              "      <td>30.0</td>\n",
              "      <td>42.0</td>\n",
              "      <td>97.0</td>\n",
              "    </tr>\n",
              "  </tbody>\n",
              "</table>\n",
              "</div>"
            ],
            "text/plain": [
              "                        count       mean        std  ...   50%   75%   max\n",
              "violation                                            ...                  \n",
              "Equipment             61151.0  31.778041  11.342139  ...  28.0  38.0  89.0\n",
              "Moving violation      89934.0  36.042020  13.115671  ...  33.0  46.0  99.0\n",
              "Other                 23548.0  39.756880  13.089626  ...  40.0  49.0  93.0\n",
              "Registration/plates   19805.0  32.722545  11.105843  ...  30.0  40.0  87.0\n",
              "Seat belt             16317.0  32.247717  11.449219  ...  29.0  38.0  85.0\n",
              "Speeding             268191.0  33.484867  12.767760  ...  30.0  42.0  97.0\n",
              "\n",
              "[6 rows x 8 columns]"
            ]
          },
          "metadata": {
            "tags": []
          },
          "execution_count": 33
        }
      ]
    },
    {
      "cell_type": "markdown",
      "metadata": {
        "id": "_3pN94Ls7BKr"
      },
      "source": [
        "### Anholdelser over tid\n",
        "\n",
        "* Lav en beregning af gennemsnitlige anholdeser af bilister af forskellige etniciteter per år.\n",
        "\n",
        "* Lav en lineplot, der visualiserer udviklingen, hue=etnicitet\n",
        "\n",
        "* hvordan kan det fortolkes?"
      ]
    },
    {
      "cell_type": "code",
      "metadata": {
        "id": "BMx-EdZ963nI"
      },
      "source": [
        "# opsamling af data per år\n",
        "\n",
        "yearly_arrests_per_race = data.groupby('driver_race').resample('Y').is_arrested.mean().reset_index()"
      ],
      "execution_count": null,
      "outputs": []
    },
    {
      "cell_type": "code",
      "metadata": {
        "id": "9nRGocRe7Pru",
        "outputId": "ff8dc454-5519-4541-b2f3-e5d982ba62b1",
        "colab": {
          "base_uri": "https://localhost:8080/",
          "height": 303
        }
      },
      "source": [
        "# lineplot\n",
        "\n",
        "sns.lineplot(x = yearly_arrests_per_race.date_and_time, y = yearly_arrests_per_race.is_arrested, hue=yearly_arrests_per_race.driver_race)"
      ],
      "execution_count": null,
      "outputs": [
        {
          "output_type": "execute_result",
          "data": {
            "text/plain": [
              "<matplotlib.axes._subplots.AxesSubplot at 0x7f9ed34106d8>"
            ]
          },
          "metadata": {
            "tags": []
          },
          "execution_count": 36
        },
        {
          "output_type": "display_data",
          "data": {
            "image/png": "[encoded data removed]",
            "text/plain": [
              "<Figure size 432x288 with 1 Axes>"
            ]
          },
          "metadata": {
            "tags": [],
            "needs_background": "light"
          }
        }
      ]
    },
    {
      "cell_type": "markdown",
      "metadata": {
        "id": "4PHRZbWz7Z4R"
      },
      "source": [
        "## Vejrets indflydelse?\n",
        "\n",
        "er der flere trafikstop, når det er varmere og færre anholdelser under barske vejrforhold?\n",
        "Her finder du daglige vejrstatistikker fra NOAA (USAs DMI): `https://sds-aau.github.io/IntroStat/Data/RI-weather.csv`\n",
        "\n",
        "*Dette er en ret avanceret del og mest tænkt som **bonus**. Du kan forvente at møde `merge` til eksamen men ikke en så kompleks kombination af det, tidsserie-index og aggregering.*\n",
        "\n",
        "\n",
        "\n",
        "* Indlæs vejrdata og lav en tidsserie-index\n",
        "\n",
        "* Beregn temperatur i celsius og en indikator for ekstreme vejrforhold.\n",
        "\n",
        "* saml data  ved at bruge *dag* i index som nøgle for din merge.\n",
        "\n",
        "* ved at bruge merge, taber du tidsserie index - koper index fra `data` og `weather[['temp_celsius','AWND','extreme']]`\n",
        "\n",
        "Lav en ny dataframe med de kolonner:\n",
        "* daglig temperatur\n",
        "* gennemsnitlig vindstyrke\n",
        "* antal af ekstreme vejrforhold\n",
        "* antal af stops per dag\n",
        "* gennsmsnitlige ransagelser\n",
        "* gennemsnitlige anholdeser per dag\n",
        "\n",
        "\n",
        "* beregn en korrelationsmatrix of fortolk de største værdier."
      ]
    },
    {
      "cell_type": "code",
      "metadata": {
        "id": "rXfswmxm7UQl"
      },
      "source": [
        "# indlæs data\n",
        "weather = pd.read_csv('https://sds-aau.github.io/IntroStat/Data/RI-weather.csv')"
      ],
      "execution_count": null,
      "outputs": []
    },
    {
      "cell_type": "code",
      "metadata": {
        "id": "ApC-5vXV7Ydt"
      },
      "source": [
        "# lav tidsserie-index\n",
        "weather.set_index(pd.to_datetime(weather.DATE), inplace=True)\n"
      ],
      "execution_count": null,
      "outputs": []
    },
    {
      "cell_type": "code",
      "metadata": {
        "id": "IOm4DaY57b7i"
      },
      "source": [
        "# Her defineres en funktion til omregning af fahrenheit til celsius\n",
        "\n",
        "def fahr_to_celsius(temp_fahr):\n",
        "    \"\"\"Convert Fahrenheit to Celsius\n",
        "    \n",
        "    Return Celsius conversion of input\"\"\"\n",
        "    temp_celsius = (temp_fahr - 32) * 5 / 9\n",
        "    return temp_celsius"
      ],
      "execution_count": null,
      "outputs": []
    },
    {
      "cell_type": "code",
      "metadata": {
        "id": "Kp0dQgPM7gow"
      },
      "source": [
        "# weather['TAVG'] regnes om til celsius\n",
        "weather['temp_celsius'] = fahr_to_celsius(weather['TAVG'])"
      ],
      "execution_count": null,
      "outputs": []
    },
    {
      "cell_type": "code",
      "metadata": {
        "id": "yV5V9__M90ev"
      },
      "source": [
        "# ekstrem vejr som summe af forskellige kategorier af ekstremvejr WT01 - WT22\n",
        "weather['extreme'] = weather.loc[:,'WT01':'WT22'].sum(axis='columns')"
      ],
      "execution_count": null,
      "outputs": []
    },
    {
      "cell_type": "code",
      "metadata": {
        "id": "VSH5s2lZ7lze"
      },
      "source": [
        "# merge af stops of vejrdata\n",
        "data_w = pd.merge(data, weather[['temp_celsius','AWND','extreme']], left_on=data.index.date, right_on=weather.index.date)"
      ],
      "execution_count": null,
      "outputs": []
    },
    {
      "cell_type": "code",
      "metadata": {
        "id": "wLYEhtx_7wZT"
      },
      "source": [
        "# hent index tilbage\n",
        "data_w.index = data.index"
      ],
      "execution_count": null,
      "outputs": []
    },
    {
      "cell_type": "code",
      "metadata": {
        "id": "Py710HJeWgYB"
      },
      "source": [
        "# samling af ny dataframe med per-dag værdier\n",
        "\n",
        "s1 = data_w.resample('D').size()\n",
        "s1.name = 'n_stops'\n",
        "s2 = data_w.resample('D').is_arrested.mean()\n",
        "s3 = data_w.resample('D').temp_celsius.mean()\n",
        "s4 = data_w.resample('D').search_conducted.mean()\n",
        "s5 = data_w.resample('D').extreme.mean()\n",
        "s6 = data_w.resample('D').AWND.mean()\n",
        "\n",
        "data_agg = pd.concat([s1,s2,s3,s4,s5,s6], axis=1)"
      ],
      "execution_count": null,
      "outputs": []
    },
    {
      "cell_type": "code",
      "metadata": {
        "id": "2Xw4O-emYYh9",
        "outputId": "f822f0c9-f467-4b6d-c55d-8794edc5e658",
        "colab": {
          "base_uri": "https://localhost:8080/",
          "height": 233
        }
      },
      "source": [
        "# beregning korrelationsmatrix\n",
        "data_agg.corr()"
      ],
      "execution_count": null,
      "outputs": [
        {
          "output_type": "execute_result",
          "data": {
            "text/html": [
              "<div>\n",
              "<style scoped>\n",
              "    .dataframe tbody tr th:only-of-type {\n",
              "        vertical-align: middle;\n",
              "    }\n",
              "\n",
              "    .dataframe tbody tr th {\n",
              "        vertical-align: top;\n",
              "    }\n",
              "\n",
              "    .dataframe thead th {\n",
              "        text-align: right;\n",
              "    }\n",
              "</style>\n",
              "<table border=\"1\" class=\"dataframe\">\n",
              "  <thead>\n",
              "    <tr style=\"text-align: right;\">\n",
              "      <th></th>\n",
              "      <th>n_stops</th>\n",
              "      <th>is_arrested</th>\n",
              "      <th>temp_celsius</th>\n",
              "      <th>search_conducted</th>\n",
              "      <th>extreme</th>\n",
              "      <th>AWND</th>\n",
              "    </tr>\n",
              "  </thead>\n",
              "  <tbody>\n",
              "    <tr>\n",
              "      <th>n_stops</th>\n",
              "      <td>1.000000</td>\n",
              "      <td>-0.123760</td>\n",
              "      <td>0.122640</td>\n",
              "      <td>-0.116920</td>\n",
              "      <td>-0.213867</td>\n",
              "      <td>-0.117377</td>\n",
              "    </tr>\n",
              "    <tr>\n",
              "      <th>is_arrested</th>\n",
              "      <td>-0.123760</td>\n",
              "      <td>1.000000</td>\n",
              "      <td>-0.058610</td>\n",
              "      <td>0.411924</td>\n",
              "      <td>0.079471</td>\n",
              "      <td>0.029470</td>\n",
              "    </tr>\n",
              "    <tr>\n",
              "      <th>temp_celsius</th>\n",
              "      <td>0.122640</td>\n",
              "      <td>-0.058610</td>\n",
              "      <td>1.000000</td>\n",
              "      <td>-0.054477</td>\n",
              "      <td>-0.040765</td>\n",
              "      <td>-0.133814</td>\n",
              "    </tr>\n",
              "    <tr>\n",
              "      <th>search_conducted</th>\n",
              "      <td>-0.116920</td>\n",
              "      <td>0.411924</td>\n",
              "      <td>-0.054477</td>\n",
              "      <td>1.000000</td>\n",
              "      <td>0.085202</td>\n",
              "      <td>0.010887</td>\n",
              "    </tr>\n",
              "    <tr>\n",
              "      <th>extreme</th>\n",
              "      <td>-0.213867</td>\n",
              "      <td>0.079471</td>\n",
              "      <td>-0.040765</td>\n",
              "      <td>0.085202</td>\n",
              "      <td>1.000000</td>\n",
              "      <td>0.079756</td>\n",
              "    </tr>\n",
              "    <tr>\n",
              "      <th>AWND</th>\n",
              "      <td>-0.117377</td>\n",
              "      <td>0.029470</td>\n",
              "      <td>-0.133814</td>\n",
              "      <td>0.010887</td>\n",
              "      <td>0.079756</td>\n",
              "      <td>1.000000</td>\n",
              "    </tr>\n",
              "  </tbody>\n",
              "</table>\n",
              "</div>"
            ],
            "text/plain": [
              "                   n_stops  is_arrested  ...   extreme      AWND\n",
              "n_stops           1.000000    -0.123760  ... -0.213867 -0.117377\n",
              "is_arrested      -0.123760     1.000000  ...  0.079471  0.029470\n",
              "temp_celsius      0.122640    -0.058610  ... -0.040765 -0.133814\n",
              "search_conducted -0.116920     0.411924  ...  0.085202  0.010887\n",
              "extreme          -0.213867     0.079471  ...  1.000000  0.079756\n",
              "AWND             -0.117377     0.029470  ...  0.079756  1.000000\n",
              "\n",
              "[6 rows x 6 columns]"
            ]
          },
          "metadata": {
            "tags": []
          },
          "execution_count": 48
        }
      ]
    }
  ]
}